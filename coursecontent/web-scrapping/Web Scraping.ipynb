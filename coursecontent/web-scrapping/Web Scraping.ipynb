{
 "cells": [
  {
   "cell_type": "markdown",
   "metadata": {},
   "source": [
    "# <font color=green>1. MEU PRIMEIRO SCRAPING"
   ]
  },
  {
   "cell_type": "markdown",
   "metadata": {},
   "source": [
    "# 1.1. Introdução"
   ]
  },
  {
   "cell_type": "markdown",
   "metadata": {},
   "source": [
    "## *Web Scraping* é o termo utilizado para definir a prática de coletar automaticamente informações na Internet. Isto é feito, geralmente, por meio de programas que simulam a navegação humana na Web."
   ]
  },
  {
   "cell_type": "markdown",
   "metadata": {},
   "source": [
    "# 1.2. Ambiente e bibliotecas\n",
    "### Utilizaremos em nosso treinamento o navegador Google Chrome"
   ]
  },
  {
   "cell_type": "code",
   "execution_count": 2,
   "metadata": {
    "colab": {},
    "colab_type": "code",
    "id": "e9pXIMIWByAp"
   },
   "outputs": [
    {
     "name": "stdout",
     "output_type": "stream",
     "text": [
      "BeautifulSoup -> 4.8.0\n",
      "urllib -> 3.7\n",
      "pandas -> 0.24.2\n"
     ]
    }
   ],
   "source": [
    "import bs4\n",
    "import urllib.request as urllib_request\n",
    "import pandas\n",
    "\n",
    "print(\"BeautifulSoup ->\", bs4.__version__)\n",
    "print(\"urllib ->\", urllib_request.__version__)\n",
    "print(\"pandas ->\", pandas.__version__)"
   ]
  },
  {
   "cell_type": "markdown",
   "metadata": {},
   "source": [
    "# 1.3. Meu primeiro scraping"
   ]
  },
  {
   "cell_type": "code",
   "execution_count": 3,
   "metadata": {},
   "outputs": [
    {
     "name": "stdout",
     "output_type": "stream",
     "text": [
      "Hello World!!!\n",
      "Web Scraping é o termo utilizado para definir a prática de coletar automaticamente informações na Internet. Isto é feito, geralmente, por meio de programas que simulam a navegação humana na Web.\n"
     ]
    }
   ],
   "source": [
    "from urllib.request import urlopen\n",
    "from bs4 import BeautifulSoup\n",
    "\n",
    "url = 'http://alura-site-scraping.herokuapp.com/hello-world.php'\n",
    "\n",
    "response = urlopen(url)\n",
    "html = response.read()\n",
    "\n",
    "soup = BeautifulSoup(html,'html.parser')\n",
    "\n",
    "print(soup.find('h1', id='hello-world').get_text())\n",
    "print(soup.find('p').get_text())"
   ]
  },
  {
   "cell_type": "markdown",
   "metadata": {},
   "source": [
    "---\n",
    "# <font color=green>2. OBTENDO E TRATANDO O CONTEÚDO DE UM HTML"
   ]
  },
  {
   "cell_type": "markdown",
   "metadata": {},
   "source": [
    "# 2.1. Entendendo a web"
   ]
  },
  {
   "cell_type": "markdown",
   "metadata": {},
   "source": [
    "<img src=\"./web/web.png\" width=\"700\">"
   ]
  },
  {
   "cell_type": "markdown",
   "metadata": {},
   "source": [
    "# 2.2. Obtendo o conteúdo HTML de um site"
   ]
  },
  {
   "cell_type": "markdown",
   "metadata": {},
   "source": [
    "# urllib.request\n",
    "## https://docs.python.org/3/library/urllib.html"
   ]
  },
  {
   "cell_type": "code",
   "execution_count": 4,
   "metadata": {
    "colab": {
     "base_uri": "https://localhost:8080/",
     "height": 54
    },
    "colab_type": "code",
    "id": "c1pKGnTpgvFU",
    "outputId": "b6b7e32d-4c3e-4f52-a8ba-0b1cbfe15ea4"
   },
   "outputs": [
    {
     "data": {
      "text/plain": [
       "<!DOCTYPE html>\n",
       "\n",
       "<html lang=\"pt-br\">\n",
       "<head>\n",
       "<meta charset=\"utf-8\"/>\n",
       "<meta content=\"width=device-width, initial-scale=1, shrink-to-fit=no\" name=\"viewport\"/>\n",
       "<title>Alura Motors</title>\n",
       "<style>\n",
       "\t\t/*Regra para a animacao*/\n",
       "\t\t@keyframes spin {\n",
       "\t\t\t0% { transform: rotate(0deg); }\n",
       "\t\t\t100% { transform: rotate(360deg); }\n",
       "\t\t}\n",
       "\t\t/*Mudando o tamanho do icone de resposta*/\n",
       "\t\tdiv.glyphicon {\n",
       "\t\t\tcolor:#6B8E23;\n",
       "\t\t\tfont-size: 38px;\n",
       "\t\t}\n",
       "\t\t/*Classe que mostra a animacao 'spin'*/\n",
       "\t\t.loader {\n",
       "\t\t\tborder: 16px solid #f3f3f3;\n",
       "\t\t\tborder-radius: 50%;\n",
       "\t\t\tborder-top: 16px solid #3498db;\n",
       "\t\t\twidth: 80px;\n",
       "\t\t\theight: 80px;\n",
       "\t\t\t-webkit-animation: spin 2s linear infinite;\n",
       "\t\t\tanimation: spin 2s linear infinite;\n",
       "\t\t}\n",
       "\t</style>\n",
       "<link crossorigin=\"anonymous\" href=\"https://maxcdn.bootstrapcdn.com/bootstrap/3.3.7/css/bootstrap.min.css\" integrity=\"sha384-BVYiiSIFeK1dGmJRAkycuHAHRg32OmUcww7on3RYdg4Va+PmSTsz/K68vbdEjh4u\" rel=\"stylesheet\"/>\n",
       "<link href=\"css/styles.css\" media=\"all\" rel=\"stylesheet\"/>\n",
       "<script src=\"https://code.jquery.com/jquery-1.12.4.js\"></script>\n",
       "<script crossorigin=\"anonymous\" integrity=\"sha384-Tc5IQib027qvyjSMfHjOMaLkfuWVxZxUPnCJA7l2mCWNIpG9mGCD8wGNIcPD7Txa\" src=\"https://maxcdn.bootstrapcdn.com/bootstrap/3.3.7/js/bootstrap.min.js\"></script>\n",
       "<script src=\"js/index.js\" type=\"text/javascript\"></script>\n",
       "<script>\n",
       "\t\trequisitar(\"https://alura-scraping.herokuapp.com/produtos?_page=\"+1+\"&_limit=10\")\n",
       "\t</script>\n",
       "</head>\n",
       "<body cz-shortcut-listen=\"true\">\n",
       "<noscript>You need to enable JavaScript to run this app.</noscript>\n",
       "<div aria-labelledby=\"loadingModal_label\" class=\"modal fade\" data-backdrop=\"static\" id=\"loadingModal\" role=\"dialog\" tabindex=\"-1\">\n",
       "<div class=\"modal-dialog\" role=\"document\">\n",
       "<div class=\"modal-content\">\n",
       "<div class=\"modal-header\">\n",
       "<h5 class=\"modal-title\" id=\"loadingModal_label\">\n",
       "<span class=\"glyphicon glyphicon-refresh\"></span>Aguarde...\n",
       "\t\t\t\t\t</h5>\n",
       "</div>\n",
       "<div class=\"modal-body\">\n",
       "<div class=\"alert\" role=\"alert\">\n",
       "<center>\n",
       "<div class=\"loader\" id=\"loader\"></div><br/>\n",
       "<h4><b id=\"loadingModal_content\"></b></h4>\n",
       "</center>\n",
       "</div>\n",
       "</div>\n",
       "</div>\n",
       "</div>\n",
       "</div>\n",
       "<div id=\"root\">\n",
       "<header>\n",
       "<nav class=\"navbar navbar-inverse\" style=\"margin-bottom: 0;\">\n",
       "<div class=\"container\" style=\"margin-bottom: -20px;\">\n",
       "<div class=\"navbar\">\n",
       "<a class=\"navbar-brand\" href=\"./index.php\" title=\"Alura Motors\">\n",
       "<img alt=\"Alura\" class=\"d-inline-block align-top\" src=\"img/alura-logo.svg\"/>Motors\n",
       "\t\t\t\t\t\t</a>\n",
       "<ul class=\"nav navbar-nav\" style=\"margin-top: 35px;\">\n",
       "<li><a href=\"./hello-world.php\">Hello World</a></li>\n",
       "<li><a href=\"./index.php\">Anúncios</a></li>\n",
       "</ul>\n",
       "</div>\n",
       "</div>\n",
       "</nav>\n",
       "</header>\n",
       "<div class=\"container\">\n",
       "<h1 class=\"sub-header\">Veículos de Luxo Novos e Usados - Todas as Marcas</h1>\n",
       "<div class=\"row\">\n",
       "<div class=\"col-md-12\">\n",
       "<div class=\"container\" style=\"width: 100%\">\n",
       "<div class=\"type-select\">246 veículos encontrados</div>\n",
       "<div class=\"container-pagination\" style=\"float: right\">\n",
       "<span class=\"info-pages\">Página 1 de 25</span>\n",
       "</div>\n",
       "</div>\n",
       "<div id=\"container-cards\" style=\"height: 100%\">\n",
       "<div class=\"well card\">\n",
       "<div class=\"col-md-3 image-card\">\n",
       "<img alt=\"Foto\" height=\"155\" src=\"https://caelum-online-public.s3.amazonaws.com/1381-scraping/01/img-cars/lamborghini-aventador/lamborghini-aventador-2932196__340.jpg\" width=\"220\"/>\n",
       "</div>\n",
       "<div class=\"col-md-6 body-card\">\n",
       "<p class=\"txt-name inline\">LAMBORGHINI AVENTADOR</p>\n",
       "<p class=\"txt-category badge badge-secondary inline\">USADO</p>\n",
       "<p class=\"txt-motor\">Motor 1.8 16v</p>\n",
       "<p class=\"txt-description\">Ano 1993 - 55.286 km</p>\n",
       "<ul class=\"lst-items\">\n",
       "<li class=\"txt-items\">► 4 X 4</li>\n",
       "<li class=\"txt-items\">► Câmera de estacionamento</li>\n",
       "<li class=\"txt-items\">► Controle de tração</li>\n",
       "<li class=\"txt-items\">► Sensor de estacionamento</li>\n",
       "<li class=\"txt-items\">...</li>\n",
       "</ul>\n",
       "<p class=\"txt-location\">Belo Horizonte - MG</p>\n",
       "</div>\n",
       "<div class=\"col-md-3 value-card\">\n",
       "<div class=\"value\">\n",
       "<p class=\"txt-value\">R$ 338.000</p>\n",
       "</div>\n",
       "</div>\n",
       "</div>\n",
       "<div class=\"well card\">\n",
       "<div class=\"col-md-3 image-card\">\n",
       "<img alt=\"Foto\" height=\"155\" src=\"https://caelum-online-public.s3.amazonaws.com/1381-scraping/01/img-cars/bmw-m2/bmw-m2-2970882__340.jpg\" width=\"220\"/>\n",
       "</div>\n",
       "<div class=\"col-md-6 body-card\">\n",
       "<p class=\"txt-name inline\">BMW M2</p>\n",
       "<p class=\"txt-category badge badge-secondary inline\">USADO</p>\n",
       "<p class=\"txt-motor\">Motor 3.0 32v</p>\n",
       "<p class=\"txt-description\">Ano 2018 - 83.447 km</p>\n",
       "<ul class=\"lst-items\">\n",
       "<li class=\"txt-items\">► Câmera de estacionamento</li>\n",
       "<li class=\"txt-items\">► Controle de estabilidade</li>\n",
       "<li class=\"txt-items\">► Travas elétricas</li>\n",
       "<li class=\"txt-items\">► Freios ABS</li>\n",
       "<li class=\"txt-items\">...</li>\n",
       "</ul>\n",
       "<p class=\"txt-location\">Belo Horizonte - MG</p>\n",
       "</div>\n",
       "<div class=\"col-md-3 value-card\">\n",
       "<div class=\"value\">\n",
       "<p class=\"txt-value\">R$ 346.000</p>\n",
       "</div>\n",
       "</div>\n",
       "</div>\n",
       "<div class=\"well card\">\n",
       "<div class=\"col-md-3 image-card\">\n",
       "<img alt=\"Foto\" height=\"155\" src=\"https://caelum-online-public.s3.amazonaws.com/1381-scraping/01/img-cars/alfa/alfa-1823056__340.jpg\" width=\"220\"/>\n",
       "</div>\n",
       "<div class=\"col-md-6 body-card\">\n",
       "<p class=\"txt-name inline\">ALFA</p>\n",
       "<p class=\"txt-category badge badge-secondary inline\">USADO</p>\n",
       "<p class=\"txt-motor\">Motor 1.8 16v</p>\n",
       "<p class=\"txt-description\">Ano 2004 - 19.722 km</p>\n",
       "<ul class=\"lst-items\">\n",
       "<li class=\"txt-items\">► Central multimídia</li>\n",
       "<li class=\"txt-items\">► Bancos de couro</li>\n",
       "<li class=\"txt-items\">► Rodas de liga</li>\n",
       "<li class=\"txt-items\">► Câmera de estacionamento</li>\n",
       "<li class=\"txt-items\">...</li>\n",
       "</ul>\n",
       "<p class=\"txt-location\">Rio de Janeiro - RJ</p>\n",
       "</div>\n",
       "<div class=\"col-md-3 value-card\">\n",
       "<div class=\"value\">\n",
       "<p class=\"txt-value\">R$ 480.000</p>\n",
       "</div>\n",
       "</div>\n",
       "</div>\n",
       "<div class=\"well card\">\n",
       "<div class=\"col-md-3 image-card\">\n",
       "<img alt=\"Foto\" height=\"155\" src=\"https://caelum-online-public.s3.amazonaws.com/1381-scraping/01/img-cars/puech/puech-4055386__340.jpg\" width=\"220\"/>\n",
       "</div>\n",
       "<div class=\"col-md-6 body-card\">\n",
       "<p class=\"txt-name inline\">PUECH</p>\n",
       "<p class=\"txt-category badge badge-secondary inline\">USADO</p>\n",
       "<p class=\"txt-motor\">Motor Diesel V8</p>\n",
       "<p class=\"txt-description\">Ano 1992 - 34.335 km</p>\n",
       "<ul class=\"lst-items\">\n",
       "<li class=\"txt-items\">► Bancos de couro</li>\n",
       "<li class=\"txt-items\">► Freios ABS</li>\n",
       "<li class=\"txt-items\">► Rodas de liga</li>\n",
       "<li class=\"txt-items\">► Câmbio automático</li>\n",
       "<li class=\"txt-items\">...</li>\n",
       "</ul>\n",
       "<p class=\"txt-location\">São Paulo - SP</p>\n",
       "</div>\n",
       "<div class=\"col-md-3 value-card\">\n",
       "<div class=\"value\">\n",
       "<p class=\"txt-value\">R$ 133.000</p>\n",
       "</div>\n",
       "</div>\n",
       "</div>\n",
       "<div class=\"well card\">\n",
       "<div class=\"col-md-3 image-card\">\n",
       "<img alt=\"Foto\" height=\"155\" src=\"https://caelum-online-public.s3.amazonaws.com/1381-scraping/01/img-cars/lamborghini-murcielago/lamborghini-murcielago-2872974__340.jpg\" width=\"220\"/>\n",
       "</div>\n",
       "<div class=\"col-md-6 body-card\">\n",
       "<p class=\"txt-name inline\">LAMBORGHINI MURCIELAGO</p>\n",
       "<p class=\"txt-category badge badge-secondary inline\">USADO</p>\n",
       "<p class=\"txt-motor\">Motor 1.0 8v</p>\n",
       "<p class=\"txt-description\">Ano 1991 - 464 km</p>\n",
       "<ul class=\"lst-items\">\n",
       "<li class=\"txt-items\">► Central multimídia</li>\n",
       "<li class=\"txt-items\">► Teto panorâmico</li>\n",
       "<li class=\"txt-items\">► Sensor crepuscular</li>\n",
       "<li class=\"txt-items\">► Piloto automático</li>\n",
       "<li class=\"txt-items\">...</li>\n",
       "</ul>\n",
       "<p class=\"txt-location\">Belo Horizonte - MG</p>\n",
       "</div>\n",
       "<div class=\"col-md-3 value-card\">\n",
       "<div class=\"value\">\n",
       "<p class=\"txt-value\">R$ 175.000</p>\n",
       "</div>\n",
       "</div>\n",
       "</div>\n",
       "<div class=\"well card\">\n",
       "<div class=\"col-md-3 image-card\">\n",
       "<img alt=\"Foto\" height=\"155\" src=\"https://caelum-online-public.s3.amazonaws.com/1381-scraping/01/img-cars/aston-martin/aston-martin-2977916__340.jpg\" width=\"220\"/>\n",
       "</div>\n",
       "<div class=\"col-md-6 body-card\">\n",
       "<p class=\"txt-name inline\">ASTON MARTIN</p>\n",
       "<p class=\"txt-category badge badge-secondary inline\">USADO</p>\n",
       "<p class=\"txt-opportunity badge badge-danger inline\">OPORTUNIDADE</p>\n",
       "<p class=\"txt-motor\">Motor Diesel V6</p>\n",
       "<p class=\"txt-description\">Ano 2004 - 50.189 km</p>\n",
       "<ul class=\"lst-items\">\n",
       "<li class=\"txt-items\">► Painel digital</li>\n",
       "<li class=\"txt-items\">► Controle de tração</li>\n",
       "<li class=\"txt-items\">► Teto panorâmico</li>\n",
       "<li class=\"txt-items\">► Central multimídia</li>\n",
       "<li class=\"txt-items\">...</li>\n",
       "</ul>\n",
       "<p class=\"txt-location\">Belo Horizonte - MG</p>\n",
       "</div>\n",
       "<div class=\"col-md-3 value-card\">\n",
       "<div class=\"value\">\n",
       "<p class=\"txt-value\">R$ 239.000</p>\n",
       "</div>\n",
       "</div>\n",
       "</div>\n",
       "<div class=\"well card\">\n",
       "<div class=\"col-md-3 image-card\">\n",
       "<img alt=\"Foto\" height=\"155\" src=\"https://caelum-online-public.s3.amazonaws.com/1381-scraping/01/img-cars/tvr/tvr-2943925__340.jpg\" width=\"220\"/>\n",
       "</div>\n",
       "<div class=\"col-md-6 body-card\">\n",
       "<p class=\"txt-name inline\">TVR</p>\n",
       "<p class=\"txt-category badge badge-secondary inline\">USADO</p>\n",
       "<p class=\"txt-motor\">Motor 4.0 Turbo</p>\n",
       "<p class=\"txt-description\">Ano 2014 - 17.778 km</p>\n",
       "<ul class=\"lst-items\">\n",
       "<li class=\"txt-items\">► 4 X 4</li>\n",
       "<li class=\"txt-items\">► Teto panorâmico</li>\n",
       "<li class=\"txt-items\">► Central multimídia</li>\n",
       "<li class=\"txt-items\">► Controle de estabilidade</li>\n",
       "<li class=\"txt-items\">...</li>\n",
       "</ul>\n",
       "<p class=\"txt-location\">Belo Horizonte - MG</p>\n",
       "</div>\n",
       "<div class=\"col-md-3 value-card\">\n",
       "<div class=\"value\">\n",
       "<p class=\"txt-value\">R$ 115.000</p>\n",
       "</div>\n",
       "</div>\n",
       "</div>\n",
       "<div class=\"well card\">\n",
       "<div class=\"col-md-3 image-card\">\n",
       "<img alt=\"Foto\" height=\"155\" src=\"https://caelum-online-public.s3.amazonaws.com/1381-scraping/01/img-cars/excalibur/excalibur-2916730__340.jpg\" width=\"220\"/>\n",
       "</div>\n",
       "<div class=\"col-md-6 body-card\">\n",
       "<p class=\"txt-name inline\">EXCALIBUR</p>\n",
       "<p class=\"txt-category badge badge-secondary inline\">USADO</p>\n",
       "<p class=\"txt-motor\">Motor 3.0 32v</p>\n",
       "<p class=\"txt-description\">Ano 2009 - 81.251 km</p>\n",
       "<ul class=\"lst-items\">\n",
       "<li class=\"txt-items\">► Painel digital</li>\n",
       "<li class=\"txt-items\">► Câmbio automático</li>\n",
       "<li class=\"txt-items\">► Sensor de chuva</li>\n",
       "<li class=\"txt-items\">► Travas elétricas</li>\n",
       "<li class=\"txt-items\">...</li>\n",
       "</ul>\n",
       "<p class=\"txt-location\">Rio de Janeiro - RJ</p>\n",
       "</div>\n",
       "<div class=\"col-md-3 value-card\">\n",
       "<div class=\"value\">\n",
       "<p class=\"txt-value\">R$ 114.000</p>\n",
       "</div>\n",
       "</div>\n",
       "</div>\n",
       "<div class=\"well card\">\n",
       "<div class=\"col-md-3 image-card\">\n",
       "<img alt=\"Foto\" height=\"155\" src=\"https://caelum-online-public.s3.amazonaws.com/1381-scraping/01/img-cars/mclaren/mclaren-2855240__340.jpg\" width=\"220\"/>\n",
       "</div>\n",
       "<div class=\"col-md-6 body-card\">\n",
       "<p class=\"txt-name inline\">MCLAREN</p>\n",
       "<p class=\"txt-category badge badge-secondary inline\">NOVO</p>\n",
       "<p class=\"txt-motor\">Motor Diesel</p>\n",
       "<p class=\"txt-description\">Ano 2019 - 0 km</p>\n",
       "<ul class=\"lst-items\">\n",
       "<li class=\"txt-items\">► Central multimídia</li>\n",
       "<li class=\"txt-items\">► Câmera de estacionamento</li>\n",
       "<li class=\"txt-items\">► Câmbio automático</li>\n",
       "<li class=\"txt-items\">► Ar condicionado</li>\n",
       "<li class=\"txt-items\">...</li>\n",
       "</ul>\n",
       "<p class=\"txt-location\">São Paulo - SP</p>\n",
       "</div>\n",
       "<div class=\"col-md-3 value-card\">\n",
       "<div class=\"value\">\n",
       "<p class=\"txt-value\">R$ 75.000</p>\n",
       "</div>\n",
       "</div>\n",
       "</div>\n",
       "<div class=\"well card\">\n",
       "<div class=\"col-md-3 image-card\">\n",
       "<img alt=\"Foto\" height=\"155\" src=\"https://caelum-online-public.s3.amazonaws.com/1381-scraping/01/img-cars/toyota/toyota-3245397__340.jpg\" width=\"220\"/>\n",
       "</div>\n",
       "<div class=\"col-md-6 body-card\">\n",
       "<p class=\"txt-name inline\">TOYOTA</p>\n",
       "<p class=\"txt-category badge badge-secondary inline\">USADO</p>\n",
       "<p class=\"txt-opportunity badge badge-danger inline\">OPORTUNIDADE</p>\n",
       "<p class=\"txt-motor\">Motor 4.0 Turbo</p>\n",
       "<p class=\"txt-description\">Ano 1999 - 12.536 km</p>\n",
       "<ul class=\"lst-items\">\n",
       "<li class=\"txt-items\">► Bancos de couro</li>\n",
       "<li class=\"txt-items\">► Freios ABS</li>\n",
       "<li class=\"txt-items\">► Piloto automático</li>\n",
       "<li class=\"txt-items\">► Controle de estabilidade</li>\n",
       "<li class=\"txt-items\">...</li>\n",
       "</ul>\n",
       "<p class=\"txt-location\">São Paulo - SP</p>\n",
       "</div>\n",
       "<div class=\"col-md-3 value-card\">\n",
       "<div class=\"value\">\n",
       "<p class=\"txt-value\">R$ 117.000</p>\n",
       "</div>\n",
       "</div>\n",
       "</div> </div>\n",
       "<div class=\"type-select\">246 veículos encontrados</div>\n",
       "<div class=\"container-pagination\" style=\"float: right\">\n",
       "<span class=\"info-pages\">Página 1 de 25</span>\n",
       "</div>\n",
       "</div>\n",
       "</div>\n",
       "</div>\n",
       "</div>\n",
       "</body></html>\n",
       "<footer>\n",
       "<nav class=\"navbar navbar-inverse\">\n",
       "<div class=\"container\" style=\"margin-bottom: 10px;\">\n",
       "<div class=\"navbar\">\n",
       "<a class=\"navbar-brand\" href=\"./index.php\" title=\"Alura Motors\">\n",
       "<img alt=\"Alura\" class=\"d-inline-block align-top\" src=\"img/alura-logo.svg\"/>Motors\n",
       "\t\t\t\t\t\t</a>\n",
       "<p style=\"color: #fff; text-align: center; margin-top: 40px;\">Aplicação para treinamento de web scraping</p>\n",
       "</div>\n",
       "</div>\n",
       "</nav>\n",
       "</footer>\n",
       "\n",
       "\n"
      ]
     },
     "execution_count": 4,
     "metadata": {},
     "output_type": "execute_result"
    }
   ],
   "source": [
    "from urllib.request import urlopen\n",
    "\n",
    "url = 'http://alura-site-scraping.herokuapp.com/index.php'\n",
    "\n",
    "response = urlopen(url)\n",
    "html = response.read()\n",
    "soup = BeautifulSoup(html,'html.parser')\n",
    "soup"
   ]
  },
  {
   "cell_type": "markdown",
   "metadata": {},
   "source": [
    "## https://docs.python.org/3/library/urllib.request.html#urllib.request.Request"
   ]
  },
  {
   "cell_type": "code",
   "execution_count": 5,
   "metadata": {},
   "outputs": [
    {
     "name": "stdout",
     "output_type": "stream",
     "text": [
      "<!DOCTYPE html>\n",
      "<html lang=\"pt-BR\"><head><meta charset=\"utf-8\"/><meta content=\"width=device-width,initial-scale=1,minimum-scale=1.0\" name=\"viewport\"/><title>Alura | Cursos online de tecnologia</title><meta content=\"Aprenda Programação, Mobile, Front-end, Design, UX, Infraestrutura, Marketing Digital, Data Science, Inovação e Gestão com didática inovadora focada no mercado real de trabalho\" name=\"description\"/><link href=\"https://www.alura.com.br\" rel=\"canonical\"/><link crossorigin=\"\" href=\"https://fonts.googleapis.com/css?display=swap&amp;family=Open+Sans:300,400,400i,600,700,800\" rel=\"stylesheet\"/><link crossorigin=\"\" href=\"https://fonts.gstatic.com/\" rel=\"preconnect\"/><link href=\"/bundle,base/_reset,base/base,base/buttons,base/colors,base/titulos.1572363839.css\" rel=\"stylesheet\"/><link href=\"/bundle,home/homeNova/career-colors,home/homeNova/careers,home/homeNova/companies,home/homeNova/features,home/homeNova/home,home/homeNova/mobile,home/homeNova/testimonies.1572363839.css\" rel=\"stylesheet\"/><link href=\"/assets/css/block/elasticMedia.1570550707.css\" rel=\"stylesheet\"/><meta content=\"pt_BR\" property=\"og:locale\"/><meta content=\"Aprenda Programação, Mobile, Front-end, Design, UX, Infraestrutura, Marketing Digital, Data Science, Inovação e Gestão com didática inovadora focada no mercado real de trabalho\" property=\"og:description\"/><meta content=\"Alura | Cursos online de tecnologia\" property=\"og:title\"/><meta content=\"Alura\" property=\"og:site_name\"/><meta content=\"https://www.alura.com.br/\" property=\"og:url\"/><meta content=\"https://www.alura.com.br/assets/img/alura-share.1571848411.png\" property=\"og:image\"/><meta content=\"Alura logo\" property=\"og:image:alt\"/><meta content=\"140078819399376\" property=\"fb:app_id\"/><meta content=\"website\" property=\"og:type\"/><meta content=\"summary_large_image\" name=\"twitter:card\"/><meta content=\"#2A7AE4\" name=\"theme-color\"/></head><body class=\"\"> <script>(function(w,d,s,l,i){w[l]=w[l]||[];w[l].push({'gtm.start':\n",
      "\t\t\t\tnew Date().getTime(),event:'gtm.js'});var f=d.getElementsByTagName(s)[0],\n",
      "\t\t\t\tj=d.createElement(s),dl=l!='dataLayer'?'&l='+l:'';j.async=true;j.src=\n",
      "\t\t\t\t'https://www.googletagmanager.com/gtm.js?id='+i+dl;f.parentNode.insertBefore(j,f);\n",
      "            })(window,document,'script','dataLayer','GTM-TN542JN');</script> <noscript>\n",
      "<iframe height=\"0\" src=\"https://www.googletagmanager.com/ns.html?id=GTM-TN542JN\" style=\"display:none;visibility:hidden\" width=\"0\"></iframe>\n",
      "</noscript> <script>setTimeout(function() {\n",
      "\t\t\tnew Image().src = \"https://www.facebook.com/tr?id=1067810189950610&ev=PageView&noscript=1\";\n",
      "\t\t}, 300);</script> <script type=\"application/ld+json\">{\n",
      "      \"@context\": \"http://schema.org\",\n",
      "      \"@type\": \"BreadcrumbList\",\n",
      "\n",
      "      \"itemListElement\": [{\n",
      "        \"@type\": \"ListItem\",\n",
      "        \"position\": 1,\n",
      "        \"item\": {\n",
      "          \"@id\": \"https://www.alura.com.br\",\n",
      "          \"name\": \"Alura\"\n",
      "        }\n",
      "      }   \n",
      "            ]\n",
      "    }</script> <div class=\"home\"><div class=\"home__header\"><link href=\"/assets/css/block/header.1570550707.css\" rel=\"stylesheet\"/><link href=\"/assets/css/block/headerHome.1570550707.css\" rel=\"stylesheet\"/><style>@media (min-width: 1100px) {\n",
      "\t\t\t\t.header-navegacao-cursos-lista {\n",
      "\t\t\t\t\tdisplay: none;\n",
      "\t\t\t\t}\n",
      "\t\t\t\t.header__nav {\n",
      "\t\t\t\t\tborder: none;\n",
      "\t\t\t\t\tmargin-top:10px;\n",
      "\t\t\t\t}\n",
      "\t\t\t\t.header {\n",
      "\t\t\t\t\tpadding-bottom: 0;\n",
      "\t\t\t\t}\n",
      "\t\t\t}</style><header class=\"header--home\"><div class=\"container\"><nav class=\"header__nav--home\">\n",
      "<a class=\"header__nav__link--home header__nav__link--logo\" href=\"/\">\n",
      "<img alt=\"Alura\" class=\"header__nav__link__logo\" src=\"/assets/img/home/alura-logo.1570550707.svg\"/>\n",
      "</a><div class=\"header__nav__wrapper--home header__nav__wrapper--ctas--home\"><div aria-label=\"Busca\" class=\"header-utilitario-busca header-utilitario-busca--home\" href=\"/busca\">\n",
      "<svg class=\"header-utilitario-busca-icone--home\" xmlns:xlink=\"http://www.w3.org/1999/xlink\">\n",
      "<use xlink:href=\"/svg,1570550707/header#icon-header-busca-home\"></use>\n",
      "</svg></div>\n",
      "<a class=\"header__nav__link--home header__nav__link--entrar--home\" href=\"https://cursos.alura.com.br/loginForm?urlAfterLogin=https://cursos.alura.com.br/dashboard\">Entrar</a>\n",
      "<a class=\"header__nav__link--home header__nav__link--cta--home\" href=\"/planos-cursos-online\">Matricule-se</a></div><div class=\"header__nav__wrapper--home header__nav__wrapper--menu header__nav__wrapper--menu--home\"><div class=\"header-barraBusca header-barraBusca--home\"><div class=\"container\"><form action=\"/busca\" class=\"header-barraBusca-form\">\n",
      "<label for=\"header-barraBusca-form-campoBusca\">Qual curso procura?</label>\n",
      "<input class=\"header-barraBusca-form-serch-input header-barra-busca--home\" id=\"header-barraBusca-form-campoBusca\" name=\"query\" placeholder=\"O que você quer aprender?\" type=\"search\"/>\n",
      "<button class=\"header-barraBusca-form-submit\" type=\"submit\">Buscar</button></form></div></div><div class=\"nav__courses__link--home header-navegacao-cursos header-navegacao-cursos--home header__menu-options--home header__menu-allcourses--home\" href=\"/cursos-online-tecnologia\">\n",
      "<svg class=\"header-navegacao-cursos-icone\" xmlns:xlink=\"http://www.w3.org/1999/xlink\">\n",
      "<use xlink:href=\"/svg,1570550707/header#icon-header-icon-arrow-home\"></use>\n",
      "</svg>\n",
      "<span>Todos os</span>\n",
      "<span>Cursos</span></div>\n",
      "<a class=\"nav__courses__link--home header__menu-options--home\" href=\"/formacoes\">\n",
      "<span>Formações</span></a>\n",
      "<a class=\"nav__courses__link--home header__menu-options--home\" href=\"/empresas\">\n",
      "<span>Para</span>\n",
      "<span>Empresas</span>\n",
      "</a>\n",
      "<a class=\"nav__courses__link--home header__menu-options--home\" href=\"/como-funciona\">\n",
      "<span>Como</span>\n",
      "<span>Funciona</span>\n",
      "</a></div><ul class=\"header-navegacao-cursos-lista container header__menu-allcourses--home\"><li class=\"header-cursos-lista-categoria\">\n",
      "<a class=\"unlinkify\" href=\"/cursos-online-mobile\">\n",
      "<svg class=\"header-cursos-lista-categoria--icon\" xmlns:xlink=\"http://www.w3.org/1999/xlink\">\n",
      "<use xlink:href=\"/svg,1570550707/categorias#icon-categorias-mobile\"></use>\n",
      "</svg><div class=\"header-lista-categoria-nome--home\">\n",
      "<span>Mobile</span></div>\n",
      "</a></li><li class=\"header-cursos-lista-categoria\">\n",
      "<a class=\"unlinkify\" href=\"/cursos-online-programacao\">\n",
      "<svg class=\"header-cursos-lista-categoria--icon\" xmlns:xlink=\"http://www.w3.org/1999/xlink\">\n",
      "<use xlink:href=\"/svg,1570550707/categorias#icon-categorias-programacao\"></use>\n",
      "</svg><div class=\"header-lista-categoria-nome--home\">\n",
      "<span>Programação</span></div>\n",
      "</a></li><li class=\"header-cursos-lista-categoria\">\n",
      "<a class=\"unlinkify\" href=\"/cursos-online-front-end\">\n",
      "<svg class=\"header-cursos-lista-categoria--icon\" xmlns:xlink=\"http://www.w3.org/1999/xlink\">\n",
      "<use xlink:href=\"/svg,1570550707/categorias#icon-categorias-front-end\"></use>\n",
      "</svg><div class=\"header-lista-categoria-nome--home\">\n",
      "<span>Front-end</span></div>\n",
      "</a></li><li class=\"header-cursos-lista-categoria\">\n",
      "<a class=\"unlinkify\" href=\"/cursos-online-infraestrutura\">\n",
      "<svg class=\"header-cursos-lista-categoria--icon\" xmlns:xlink=\"http://www.w3.org/1999/xlink\">\n",
      "<use xlink:href=\"/svg,1570550707/categorias#icon-categorias-infraestrutura\"></use>\n",
      "</svg><div class=\"header-lista-categoria-nome--home\">\n",
      "<span>Infraestrutura</span></div>\n",
      "</a></li><li class=\"header-cursos-lista-categoria\">\n",
      "<a class=\"unlinkify\" href=\"/cursos-online-design-ux\">\n",
      "<svg class=\"header-cursos-lista-categoria--icon\" xmlns:xlink=\"http://www.w3.org/1999/xlink\">\n",
      "<use xlink:href=\"/svg,1570550707/categorias#icon-categorias-design-ux\"></use>\n",
      "</svg><div class=\"header-lista-categoria-nome--home\">\n",
      "<span>Design &amp; UX</span></div>\n",
      "</a></li><li class=\"header-cursos-lista-categoria\">\n",
      "<a class=\"unlinkify\" href=\"/cursos-online-marketing-digital\">\n",
      "<svg class=\"header-cursos-lista-categoria--icon\" xmlns:xlink=\"http://www.w3.org/1999/xlink\">\n",
      "<use xlink:href=\"/svg,1570550707/categorias#icon-categorias-marketing-digital\"></use>\n",
      "</svg><div class=\"header-lista-categoria-nome--home\">\n",
      "<span>Marketing Digital</span></div>\n",
      "</a></li><li class=\"header-cursos-lista-categoria\">\n",
      "<a class=\"unlinkify\" href=\"/cursos-online-data-science\">\n",
      "<svg class=\"header-cursos-lista-categoria--icon\" xmlns:xlink=\"http://www.w3.org/1999/xlink\">\n",
      "<use xlink:href=\"/svg,1570550707/categorias#icon-categorias-data-science\"></use>\n",
      "</svg><div class=\"header-lista-categoria-nome--home\">\n",
      "<span>Data Science</span></div>\n",
      "</a></li><li class=\"header-cursos-lista-categoria\">\n",
      "<a class=\"unlinkify\" href=\"/cursos-online-inovacao-gestao\">\n",
      "<svg class=\"header-cursos-lista-categoria--icon\" xmlns:xlink=\"http://www.w3.org/1999/xlink\">\n",
      "<use xlink:href=\"/svg,1570550707/categorias#icon-categorias-inovacao-gestao\"></use>\n",
      "</svg><div class=\"header-lista-categoria-nome--home\">\n",
      "<span>Inovação &amp; Gestão</span></div>\n",
      "</a></li></ul></nav></div></header><div class=\"container\"><div class=\"home--background\"><div class=\"home__titles\"><h1 class=\"home__titles__main-title\">Cursos de Tecnologia e Negócios Digitais</h1><p class=\"home__titles__sub-title\">Você vai estudar, praticar, discutir e aprender em uma comunidade de inquietos e inovadores</p></div></div><link href=\"/assets/css/block/categories.1570550707.css\" rel=\"stylesheet\"/><link href=\"/assets/css/block/navCategoriasHome.1572363839.css\" rel=\"stylesheet\"/><link href=\"/assets/css/block/navCategoriasHome.1572363839.css\" rel=\"stylesheet\"/><nav class=\"categories--home\"><div class=\"categories__elements--home\"><div class=\"categories__wrapper__links--home\">\n",
      "<a class=\"categories__link--home\" href=\"/cursos-online-mobile\"><div class=\"categories__link-wrapper--home\"><div class=\"categories__svg-wrapper--home\" style=\"background:#ffba05;\">\n",
      "<svg class=\"pagina-categoria__svg--home categories__svg--home\" xmlns:xlink=\"http://www.w3.org/1999/xlink\">\n",
      "<use xlink:href=\"/svg,1570550707/categorias#icon-categorias-mobile\"></use>\n",
      "</svg></div><div style=\"color:#ffba05;\">\n",
      "<span class=\"categories__link__text\">Cursos de</span><h4 class=\"categories__link__category-name\">Mobile</h4></div></div>\n",
      "</a><nav class=\"categories__calls--home\">\n",
      "<a class=\"categories__calls__description--home\" href=\"/cursos-online-mobile/multiplataforma\">Flutter, React Native</a><span class=\"categories__calls__description-separator\">, </span>\n",
      "<a class=\"categories__calls__description--home\" href=\"/cursos-online-mobile/ios\">iOS e Swift</a><span class=\"categories__calls__description-separator\">, </span>\n",
      "<a class=\"categories__calls__description--home\" href=\"/cursos-online-mobile/android\">Android e Kotlin</a><span class=\"categories__calls__description-separator\">, </span>\n",
      "<a class=\"categories__calls__description--home\" href=\"/cursos-online-mobile/jogos\">Jogos</a><span class=\"categories__calls__description-separator\">, </span>\n",
      "<a class=\"categories__calls__link-see-more--home\" href=\"/cursos-online-mobile\">e mais...</a></nav></div><div class=\"categories__wrapper__links--home\">\n",
      "<a class=\"categories__link--home\" href=\"/cursos-online-programacao\"><div class=\"categories__link-wrapper--home\"><div class=\"categories__svg-wrapper--home\" style=\"background:#00c86f;\">\n",
      "<svg class=\"pagina-categoria__svg--home categories__svg--home\" xmlns:xlink=\"http://www.w3.org/1999/xlink\">\n",
      "<use xlink:href=\"/svg,1570550707/categorias#icon-categorias-programacao\"></use>\n",
      "</svg></div><div style=\"color:#00c86f;\">\n",
      "<span class=\"categories__link__text\">Cursos de</span><h4 class=\"categories__link__category-name\">Programação</h4></div></div>\n",
      "</a><nav class=\"categories__calls--home\">\n",
      "<a class=\"categories__calls__description--home\" href=\"/cursos-online-programacao/logica\">Lógica</a><span class=\"categories__calls__description-separator\">, </span>\n",
      "<a class=\"categories__calls__description--home\" href=\"/cursos-online-programacao/python\">Python</a><span class=\"categories__calls__description-separator\">, </span>\n",
      "<a class=\"categories__calls__description--home\" href=\"/cursos-online-programacao/php\">PHP</a><span class=\"categories__calls__description-separator\">, </span>\n",
      "<a class=\"categories__calls__description--home\" href=\"/cursos-online-programacao/java\">Java</a><span class=\"categories__calls__description-separator\">, </span>\n",
      "<a class=\"categories__calls__description--home\" href=\"/cursos-online-programacao/dotnet\">.NET</a><span class=\"categories__calls__description-separator\">, </span>\n",
      "<a class=\"categories__calls__description--home\" href=\"/cursos-online-programacao/node-js\">Node JS</a><span class=\"categories__calls__description-separator\">, </span>\n",
      "<a class=\"categories__calls__description--home\" href=\"/cursos-online-programacao/ruby\">Ruby &amp; Rails</a><span class=\"categories__calls__description-separator\">, </span>\n",
      "<a class=\"categories__calls__description--home\" href=\"/cursos-online-programacao/linguagem-c\">C</a><span class=\"categories__calls__description-separator\">, </span>\n",
      "<a class=\"categories__calls__description--home\" href=\"/cursos-online-programacao/computacao\">Computação</a><span class=\"categories__calls__description-separator\">, </span>\n",
      "<a class=\"categories__calls__description--home\" href=\"/cursos-online-programacao/jogos\">Jogos</a><span class=\"categories__calls__description-separator\">, </span>\n",
      "<a class=\"categories__calls__link-see-more--home\" href=\"/cursos-online-programacao\">e mais...</a></nav></div><div class=\"categories__wrapper__links--home\">\n",
      "<a class=\"categories__link--home\" href=\"/cursos-online-front-end\"><div class=\"categories__link-wrapper--home\"><div class=\"categories__svg-wrapper--home\" style=\"background:#6bd1ff;\">\n",
      "<svg class=\"pagina-categoria__svg--home categories__svg--home\" xmlns:xlink=\"http://www.w3.org/1999/xlink\">\n",
      "<use xlink:href=\"/svg,1570550707/categorias#icon-categorias-front-end\"></use>\n",
      "</svg></div><div style=\"color:#6bd1ff;\">\n",
      "<span class=\"categories__link__text\">Cursos de</span><h4 class=\"categories__link__category-name\">Front-end</h4></div></div>\n",
      "</a><nav class=\"categories__calls--home\">\n",
      "<a class=\"categories__calls__description--home\" href=\"/cursos-online-front-end/front-end\">HTML, CSS</a><span class=\"categories__calls__description-separator\">, </span>\n",
      "<a class=\"categories__calls__description--home\" href=\"/cursos-online-front-end/javascript\">JavaScript</a><span class=\"categories__calls__description-separator\">, </span>\n",
      "<a class=\"categories__calls__description--home\" href=\"/cursos-online-front-end/frameworks-mvc-em-javascript\">React, Angular</a><span class=\"categories__calls__description-separator\">, </span>\n",
      "<a class=\"categories__calls__description--home\" href=\"/cursos-online-front-end/jquery\">jQuery</a><span class=\"categories__calls__description-separator\">, </span>\n",
      "<a class=\"categories__calls__link-see-more--home\" href=\"/cursos-online-front-end\">e mais...</a></nav></div><div class=\"categories__wrapper__links--home\">\n",
      "<a class=\"categories__link--home\" href=\"/cursos-online-infraestrutura\"><div class=\"categories__link-wrapper--home\"><div class=\"categories__svg-wrapper--home\" style=\"background:#f16165;\">\n",
      "<svg class=\"pagina-categoria__svg--home categories__svg--home\" xmlns:xlink=\"http://www.w3.org/1999/xlink\">\n",
      "<use xlink:href=\"/svg,1570550707/categorias#icon-categorias-infraestrutura\"></use>\n",
      "</svg></div><div style=\"color:#f16165;\">\n",
      "<span class=\"categories__link__text\">Cursos de</span><h4 class=\"categories__link__category-name\">Infraestrutura</h4></div></div>\n",
      "</a><nav class=\"categories__calls--home\">\n",
      "<a class=\"categories__calls__description--home\" href=\"/cursos-online-infraestrutura/devops\">DevOps e Git</a><span class=\"categories__calls__description-separator\">, </span>\n",
      "<a class=\"categories__calls__description--home\" href=\"/cursos-online-infraestrutura/cloud-computing\">Cloud</a><span class=\"categories__calls__description-separator\">, </span>\n",
      "<a class=\"categories__calls__description--home\" href=\"/cursos-online-infraestrutura/linux-comandos-e-processos\">Linux</a><span class=\"categories__calls__description-separator\">, </span>\n",
      "<a class=\"categories__calls__description--home\" href=\"/cursos-online-infraestrutura/internet-das-coisas\">IoT</a><span class=\"categories__calls__description-separator\">, </span>\n",
      "<a class=\"categories__calls__description--home\" href=\"/cursos-online-infraestrutura/redes\">Redes</a><span class=\"categories__calls__description-separator\">, </span>\n",
      "<a class=\"categories__calls__link-see-more--home\" href=\"/cursos-online-infraestrutura\">e mais...</a></nav></div><div class=\"categories__wrapper__links--home\">\n",
      "<a class=\"categories__link--home\" href=\"/cursos-online-design-ux\"><div class=\"categories__link-wrapper--home\"><div class=\"categories__svg-wrapper--home\" style=\"background:#dc6ebe;\">\n",
      "<svg class=\"pagina-categoria__svg--home categories__svg--home\" xmlns:xlink=\"http://www.w3.org/1999/xlink\">\n",
      "<use xlink:href=\"/svg,1570550707/categorias#icon-categorias-design-ux\"></use>\n",
      "</svg></div><div style=\"color:#dc6ebe;\">\n",
      "<span class=\"categories__link__text\">Cursos de</span><h4 class=\"categories__link__category-name\">Design &amp; UX</h4></div></div>\n",
      "</a><nav class=\"categories__calls--home\">\n",
      "<a class=\"categories__calls__description--home\" href=\"/cursos-online-design-ux/wwww\">Photoshop e Illustrator</a><span class=\"categories__calls__description-separator\">, </span>\n",
      "<a class=\"categories__calls__description--home\" href=\"/cursos-online-design-ux/ux\">Usabilidade e UX</a><span class=\"categories__calls__description-separator\">, </span>\n",
      "<a class=\"categories__calls__description--home\" href=\"/cursos-online-design-ux/video\">Vídeo e Motion</a><span class=\"categories__calls__description-separator\">, </span>\n",
      "<a class=\"categories__calls__description--home\" href=\"/cursos-online-design-ux/3d\">3D</a><span class=\"categories__calls__description-separator\">, </span>\n",
      "<a class=\"categories__calls__link-see-more--home\" href=\"/cursos-online-design-ux\">e mais...</a></nav></div><div class=\"categories__wrapper__links--home\">\n",
      "<a class=\"categories__link--home\" href=\"/cursos-online-marketing-digital\"><div class=\"categories__link-wrapper--home\"><div class=\"categories__svg-wrapper--home\" style=\"background:#6b5be2;\">\n",
      "<svg class=\"pagina-categoria__svg--home categories__svg--home\" xmlns:xlink=\"http://www.w3.org/1999/xlink\">\n",
      "<use xlink:href=\"/svg,1570550707/categorias#icon-categorias-marketing-digital\"></use>\n",
      "</svg></div><div style=\"color:#6b5be2;\">\n",
      "<span class=\"categories__link__text\">Cursos de</span><h4 class=\"categories__link__category-name\">Marketing Digital</h4></div></div>\n",
      "</a><nav class=\"categories__calls--home\">\n",
      "<a class=\"categories__calls__description--home\" href=\"/cursos-online-marketing-digital/ads\">Ads</a><span class=\"categories__calls__description-separator\">, </span>\n",
      "<a class=\"categories__calls__description--home\" href=\"/cursos-online-marketing-digital/marketing-digital\">Marketing</a><span class=\"categories__calls__description-separator\">, </span>\n",
      "<a class=\"categories__calls__description--home\" href=\"/cursos-online-marketing-digital/seo\">SEO</a><span class=\"categories__calls__description-separator\">, </span>\n",
      "<a class=\"categories__calls__description--home\" href=\"/cursos-online-marketing-digital/e-commerce\">E-commerce</a><span class=\"categories__calls__description-separator\">, </span>\n",
      "<a class=\"categories__calls__description--home\" href=\"/cursos-online-marketing-digital/social-media\">Social Media</a><span class=\"categories__calls__description-separator\">, </span>\n",
      "<a class=\"categories__calls__description--home\" href=\"/cursos-online-marketing-digital/youtube\">YouTube</a><span class=\"categories__calls__description-separator\">, </span>\n",
      "<a class=\"categories__calls__link-see-more--home\" href=\"/cursos-online-marketing-digital\">e mais...</a></nav></div><div class=\"categories__wrapper__links--home\">\n",
      "<a class=\"categories__link--home\" href=\"/cursos-online-data-science\"><div class=\"categories__link-wrapper--home\"><div class=\"categories__svg-wrapper--home\" style=\"background:#9cd33b;\">\n",
      "<svg class=\"pagina-categoria__svg--home categories__svg--home\" xmlns:xlink=\"http://www.w3.org/1999/xlink\">\n",
      "<use xlink:href=\"/svg,1570550707/categorias#icon-categorias-data-science\"></use>\n",
      "</svg></div><div style=\"color:#9cd33b;\">\n",
      "<span class=\"categories__link__text\">Cursos de</span><h4 class=\"categories__link__category-name\">Data Science</h4></div></div>\n",
      "</a><nav class=\"categories__calls--home\">\n",
      "<a class=\"categories__calls__description--home\" href=\"/cursos-online-data-science/sql\">SQL e Banco de Dados</a><span class=\"categories__calls__description-separator\">, </span>\n",
      "<a class=\"categories__calls__description--home\" href=\"/cursos-online-data-science/nosql\">NoSQL</a><span class=\"categories__calls__description-separator\">, </span>\n",
      "<a class=\"categories__calls__description--home\" href=\"/cursos-online-data-science/data-science\">Data Science</a><span class=\"categories__calls__description-separator\">, </span>\n",
      "<a class=\"categories__calls__description--home\" href=\"/cursos-online-data-science/machine-learning\">Machine Learning</a><span class=\"categories__calls__description-separator\">, </span>\n",
      "<a class=\"categories__calls__description--home\" href=\"/cursos-online-data-science/business-intelligence\">BI</a><span class=\"categories__calls__description-separator\">, </span>\n",
      "<a class=\"categories__calls__description--home\" href=\"/cursos-online-data-science/estatistica\">Estatística</a><span class=\"categories__calls__description-separator\">, </span>\n",
      "<a class=\"categories__calls__description--home\" href=\"/cursos-online-data-science/excel\">Excel</a><span class=\"categories__calls__description-separator\">, </span>\n",
      "<a class=\"categories__calls__link-see-more--home\" href=\"/cursos-online-data-science\">e mais...</a></nav></div><div class=\"categories__wrapper__links--home\">\n",
      "<a class=\"categories__link--home\" href=\"/cursos-online-inovacao-gestao\"><div class=\"categories__link-wrapper--home\"><div class=\"categories__svg-wrapper--home\" style=\"background:#ff8c2a;\">\n",
      "<svg class=\"pagina-categoria__svg--home categories__svg--home\" xmlns:xlink=\"http://www.w3.org/1999/xlink\">\n",
      "<use xlink:href=\"/svg,1570550707/categorias#icon-categorias-inovacao-gestao\"></use>\n",
      "</svg></div><div style=\"color:#ff8c2a;\">\n",
      "<span class=\"categories__link__text\">Cursos de</span><h4 class=\"categories__link__category-name\">Inovação &amp; Gestão</h4></div></div>\n",
      "</a><nav class=\"categories__calls--home\">\n",
      "<a class=\"categories__calls__description--home\" href=\"/cursos-online-inovacao-gestao/agilidade\">Métodos Ágeis</a><span class=\"categories__calls__description-separator\">, </span>\n",
      "<a class=\"categories__calls__description--home\" href=\"/cursos-online-inovacao-gestao/softskills-carreira\">Softskills</a><span class=\"categories__calls__description-separator\">, </span>\n",
      "<a class=\"categories__calls__description--home\" href=\"/cursos-online-inovacao-gestao/gestao-corporativa\">Liderança e Gestão</a><span class=\"categories__calls__description-separator\">, </span>\n",
      "<a class=\"categories__calls__description--home\" href=\"/cursos-online-inovacao-gestao/startup-empreendedorismo\">Startups e Empreendedorismo</a><span class=\"categories__calls__description-separator\">, </span>\n",
      "<a class=\"categories__calls__description--home\" href=\"/cursos-online-inovacao-gestao/vendas\">Vendas</a><span class=\"categories__calls__description-separator\">, </span>\n",
      "<a class=\"categories__calls__link-see-more--home\" href=\"/cursos-online-inovacao-gestao\">e mais...</a></nav></div></div></nav></div></div><main class=\"home__main-content\"><section class=\"features container\"><aside class=\"features__info\"><h2 class=\"features__info__title\">\n",
      "<strong>Somos a maior plataforma brasileira</strong>\n",
      "<span>Cursos de tecnologia com conteúdo 100% em português</span></h2><ul class=\"features__info__list\"><li class=\"features__info__list__item features__info__list__item--content\"><div class=\"features__info__list__item__wrapper\"><h4 class=\"features__info__list__item__title\">O conteúdo que você precisa</h4><p class=\"features__info__list__item__description\">São 1016 cursos e novos lançamentos toda\n",
      "semana, além de atualizações e melhorias constantes.</p></div></li><li class=\"features__info__list__item features__info__list__item--practice\"><div class=\"features__info__list__item__wrapper\"><h4 class=\"features__info__list__item__title\">Conhecimento real</h4><p class=\"features__info__list__item__description\">Garantimos conhecimento com profundidade e diversidade. Aprenda com os melhores!</p></div></li><li class=\"features__info__list__item features__info__list__item--messages\"><div class=\"features__info__list__item__wrapper\"><h4 class=\"features__info__list__item__title\">Aprenda compartilhando</h4><p class=\"features__info__list__item__description\">\n",
      "Faça parte de uma grande rede de apaixonados por tudo que é digital.</p></div></li></ul></aside><section class=\"features__video\"><div class=\"features__video-wrapper\"><div class=\"home-diferenciais-video\"><div class=\"home-diferenciais-video-wrapper\"><div class=\"elasticMedia-container\" data-src=\"//player.vimeo.com/video/227939524\">\n",
      "<noscript>\n",
      "<iframe allowfullscreen=\"\" class=\"elasticMedia\" frameborder=\"0\" mozallowfullscreen=\"\" src=\"//player.vimeo.com/video/227939524\" webkitallowfullscreen=\"\"></iframe>\n",
      "</noscript></div></div></div></div>\n",
      "<a class=\"features__video__link\" href=\"/como-funciona\">Veja como funciona</a></section></section><section class=\"careers\"><div class=\"container\"><h2 class=\"careers__title\"><div class=\"careers__title__wrapper\">\n",
      "Não sabe por onde começar?\n",
      "<span>Sequências de cursos organizados em <strong>Formações</strong></span></div></h2><ul class=\"careers__list\"><style type=\"text/css\">.career-mobile-title:after {\n",
      "\t\t                            \tbackground-color:#ffba05;\n",
      "\t\t                            }</style><li class=\"careers__list__item\" style=\"color:#ffba05;\"><div class=\"careers__list__item__title-wrapper\"><div class=\"categories__svg-wrapper\" style=\"background-color:#ffba05;\">\n",
      "<svg class=\"pagina-categoria__svg svgFill-mobile categories__svg\" xmlns:xlink=\"http://www.w3.org/1999/xlink\">\n",
      "<use xlink:href=\"/svg,1570550707/categorias#icon-categorias-mobile\"></use>\n",
      "</svg></div><h3 class=\"careers__list__item__title\">Mobile</h3></div><h4 class=\"careers__list__item__sub-title career-mobile-title\">Formações</h4><ul class=\"careers__list__item__list careers__list__item__list--formacoes\"><li class=\"careers__list__item__list__item\">\n",
      "<a class=\"careers__list__item__list__item__link\" href=\"/formacao-android\">\n",
      "Android                                            </a></li><li class=\"careers__list__item__list__item\">\n",
      "<a class=\"careers__list__item__list__item__link\" href=\"/formacao-arquiteto-android\">\n",
      "Arquitetura Android                                            </a></li><li class=\"careers__list__item__list__item\">\n",
      "<a class=\"careers__list__item__list__item__link\" href=\"/formacao-flutter\">\n",
      "Flutter                                            </a></li><li class=\"careers__list__item__list__item\">\n",
      "<a class=\"careers__list__item__list__item__link\" href=\"/formacao-ios\">\n",
      "iOS                                            </a></li><li class=\"careers__list__item__list__item\">\n",
      "<a class=\"careers__list__item__list__item__link\" href=\"/formacao-xamarin\">\n",
      "Multiplataforma mobile Xamarin                                            </a></li><li class=\"careers__list__item__list__item\">\n",
      "<a class=\"careers__list__item__list__item__link\" href=\"/formacao-testes-automatizados-android\">\n",
      "Testes automatizados no Android                                            </a></li></ul></li><style type=\"text/css\">.career-programacao-title:after {\n",
      "\t\t                            \tbackground-color:#00c86f;\n",
      "\t\t                            }</style><li class=\"careers__list__item\" style=\"color:#00c86f;\"><div class=\"careers__list__item__title-wrapper\"><div class=\"categories__svg-wrapper\" style=\"background-color:#00c86f;\">\n",
      "<svg class=\"pagina-categoria__svg svgFill-programacao categories__svg\" xmlns:xlink=\"http://www.w3.org/1999/xlink\">\n",
      "<use xlink:href=\"/svg,1570550707/categorias#icon-categorias-programacao\"></use>\n",
      "</svg></div><h3 class=\"careers__list__item__title\">Programação</h3></div><h4 class=\"careers__list__item__sub-title career-programacao-title\">Formações</h4><ul class=\"careers__list__item__list careers__list__item__list--formacoes\"><li class=\"careers__list__item__list__item\">\n",
      "<a class=\"careers__list__item__list__item__link\" href=\"/formacao-dotnet\">\n",
      ".NET                                            </a></li><li class=\"careers__list__item__list__item\">\n",
      "<a class=\"careers__list__item__list__item__link\" href=\"/formacao-certificacao-csharp\">\n",
      "Certificação C# Programming                                            </a></li><li class=\"careers__list__item__list__item\">\n",
      "<a class=\"careers__list__item__list__item__link\" href=\"/formacao-certificacao-java\">\n",
      "Certificação Java                                            </a></li><li class=\"careers__list__item__list__item\">\n",
      "<a class=\"careers__list__item__list__item__link\" href=\"/formacao-clojure\">\n",
      "Clojure                                            </a></li><li class=\"careers__list__item__list__item\">\n",
      "<a class=\"careers__list__item__list__item__link\" href=\"/formacao-expert-em-orientacao-a-objetos\">\n",
      "Expert em Orientação a Objetos                                            </a></li><li class=\"careers__list__item__list__item\">\n",
      "<a class=\"careers__list__item__list__item__link\" href=\"/formacao-programacao\">\n",
      "Iniciante em Programação                                            </a></li><li class=\"careers__list__item__list__item\">\n",
      "<a class=\"careers__list__item__list__item__link\" href=\"/formacao-integracao-aplicacoes-java\">\n",
      "Integração de Aplicações Java                                            </a></li><li class=\"careers__list__item__list__item\">\n",
      "<a class=\"careers__list__item__list__item__link\" href=\"/formacao-java\">\n",
      "Java                                            </a></li><li class=\"careers__list__item__list__item\">\n",
      "<a class=\"careers__list__item__list__item__link\" href=\"/formacao-java-ee\">\n",
      "Java EE                                            </a></li><li class=\"careers__list__item__list__item\">\n",
      "<a class=\"careers__list__item__list__item__link\" href=\"/formacao-jogos-unity\">\n",
      "Jogos com Unity                                            </a></li><li class=\"careers__list__item__list__item\">\n",
      "<a class=\"careers__list__item__list__item__link\" href=\"/formacao-node-js-12\">\n",
      "Node.JS                                            </a></li><li class=\"careers__list__item__list__item\">\n",
      "<a class=\"careers__list__item__list__item__link\" href=\"/formacao-desenvolvedor-php\">\n",
      "PHP                                            </a></li><li class=\"careers__list__item__list__item\">\n",
      "<a class=\"careers__list__item__list__item__link\" href=\"/formacao-Python-linguagem\">\n",
      "Python                                            </a></li><li class=\"careers__list__item__list__item\">\n",
      "<a class=\"careers__list__item__list__item__link\" href=\"/formacao-ruby-on-rails\">\n",
      "Ruby On Rails                                            </a></li><li class=\"careers__list__item__list__item\">\n",
      "<a class=\"careers__list__item__list__item__link\" href=\"/formacao-vb-net\">\n",
      "VB.NET                                            </a></li><li class=\"careers__list__item__list__item\">\n",
      "<a class=\"careers__list__item__list__item__link\" href=\"/formacao-wordpress\">\n",
      "Wordpress                                            </a></li></ul></li><style type=\"text/css\">.career-front-end-title:after {\n",
      "\t\t                            \tbackground-color:#6bd1ff;\n",
      "\t\t                            }</style><li class=\"careers__list__item\" style=\"color:#6bd1ff;\"><div class=\"careers__list__item__title-wrapper\"><div class=\"categories__svg-wrapper\" style=\"background-color:#6bd1ff;\">\n",
      "<svg class=\"pagina-categoria__svg svgFill-front-end categories__svg\" xmlns:xlink=\"http://www.w3.org/1999/xlink\">\n",
      "<use xlink:href=\"/svg,1570550707/categorias#icon-categorias-front-end\"></use>\n",
      "</svg></div><h3 class=\"careers__list__item__title\">Front-end</h3></div><h4 class=\"careers__list__item__sub-title career-front-end-title\">Formações</h4><ul class=\"careers__list__item__list careers__list__item__list--formacoes\"><li class=\"careers__list__item__list__item\">\n",
      "<a class=\"careers__list__item__list__item__link\" href=\"/formacao-acessibilidade-web\">\n",
      "Acessibilidade Web                                            </a></li><li class=\"careers__list__item__list__item\">\n",
      "<a class=\"careers__list__item__list__item__link\" href=\"/formacao-angular\">\n",
      "Angular                                            </a></li><li class=\"careers__list__item__list__item\">\n",
      "<a class=\"careers__list__item__list__item__link\" href=\"/formacao-front-end\">\n",
      "Front-end                                            </a></li><li class=\"careers__list__item__list__item\">\n",
      "<a class=\"careers__list__item__list__item__link\" href=\"/formacao-html-e-css\">\n",
      "HTML e CSS                                            </a></li><li class=\"careers__list__item__list__item\">\n",
      "<a class=\"careers__list__item__list__item__link\" href=\"/formacao-react\">\n",
      "React                                            </a></li><li class=\"careers__list__item__list__item\">\n",
      "<a class=\"careers__list__item__list__item__link\" href=\"/formacao-vuejs\">\n",
      "Vue.js                                            </a></li></ul></li><style type=\"text/css\">.career-infraestrutura-title:after {\n",
      "\t\t                            \tbackground-color:#f16165;\n",
      "\t\t                            }</style><li class=\"careers__list__item\" style=\"color:#f16165;\"><div class=\"careers__list__item__title-wrapper\"><div class=\"categories__svg-wrapper\" style=\"background-color:#f16165;\">\n",
      "<svg class=\"pagina-categoria__svg svgFill-infraestrutura categories__svg\" xmlns:xlink=\"http://www.w3.org/1999/xlink\">\n",
      "<use xlink:href=\"/svg,1570550707/categorias#icon-categorias-infraestrutura\"></use>\n",
      "</svg></div><h3 class=\"careers__list__item__title\">Infraestrutura</h3></div><h4 class=\"careers__list__item__sub-title career-infraestrutura-title\">Formações</h4><ul class=\"careers__list__item__list careers__list__item__list--formacoes\"><li class=\"careers__list__item__list__item\">\n",
      "<a class=\"careers__list__item__list__item__link\" href=\"/formacao-redes\">\n",
      "Administrador de Redes                                            </a></li><li class=\"careers__list__item__list__item\">\n",
      "<a class=\"careers__list__item__list__item__link\" href=\"/formacao-amazon-web-services\">\n",
      "Amazon Web Services                                            </a></li><li class=\"careers__list__item__list__item\">\n",
      "<a class=\"careers__list__item__list__item__link\" href=\"/formacao-certificacao-cisco-ccna\">\n",
      "Certificação Cisco CCNA                                            </a></li><li class=\"careers__list__item__list__item\">\n",
      "<a class=\"careers__list__item__list__item__link\" href=\"/formacao-certificacao-lpi-linux-essentials\">\n",
      "Certificação LPI Linux Essentials                                            </a></li><li class=\"careers__list__item__list__item\">\n",
      "<a class=\"careers__list__item__list__item__link\" href=\"/formacao-devops\">\n",
      "DevOps                                            </a></li><li class=\"careers__list__item__list__item\">\n",
      "<a class=\"careers__list__item__list__item__link\" href=\"/formacao-internet-das-coisas-iot\">\n",
      "Internet das Coisas                                            </a></li><li class=\"careers__list__item__list__item\">\n",
      "<a class=\"careers__list__item__list__item__link\" href=\"/formacao-microcontroladores-eletronica-aplicada\">\n",
      "Microcontroladores e Eletrônica Aplicada                                            </a></li><li class=\"careers__list__item__list__item\">\n",
      "<a class=\"careers__list__item__list__item__link\" href=\"/formacao-raspberry-pi\">\n",
      "Raspberry Pi                                            </a></li><li class=\"careers__list__item__list__item\">\n",
      "<a class=\"careers__list__item__list__item__link\" href=\"/formacao-seguranca-de-aplicacoes\">\n",
      "Segurança de aplicações                                            </a></li></ul></li><style type=\"text/css\">.career-design-ux-title:after {\n",
      "\t\t                            \tbackground-color:#dc6ebe;\n",
      "\t\t                            }</style><li class=\"careers__list__item\" style=\"color:#dc6ebe;\"><div class=\"careers__list__item__title-wrapper\"><div class=\"categories__svg-wrapper\" style=\"background-color:#dc6ebe;\">\n",
      "<svg class=\"pagina-categoria__svg svgFill-design-ux categories__svg\" xmlns:xlink=\"http://www.w3.org/1999/xlink\">\n",
      "<use xlink:href=\"/svg,1570550707/categorias#icon-categorias-design-ux\"></use>\n",
      "</svg></div><h3 class=\"careers__list__item__title\">Design &amp; UX</h3></div><h4 class=\"careers__list__item__sub-title career-design-ux-title\">Formações</h4><ul class=\"careers__list__item__list careers__list__item__list--formacoes\"><li class=\"careers__list__item__list__item\">\n",
      "<a class=\"careers__list__item__list__item__link\" href=\"/formacao-ui-adobe-xd\">\n",
      "Adobe XD                                            </a></li><li class=\"careers__list__item__list__item\">\n",
      "<a class=\"careers__list__item__list__item__link\" href=\"/formacao-desenhohumano-photoshop\">\n",
      "Desenho humano no Photoshop                                            </a></li><li class=\"careers__list__item__list__item\">\n",
      "<a class=\"careers__list__item__list__item__link\" href=\"/formacao-design-grafico\">\n",
      "Design Gráfico                                            </a></li><li class=\"careers__list__item__list__item\">\n",
      "<a class=\"careers__list__item__list__item__link\" href=\"/formacao-editor-video\">\n",
      "Editor de vídeo                                            </a></li><li class=\"careers__list__item__list__item\">\n",
      "<a class=\"careers__list__item__list__item__link\" href=\"/formacao-ilustra-publicitaria\">\n",
      "Ilustração Publicitária no Photoshop                                            </a></li><li class=\"careers__list__item__list__item\">\n",
      "<a class=\"careers__list__item__list__item__link\" href=\"/formacao-producao-indesign\">\n",
      "InDesign                                            </a></li><li class=\"careers__list__item__list__item\">\n",
      "<a class=\"careers__list__item__list__item__link\" href=\"/formacao-motion-design\">\n",
      "Motion Design                                            </a></li><li class=\"careers__list__item__list__item\">\n",
      "<a class=\"careers__list__item__list__item__link\" href=\"/formacao-pinturadigital-photoshop\">\n",
      "Pintura Digital no Photoshop                                            </a></li><li class=\"careers__list__item__list__item\">\n",
      "<a class=\"careers__list__item__list__item__link\" href=\"/formacao-producao-com-photoshop\">\n",
      "Produção com Photoshop                                            </a></li><li class=\"careers__list__item__list__item\">\n",
      "<a class=\"careers__list__item__list__item__link\" href=\"/formacao-procucao-premiere\">\n",
      "Produção de vídeo no Premiere                                            </a></li><li class=\"careers__list__item__list__item\">\n",
      "<a class=\"careers__list__item__list__item__link\" href=\"/formacao-grafica-illustrator\">\n",
      "Produção Gráfica com Illustrator                                            </a></li><li class=\"careers__list__item__list__item\">\n",
      "<a class=\"careers__list__item__list__item__link\" href=\"/formacao-ui-sketch\">\n",
      "Sketch                                            </a></li><li class=\"careers__list__item__list__item\">\n",
      "<a class=\"careers__list__item__list__item__link\" href=\"/formacao-unreal-engine\">\n",
      "Unreal Engine                                            </a></li><li class=\"careers__list__item__list__item\">\n",
      "<a class=\"careers__list__item__list__item__link\" href=\"/formacao-ux\">\n",
      "UX Design                                            </a></li></ul></li><style type=\"text/css\">.career-data-science-title:after {\n",
      "\t\t                            \tbackground-color:#9cd33b;\n",
      "\t\t                            }</style><li class=\"careers__list__item\" style=\"color:#9cd33b;\"><div class=\"careers__list__item__title-wrapper\"><div class=\"categories__svg-wrapper\" style=\"background-color:#9cd33b;\">\n",
      "<svg class=\"pagina-categoria__svg svgFill-data-science categories__svg\" xmlns:xlink=\"http://www.w3.org/1999/xlink\">\n",
      "<use xlink:href=\"/svg,1570550707/categorias#icon-categorias-data-science\"></use>\n",
      "</svg></div><h3 class=\"careers__list__item__title\">Data Science</h3></div><h4 class=\"careers__list__item__sub-title career-data-science-title\">Formações</h4><ul class=\"careers__list__item__list careers__list__item__list--formacoes\"><li class=\"careers__list__item__list__item\">\n",
      "<a class=\"careers__list__item__list__item__link\" href=\"/formacao-business-intelligence-data-warehouse-pentaho\">\n",
      "BI e Data Warehouse com Pentaho                                            </a></li><li class=\"careers__list__item__list__item\">\n",
      "<a class=\"careers__list__item__list__item__link\" href=\"/formacao-business-intelligence-data-warehouse\">\n",
      "BI e Data Warehouse com SQL Server e Power BI                                            </a></li><li class=\"careers__list__item__list__item\">\n",
      "<a class=\"careers__list__item__list__item__link\" href=\"/formacao-data-science\">\n",
      "Data Science                                            </a></li><li class=\"careers__list__item__list__item\">\n",
      "<a class=\"careers__list__item__list__item__link\" href=\"/formacao-excel-vba\">\n",
      "Excel VBA                                            </a></li><li class=\"careers__list__item__list__item\">\n",
      "<a class=\"careers__list__item__list__item__link\" href=\"/formacao-machine-learning\">\n",
      "Machine Learning                                            </a></li><li class=\"careers__list__item__list__item\">\n",
      "<a class=\"careers__list__item__list__item__link\" href=\"/formacao-oracle-database-sql-plsql\">\n",
      "SQL  com Oracle Database                                            </a></li><li class=\"careers__list__item__list__item\">\n",
      "<a class=\"careers__list__item__list__item__link\" href=\"/formacao-microsoft-sql-server-2017\">\n",
      "SQL com Microsoft SQL Server 2017                                            </a></li><li class=\"careers__list__item__list__item\">\n",
      "<a class=\"careers__list__item__list__item__link\" href=\"/formacao-oracle-mysql\">\n",
      "SQL com MySQL Server da Oracle                                            </a></li></ul></li><style type=\"text/css\">.career-marketing-digital-title:after {\n",
      "\t\t                            \tbackground-color:#6b5be2;\n",
      "\t\t                            }</style><li class=\"careers__list__item\" style=\"color:#6b5be2;\"><div class=\"careers__list__item__title-wrapper\"><div class=\"categories__svg-wrapper\" style=\"background-color:#6b5be2;\">\n",
      "<svg class=\"pagina-categoria__svg svgFill-marketing-digital categories__svg\" xmlns:xlink=\"http://www.w3.org/1999/xlink\">\n",
      "<use xlink:href=\"/svg,1570550707/categorias#icon-categorias-marketing-digital\"></use>\n",
      "</svg></div><h3 class=\"careers__list__item__title\">Marketing Digital</h3></div><h4 class=\"careers__list__item__sub-title career-marketing-digital-title\">Formações</h4><ul class=\"careers__list__item__list careers__list__item__list--formacoes\"><li class=\"careers__list__item__list__item\">\n",
      "<a class=\"careers__list__item__list__item__link\" href=\"/formacao-marketing-digital\">\n",
      "Marketing Digital                                            </a></li><li class=\"careers__list__item__list__item\">\n",
      "<a class=\"careers__list__item__list__item__link\" href=\"/formacao-seo\">\n",
      "SEO                                            </a></li><li class=\"careers__list__item__list__item\">\n",
      "<a class=\"careers__list__item__list__item__link\" href=\"/formacao-social-media\">\n",
      "Social Media                                            </a></li></ul></li><style type=\"text/css\">.career-inovacao-gestao-title:after {\n",
      "\t\t                            \tbackground-color:#ff8c2a;\n",
      "\t\t                            }</style><li class=\"careers__list__item\" style=\"color:#ff8c2a;\"><div class=\"careers__list__item__title-wrapper\"><div class=\"categories__svg-wrapper\" style=\"background-color:#ff8c2a;\">\n",
      "<svg class=\"pagina-categoria__svg svgFill-inovacao-gestao categories__svg\" xmlns:xlink=\"http://www.w3.org/1999/xlink\">\n",
      "<use xlink:href=\"/svg,1570550707/categorias#icon-categorias-inovacao-gestao\"></use>\n",
      "</svg></div><h3 class=\"careers__list__item__title\">Inovação &amp; Gestão</h3></div><h4 class=\"careers__list__item__sub-title career-inovacao-gestao-title\">Formações</h4><ul class=\"careers__list__item__list careers__list__item__list--formacoes\"><li class=\"careers__list__item__list__item\">\n",
      "<a class=\"careers__list__item__list__item__link\" href=\"/formacao-business-agility\">\n",
      "Business Agility                                            </a></li><li class=\"careers__list__item__list__item\">\n",
      "<a class=\"careers__list__item__list__item__link\" href=\"/formacao-certificacao-cobit-5\">\n",
      "Certificação Cobit 5                                            </a></li><li class=\"careers__list__item__list__item\">\n",
      "<a class=\"careers__list__item__list__item__link\" href=\"/formacao-certificacao-itil-foundation\">\n",
      "Certificação ITIL Foundation                                            </a></li><li class=\"careers__list__item__list__item\">\n",
      "<a class=\"careers__list__item__list__item__link\" href=\"/formacao-certificacao-pmp-capm-pmi\">\n",
      "Certificação PMP e CAPM do PMI                                            </a></li><li class=\"careers__list__item__list__item\">\n",
      "<a class=\"careers__list__item__list__item__link\" href=\"/formacao-curriculos\">\n",
      "Currículos                                            </a></li><li class=\"careers__list__item__list__item\">\n",
      "<a class=\"careers__list__item__list__item__link\" href=\"/formacao-desenvolvimento-pessoal\">\n",
      "Desenvolvimento Pessoal                                            </a></li><li class=\"careers__list__item__list__item\">\n",
      "<a class=\"careers__list__item__list__item__link\" href=\"/formacao-e-commerce\">\n",
      "E-commerce                                            </a></li><li class=\"careers__list__item__list__item\">\n",
      "<a class=\"careers__list__item__list__item__link\" href=\"/formacao-empreendedorismo-digital\">\n",
      "Empreendedorismo Digital                                            </a></li><li class=\"careers__list__item__list__item\">\n",
      "<a class=\"careers__list__item__list__item__link\" href=\"/formacao-gerente-agil\">\n",
      "Gerente Ágil                                            </a></li></ul></li></ul></div></section><link href=\"/assets/css/block/destaqueAlunos.1570550707.css\" rel=\"stylesheet\"/><section class=\"testimonies\"><div class=\"container\"><div class=\"testimonies__wrapper\"><h2 class=\"testimonies__title\">\n",
      "Experiências de quem\n",
      "<strong class=\"testimonies__title__featured\">já estudou com a gente</strong></h2></div><nav class=\"testimonies__list\"><div class=\"testimonies__list__item\"><div class=\"testimony\">\n",
      "<img alt=\"\" class=\"testimonies__list__item__photo\" src=\"/assets/img/aluno-destaque/genilton-souza.1570550707.jpg\"/><div class=\"testimonies__list__item__wrapper\"><h3 class=\"testimonies__list__item__title\">Genilton Souza</h3>\n",
      "<span class=\"testimonies__list__item__description\">\n",
      "Se você não sabe a ordem do que deve aprender e praticar para\n",
      "dominar uma tecnologia, <strong>a forma como os cursos estão organizados\n",
      "e estruturados na Alura ajuda muito</strong>.\n",
      "Aprendi C# aqui e pago minhas contas com isso hoje em dia.</span></div></div></div><div class=\"testimonies__list__item\"><div class=\"testimony\">\n",
      "<img alt=\"\" class=\"testimonies__list__item__photo\" src=\"/assets/img/aluno-destaque/leandro-silva.1570550707.jpg\"/><div class=\"testimonies__list__item__wrapper\"><h3 class=\"testimonies__list__item__title\">Leandro da Silva</h3>\n",
      "<span class=\"testimonies__list__item__description\">\n",
      "Passei dois anos e meio desempregado e foi onde conheci os cursos\n",
      "da Alura. <strong>Consegui fazer uma mudança de carreira em uma área muito\n",
      "disputada e estou muito feliz</strong>: passei em um processo seletivo\n",
      "como Agente de Inovação, e muito do que aprendi tanto para a prova\n",
      "quanto para a etapa presencial foi graças a Alura.\n",
      "</span></div></div></div><div class=\"testimonies__list__item\"><div class=\"testimony\">\n",
      "<img alt=\"\" class=\"testimonies__list__item__photo\" src=\"/assets/img/aluno-destaque/nadia-oliveira.1570550707.jpg\"/><div class=\"testimonies__list__item__wrapper\"><h3 class=\"testimonies__list__item__title\">Nádia Oliveira</h3>\n",
      "<span class=\"testimonies__list__item__description\">\n",
      "A plataforma é incrível. Além das metodologias do curso serem de alcance\n",
      "para quem está começando ou quem já está avançado em alguma tecnologia,\n",
      "no fórum de dúvidas sempre algum instrutor ou aluno te responde em um\n",
      "curto espaço de tempo.\n",
      "<strong>Na Alura, seu conhecimento é prioridade</strong>.\n",
      "</span></div></div></div></nav></div></section><section class=\"companies\"><div class=\"container\"><div class=\"companies-wrapper\"><div class=\"companies__description-wrapper\">\n",
      "<img alt=\"Pessoas trabalhando na\n",
      "Alura\" class=\"companies__image\" src=\"/assets/img/home/homeNova/companies/foto-empresas.1570550707.jpg\"/><div class=\"companies__description\"><div class=\"companies__description__title-wrapper\"><h2 class=\"companies__description__title\">Para a sua <strong>empresa</strong></h2></div><p class=\"companies__description__text\">\n",
      "Capacite suas equipes com formações continuadas, lançamentos semanais, dashboards e relatórios\n",
      "de engajamento além de guias de estudos customizados de acordo com sua necessidade.</p>\n",
      "<a class=\"companies__description__link\" href=\"/empresas\">Conheça os recursos</a></div></div><section class=\"companies__testimony\"><div class=\"companies__testimony__wrapper\"><p class=\"companies__testimony__text\">\n",
      "<em>\n",
      "O time conseguiu aprender muito e um dos diferenciais para nós foi a língua,\n",
      "com  conteúdo de qualidade em português. Na Alura, a equipe conseguiu estudar pela plataforma\n",
      "online e aplicar tudo de maneira estruturada.</em></p>\n",
      "<span class=\"companies__testimony__author\">\n",
      "<strong class=\"companies__testimony__author__name\">Lucas Souza</strong> CTO da GetNinjas\n",
      "</span></div></section></div><section class=\"companies__using-alura\"><div class=\"companies__using-alura__title__wrapper\"><h2 class=\"companies__using-alura__title\">\n",
      "<strong>Empresas que já contam com a gente:</strong></h2></div><ul class=\"companies__using-alura__list\"><li class=\"companies__using-alura__list__item\">\n",
      "<img alt=\"Amil\" class=\"companies__using-alura__list__item__image\" src=\"/assets/img/home/homeNova/logo-empresas/logo-empresa-amil.1570550707.svg\"/></li><li class=\"companies__using-alura__list__item\">\n",
      "<img alt=\"Samsung\" class=\"companies__using-alura__list__item__image\" src=\"/assets/img/home/homeNova/logo-empresas/logo-empresa-samsung.1570550707.svg\"/></li><li class=\"companies__using-alura__list__item\">\n",
      "<img alt=\"Santander\" class=\"companies__using-alura__list__item__image\" src=\"/assets/img/home/homeNova/logo-empresas/logo-empresa-santander.1570550707.svg\"/></li><li class=\"companies__using-alura__list__item\">\n",
      "<img alt=\"Cielo\" class=\"companies__using-alura__list__item__image\" src=\"/assets/img/home/homeNova/logo-empresas/logo-empresa-cielo.1570550707.svg\"/></li><li class=\"companies__using-alura__list__item\">\n",
      "<img alt=\"Algar\" class=\"companies__using-alura__list__item__image\" src=\"/assets/img/home/homeNova/logo-empresas/logo-empresa-algar.1570550707.svg\"/></li><li class=\"companies__using-alura__list__item\">\n",
      "<img alt=\"Caixa\" class=\"companies__using-alura__list__item__image\" src=\"/assets/img/home/homeNova/logo-empresas/logo-empresa-caixa.1570550707.svg\"/></li><li class=\"companies__using-alura__list__item\">\n",
      "<img alt=\"Globo.com\" class=\"companies__using-alura__list__item__image\" src=\"/assets/img/home/homeNova/logo-empresas/logo-empresa-globo.1570550707.svg\"/></li></ul></section></div></section><section class=\"mobile\"><div class=\"container\"><div class=\"mobile__wrapper-info\"><div class=\"mobile__info mobile__info--forum\">\n",
      "Já são\n",
      "<strong>1016 cursos</strong>\n",
      "com lançamentos toda semana.</div><div class=\"mobile__info mobile__info--app\">\n",
      "Aplicativos para\n",
      "<strong>Android e iOS</strong>\n",
      "Baixe e estude offline em qualquer lugar.</div></div><nav class=\"mobile__apps-download\">\n",
      "<a class=\"mobile__apps-download__item mobile__apps-download__item--google-play\" href=\"https://play.google.com/store/apps/details?id=br.com.alura.mobi&amp;hl=pt_BR\">Google\n",
      "Play</a>\n",
      "<a class=\"mobile__apps-download__item mobile__apps-download__item--app-store\" href=\"https://itunes.apple.com/br/app/alura-cursos-online/id1225776635\">App\n",
      "Store</a></nav></div></section><link href=\"/assets/css/block/planosPagamentoOld.1572538101.css\" rel=\"stylesheet\"/><section class=\"planos-pagamento\" id=\"planos-cursos-online\"><h2 class=\"planos-pagamento__titulo\">\n",
      "Sabe quando você pode começar? <span class=\"planos-pagamento__titulo--bold\">Agora!</span></h2><div class=\"container\"><div class=\"planos-pagamento__planos\"><ul class=\"planos-pagamento__vantagens-mobile\"><li class=\"planos-pagamento__vantagem\"><div class=\"planos-pagamento__wrapper planos-pagamento__wrapper--com-descricao\">\n",
      "<span class=\"planos-pagamento__label\">1016 cursos</span><div class=\"planos-pagamento__legenda-tooltip\"><p class=\"planos-pagamento__legenda-descricao\">Cursos de programação, UX, agilidade, data science, transformação digital, mobile, front-end, marketing e infra.</p></div></div></li><li class=\"planos-pagamento__vantagem\"><div class=\"planos-pagamento__wrapper planos-pagamento__wrapper--com-descricao\">\n",
      "<span class=\"planos-pagamento__label\">Certificado de participação</span><div class=\"planos-pagamento__legenda-tooltip\"><p class=\"planos-pagamento__legenda-descricao\">Certificado de que assistiu o curso e finalizou as atividades</p></div></div></li><li class=\"planos-pagamento__vantagem\"><div class=\"planos-pagamento__wrapper planos-pagamento__wrapper--com-descricao\">\n",
      "<span class=\"planos-pagamento__label\">App para Android e iPhone/iPad</span><div class=\"planos-pagamento__legenda-tooltip\"><p class=\"planos-pagamento__legenda-descricao\">Estude até mesmo offline através das nossas apps Android e iOS em smartphones e tablets</p></div></div></li><li class=\"planos-pagamento__vantagem\"><div class=\"planos-pagamento__wrapper planos-pagamento__wrapper--com-descricao\">\n",
      "<span class=\"planos-pagamento__label\">Projeto avaliado pelos instrutores</span><div class=\"planos-pagamento__legenda-tooltip\"><p class=\"planos-pagamento__legenda-descricao\">Projeto práticos para entrega e avaliação dos professores da Alura com certificado de aprovação diferenciado</p></div></div></li><li class=\"planos-pagamento__vantagem\"><div class=\"planos-pagamento__wrapper planos-pagamento__wrapper--com-descricao\">\n",
      "<span class=\"planos-pagamento__label\">Acesso à Alura Start</span><div class=\"planos-pagamento__legenda-tooltip\"><p class=\"planos-pagamento__legenda-descricao\">Cursos de introdução a tecnologia através de games, apps e ciência</p></div></div></li><li class=\"planos-pagamento__vantagem\"><div class=\"planos-pagamento__wrapper planos-pagamento__wrapper--com-descricao\">\n",
      "<span class=\"planos-pagamento__label\">Acesso à Alura Língua</span><div class=\"planos-pagamento__legenda-tooltip\"><p class=\"planos-pagamento__legenda-descricao\">Reforço online de inglês e espanhol para aprimorar seu conhecimento</p></div></div></li></ul><div class=\"planos-pagamento__plano planos-pagamento__plano--premium\" data-payment-plan=\"\" data-payment-plan-price=\"900\"><div class=\"planos-pagamento__header\"><h4 class=\"planos-pagamento__nome\">Premium</h4></div><ul class=\"planos-pagamento__vantagens\"><li class=\"planos-pagamento__vantagem\"><div class=\"planos-pagamento__wrapper planos-pagamento__wrapper--com-descricao\">\n",
      "<span class=\"planos-pagamento__label\">1016 cursos</span><div class=\"planos-pagamento__legenda-tooltip\"><p class=\"planos-pagamento__legenda-descricao\">Cursos de programação, UX, agilidade, data science, transformação digital, mobile, front-end, marketing e infra.</p></div></div><div class=\"planos-pagamento__checkmark planos-pagamento__checkmark--ativo\">\n",
      "<svg><use xlink:href=\"/svg,1570550707/planosPagamento#icon-planosPagamento-checked\"></use></svg></div></li><li class=\"planos-pagamento__vantagem\"><div class=\"planos-pagamento__wrapper planos-pagamento__wrapper--com-descricao\">\n",
      "<span class=\"planos-pagamento__label\">Certificado de participação</span><div class=\"planos-pagamento__legenda-tooltip\"><p class=\"planos-pagamento__legenda-descricao\">Certificado de que assistiu o curso e finalizou as atividades</p></div></div><div class=\"planos-pagamento__checkmark planos-pagamento__checkmark--ativo\">\n",
      "<svg><use xlink:href=\"/svg,1570550707/planosPagamento#icon-planosPagamento-checked\"></use></svg></div></li><li class=\"planos-pagamento__vantagem\"><div class=\"planos-pagamento__wrapper planos-pagamento__wrapper--com-descricao\">\n",
      "<span class=\"planos-pagamento__label\">App para Android e iPhone/iPad</span><div class=\"planos-pagamento__legenda-tooltip\"><p class=\"planos-pagamento__legenda-descricao\">Estude até mesmo offline através das nossas apps Android e iOS em smartphones e tablets</p></div></div><div class=\"planos-pagamento__checkmark planos-pagamento__checkmark--ativo\">\n",
      "<svg><use xlink:href=\"/svg,1570550707/planosPagamento#icon-planosPagamento-checked\"></use></svg></div></li><li class=\"planos-pagamento__vantagem\"><div class=\"planos-pagamento__wrapper planos-pagamento__wrapper--com-descricao\">\n",
      "<span class=\"planos-pagamento__label\">Projeto avaliado pelos instrutores</span><div class=\"planos-pagamento__legenda-tooltip\"><p class=\"planos-pagamento__legenda-descricao\">Projeto práticos para entrega e avaliação dos professores da Alura com certificado de aprovação diferenciado</p></div></div><div class=\"planos-pagamento__checkmark\">\n",
      "<svg><use xlink:href=\"/svg,1570550707/planosPagamento#icon-planosPagamento-checked\"></use></svg></div></li><li class=\"planos-pagamento__vantagem\"><div class=\"planos-pagamento__wrapper planos-pagamento__wrapper--com-descricao\">\n",
      "<span class=\"planos-pagamento__label\">Acesso à Alura Start</span><div class=\"planos-pagamento__legenda-tooltip\"><p class=\"planos-pagamento__legenda-descricao\">Cursos de introdução a tecnologia através de games, apps e ciência</p></div></div><div class=\"planos-pagamento__checkmark\">\n",
      "<svg><use xlink:href=\"/svg,1570550707/planosPagamento#icon-planosPagamento-checked\"></use></svg></div></li><li class=\"planos-pagamento__vantagem\"><div class=\"planos-pagamento__wrapper planos-pagamento__wrapper--com-descricao\">\n",
      "<span class=\"planos-pagamento__label\">Acesso à Alura Língua</span><div class=\"planos-pagamento__legenda-tooltip\"><p class=\"planos-pagamento__legenda-descricao\">Reforço online de inglês e espanhol para aprimorar seu conhecimento</p></div></div><div class=\"planos-pagamento__checkmark\">\n",
      "<svg><use xlink:href=\"/svg,1570550707/planosPagamento#icon-planosPagamento-checked\"></use></svg></div></li></ul><div class=\"planos-pagamento__precos\">\n",
      "<span class=\"planos-pagamento__numero-parcelas\">\n",
      "12X\n",
      "</span><div class=\"planos-pagamento__preco-parcela\">\n",
      "<span class=\"planos-pagamento__valor-parcela\">R$75</span></div><div class=\"planos-pagamento__preco-vista\">\n",
      "<span class=\"planos-pagamento__label-vista\">à vista</span>\n",
      "<span class=\"planos-pagamento__valor-vista\">R$900</span></div></div><a class=\"planos-pagamento__cta\" href=\"/compra/premium/\">\n",
      "Matricule-se\n",
      "</a></div><div class=\"planos-pagamento__plano planos-pagamento__plano--premiumplus\" data-payment-plan=\"\" data-payment-plan-price=\"1.200\"><div class=\"planos-pagamento__header\"><h4 class=\"planos-pagamento__nome\">Premium Plus</h4></div><ul class=\"planos-pagamento__vantagens\"><li class=\"planos-pagamento__vantagem\"><div class=\"planos-pagamento__wrapper planos-pagamento__wrapper--com-descricao\">\n",
      "<span class=\"planos-pagamento__label\">1016 cursos</span><div class=\"planos-pagamento__legenda-tooltip\"><p class=\"planos-pagamento__legenda-descricao\">Cursos de programação, UX, agilidade, data science, transformação digital, mobile, front-end, marketing e infra.</p></div></div><div class=\"planos-pagamento__checkmark planos-pagamento__checkmark--ativo\">\n",
      "<svg><use xlink:href=\"/svg,1570550707/planosPagamento#icon-planosPagamento-checked\"></use></svg></div></li><li class=\"planos-pagamento__vantagem\"><div class=\"planos-pagamento__wrapper planos-pagamento__wrapper--com-descricao\">\n",
      "<span class=\"planos-pagamento__label\">Certificado de participação</span><div class=\"planos-pagamento__legenda-tooltip\"><p class=\"planos-pagamento__legenda-descricao\">Certificado de que assistiu o curso e finalizou as atividades</p></div></div><div class=\"planos-pagamento__checkmark planos-pagamento__checkmark--ativo\">\n",
      "<svg><use xlink:href=\"/svg,1570550707/planosPagamento#icon-planosPagamento-checked\"></use></svg></div></li><li class=\"planos-pagamento__vantagem\"><div class=\"planos-pagamento__wrapper planos-pagamento__wrapper--com-descricao\">\n",
      "<span class=\"planos-pagamento__label\">App para Android e iPhone/iPad</span><div class=\"planos-pagamento__legenda-tooltip\"><p class=\"planos-pagamento__legenda-descricao\">Estude até mesmo offline através das nossas apps Android e iOS em smartphones e tablets</p></div></div><div class=\"planos-pagamento__checkmark planos-pagamento__checkmark--ativo\">\n",
      "<svg><use xlink:href=\"/svg,1570550707/planosPagamento#icon-planosPagamento-checked\"></use></svg></div></li><li class=\"planos-pagamento__vantagem\"><div class=\"planos-pagamento__wrapper planos-pagamento__wrapper--com-descricao\">\n",
      "<span class=\"planos-pagamento__label\">Projeto avaliado pelos instrutores</span><div class=\"planos-pagamento__legenda-tooltip\"><p class=\"planos-pagamento__legenda-descricao\">Projeto práticos para entrega e avaliação dos professores da Alura com certificado de aprovação diferenciado</p></div></div><div class=\"planos-pagamento__checkmark planos-pagamento__checkmark--ativo\">\n",
      "<svg><use xlink:href=\"/svg,1570550707/planosPagamento#icon-planosPagamento-checked\"></use></svg></div></li><li class=\"planos-pagamento__vantagem\"><div class=\"planos-pagamento__wrapper planos-pagamento__wrapper--com-descricao\">\n",
      "<span class=\"planos-pagamento__label\">Acesso à Alura Start</span><div class=\"planos-pagamento__legenda-tooltip\"><p class=\"planos-pagamento__legenda-descricao\">Cursos de introdução a tecnologia através de games, apps e ciência</p></div></div><div class=\"planos-pagamento__checkmark planos-pagamento__checkmark--ativo\">\n",
      "<svg><use xlink:href=\"/svg,1570550707/planosPagamento#icon-planosPagamento-checked\"></use></svg></div></li><li class=\"planos-pagamento__vantagem\"><div class=\"planos-pagamento__wrapper planos-pagamento__wrapper--com-descricao\">\n",
      "<span class=\"planos-pagamento__label\">Acesso à Alura Língua</span><div class=\"planos-pagamento__legenda-tooltip\"><p class=\"planos-pagamento__legenda-descricao\">Reforço online de inglês e espanhol para aprimorar seu conhecimento</p></div></div><div class=\"planos-pagamento__checkmark\">\n",
      "<svg><use xlink:href=\"/svg,1570550707/planosPagamento#icon-planosPagamento-checked\"></use></svg></div></li></ul><div class=\"planos-pagamento__precos\">\n",
      "<span class=\"planos-pagamento__numero-parcelas\">\n",
      "12X\n",
      "</span><div class=\"planos-pagamento__preco-parcela\">\n",
      "<span class=\"planos-pagamento__valor-parcela\">R$100</span></div><div class=\"planos-pagamento__preco-vista\">\n",
      "<span class=\"planos-pagamento__label-vista\">à vista</span>\n",
      "<span class=\"planos-pagamento__valor-vista\">R$1.200</span></div></div><a class=\"planos-pagamento__cta\" href=\"/compra/premiumplus/\">\n",
      "Matricule-se\n",
      "</a></div><div class=\"planos-pagamento__plano planos-pagamento__plano--max\" data-payment-plan=\"\" data-payment-plan-price=\"1.440\"><div class=\"planos-pagamento__header\"><h4 class=\"planos-pagamento__nome\">Max</h4></div><ul class=\"planos-pagamento__vantagens\"><li class=\"planos-pagamento__vantagem\"><div class=\"planos-pagamento__wrapper planos-pagamento__wrapper--com-descricao\">\n",
      "<span class=\"planos-pagamento__label\">1016 cursos</span><div class=\"planos-pagamento__legenda-tooltip\"><p class=\"planos-pagamento__legenda-descricao\">Cursos de programação, UX, agilidade, data science, transformação digital, mobile, front-end, marketing e infra.</p></div></div><div class=\"planos-pagamento__checkmark planos-pagamento__checkmark--ativo\">\n",
      "<svg><use xlink:href=\"/svg,1570550707/planosPagamento#icon-planosPagamento-checked\"></use></svg></div></li><li class=\"planos-pagamento__vantagem\"><div class=\"planos-pagamento__wrapper planos-pagamento__wrapper--com-descricao\">\n",
      "<span class=\"planos-pagamento__label\">Certificado de participação</span><div class=\"planos-pagamento__legenda-tooltip\"><p class=\"planos-pagamento__legenda-descricao\">Certificado de que assistiu o curso e finalizou as atividades</p></div></div><div class=\"planos-pagamento__checkmark planos-pagamento__checkmark--ativo\">\n",
      "<svg><use xlink:href=\"/svg,1570550707/planosPagamento#icon-planosPagamento-checked\"></use></svg></div></li><li class=\"planos-pagamento__vantagem\"><div class=\"planos-pagamento__wrapper planos-pagamento__wrapper--com-descricao\">\n",
      "<span class=\"planos-pagamento__label\">App para Android e iPhone/iPad</span><div class=\"planos-pagamento__legenda-tooltip\"><p class=\"planos-pagamento__legenda-descricao\">Estude até mesmo offline através das nossas apps Android e iOS em smartphones e tablets</p></div></div><div class=\"planos-pagamento__checkmark planos-pagamento__checkmark--ativo\">\n",
      "<svg><use xlink:href=\"/svg,1570550707/planosPagamento#icon-planosPagamento-checked\"></use></svg></div></li><li class=\"planos-pagamento__vantagem\"><div class=\"planos-pagamento__wrapper planos-pagamento__wrapper--com-descricao\">\n",
      "<span class=\"planos-pagamento__label\">Projeto avaliado pelos instrutores</span><div class=\"planos-pagamento__legenda-tooltip\"><p class=\"planos-pagamento__legenda-descricao\">Projeto práticos para entrega e avaliação dos professores da Alura com certificado de aprovação diferenciado</p></div></div><div class=\"planos-pagamento__checkmark planos-pagamento__checkmark--ativo\">\n",
      "<svg><use xlink:href=\"/svg,1570550707/planosPagamento#icon-planosPagamento-checked\"></use></svg></div></li><li class=\"planos-pagamento__vantagem\"><div class=\"planos-pagamento__wrapper planos-pagamento__wrapper--com-descricao\">\n",
      "<span class=\"planos-pagamento__label\">Acesso à Alura Start</span><div class=\"planos-pagamento__legenda-tooltip\"><p class=\"planos-pagamento__legenda-descricao\">Cursos de introdução a tecnologia através de games, apps e ciência</p></div></div><div class=\"planos-pagamento__checkmark planos-pagamento__checkmark--ativo\">\n",
      "<svg><use xlink:href=\"/svg,1570550707/planosPagamento#icon-planosPagamento-checked\"></use></svg></div></li><li class=\"planos-pagamento__vantagem\"><div class=\"planos-pagamento__wrapper planos-pagamento__wrapper--com-descricao\">\n",
      "<span class=\"planos-pagamento__label\">Acesso à Alura Língua</span><div class=\"planos-pagamento__legenda-tooltip\"><p class=\"planos-pagamento__legenda-descricao\">Reforço online de inglês e espanhol para aprimorar seu conhecimento</p></div></div><div class=\"planos-pagamento__checkmark planos-pagamento__checkmark--ativo\">\n",
      "<svg><use xlink:href=\"/svg,1570550707/planosPagamento#icon-planosPagamento-checked\"></use></svg></div></li></ul><div class=\"planos-pagamento__precos\">\n",
      "<span class=\"planos-pagamento__numero-parcelas\">\n",
      "12X\n",
      "</span><div class=\"planos-pagamento__preco-parcela\">\n",
      "<span class=\"planos-pagamento__valor-parcela\">R$120</span></div><div class=\"planos-pagamento__preco-vista\">\n",
      "<span class=\"planos-pagamento__label-vista\">à vista</span>\n",
      "<span class=\"planos-pagamento__valor-vista\">R$1.440</span></div></div><a class=\"planos-pagamento__cta\" href=\"/compra/max/\">\n",
      "Matricule-se\n",
      "</a></div></div></div><a class=\"planos-pagamento__b2b\" href=\"/empresas\">\n",
      "<span>Procurando planos para empresas?</span> →\n",
      "</a><div class=\"planosPagamento-vantagens\"><div class=\"container\"><div class=\"planosPagamento-vantagens-vantagem acesso\">\n",
      "<svg><use xlink:href=\"/svg,1570550707/planosPagamento#icon-planosPagamento-acesso\"></use></svg>\n",
      "<span>Acesso por 1 ano<span></span></span></div><div class=\"planosPagamento-vantagens-vantagem horas\">\n",
      "<svg><use xlink:href=\"/svg,1570550707/planosPagamento#icon-planosPagamento-24h\"></use></svg>\n",
      "<span>Estude 24h/dia onde e quando quiser</span></div><div class=\"planosPagamento-vantagens-vantagem novos\">\n",
      "<svg><use xlink:href=\"/svg,1570550707/planosPagamento#icon-planosPagamento-cursos\"></use></svg>\n",
      "<span>Novos cursos toda semana</span></div></div></div></section> <script src=\"/assets/js/planosPagamentoOld.1570550707.js\"></script> </main></div>\n",
      "<script>if (navigator.userAgent.indexOf('Safari') > 1 && navigator.userAgent.indexOf('Edge') < 0)\n",
      "\t\t\tdocument.documentElement.className += ' home-fundo-animado'</script> <script src=\"/assets/js/home/categoriaCard.1570550707.js\"></script> <link href=\"/assets/css/block/footer.1580229429.css\" rel=\"stylesheet\"/><footer class=\"footer\"><div class=\"container\"><div class=\"footer-navegue\"><ul class=\"footer-navegue-lista\"><li class=\"footer-navegue-lista-link\"><a gtm-data=\"footer_primeira_secao_053\" href=\"/planos-cursos-online\">Planos</a></li><li class=\"footer-navegue-lista-link\"><a gtm-data=\"footer_primeira_secao_054\" href=\"/cursos-online-tecnologia\">Todos os cursos</a></li><li class=\"footer-navegue-lista-link\"><a href=\"/guias\">Guias de empresas</a></li><li class=\"footer-navegue-lista-link\"><a gtm-data=\"footer_primeira_secao_056\" href=\"/instrutores\">Instrutores</a></li><li class=\"footer-navegue-lista-link\"><a gtm-data=\"footer_primeira_secao_057\" href=\"/quero-ser-instrutor\">Como virar instrutor</a></li><li class=\"footer-navegue-lista-link\"><a gtm-data=\"footer_primeira_secao_059\" href=\"/artigos\">Artigos</a></li><li class=\"footer-navegue-lista-link\"><a href=\"/escolas\">Para Escolas</a></li><li class=\"footer-navegue-lista-link\"><a gtm-data=\"footer_primeira_secao_061\" href=\"/politica-de-privacidade\">Política de Privacidade</a></li><li class=\"footer-navegue-lista-link\"><a gtm-data=\"footer_primeira_secao_062\" href=\"/termos-de-uso\">Termos de Uso</a></li><li class=\"footer-navegue-lista-link\"><a gtm-data=\"footer_primeira_secao_063\" href=\"/sobre\">Sobre nós</a></li><li class=\"footer-navegue-lista-link\"><a gtm-data=\"footer_primeira_secao_064\" href=\"https://suporte.alura.com.br/\">Perguntas frequentes</a></li></ul></div><div class=\"footer-column footer-column-cards\"><div class=\"footer-newsletter\"><h2 class=\"footer-newsletter-titulo\">Receba Novidades e Lançamentos</h2><form action=\"https://cursos.alura.com.br/api/cadastra-newsletter\" class=\"footer-newsletter-form\" method=\"POST\">\n",
      "<input name=\"retorno\" type=\"hidden\" value=\"https://www.alura.com.br/newsletter-cadastrado\"/><label for=\"email-newsletter\">Email</label>\n",
      "<input class=\"footer-newsletter-input\" id=\"email-newsletter\" name=\"email\" placeholder=\"seu email\" type=\"email\"/><button class=\"footer-newsletter-button buttonForm\" type=\"submit\">OK</button></form></div><div class=\"footer-card-hotLinks\"><h2 class=\"footer-card-hotLinks-titulo\">Nossas redes e apps</h2><div class=\"footer-card-hotLinks-info footer-card-redes\">\n",
      "<a class=\"footer-card-hotLinks-link\" gtm-data=\"footer_primeira_secao_065\" href=\"https://www.youtube.com/alura\" target=\"_blank\" title=\"YouTube da Alura\">\n",
      "<svg class=\"footer-card-hotLinks-icon footer-card-hotLinks-youtube\"><use xlink:href=\"/svg,1580229429/footer#icon-footer-youtube\"></use></svg>\n",
      "<span>YouTube</span>\n",
      "</a>\n",
      "<a class=\"footer-card-hotLinks-link\" gtm-data=\"footer_primeira_secao_066\" href=\"https://www.facebook.com/AluraCursosOnline/\" target=\"_blank\" title=\"Facebook da Alura\">\n",
      "<svg class=\"footer-card-hotLinks-icon footer-card-hotLinks-facebook\"><use xlink:href=\"/svg,1580229429/footer#icon-footer-facebook\"></use></svg>\n",
      "<span>Facebook</span>\n",
      "</a>\n",
      "<a class=\"footer-card-hotLinks-link\" gtm-data=\"footer_primeira_secao_067\" href=\"https://twitter.com/aluraonline\" target=\"_blank\" title=\"Twitter da Alura\">\n",
      "<svg class=\"footer-card-hotLinks-icon footer-card-hotLinks-twitter\"><use xlink:href=\"/svg,1580229429/footer#icon-footer-twitter\"></use></svg>\n",
      "<span>Twitter</span>\n",
      "</a>\n",
      "<a class=\"footer-card-hotLinks-link\" gtm-data=\"footer_primeira_secao_068\" href=\"https://hipsters.tech/\" target=\"_blank\" title=\"Podcast Hipsters Ponto Tech\">\n",
      "<svg class=\"footer-card-hotLinks-icon footer-card-hotLinks-hipsters\"><use xlink:href=\"/svg,1580229429/footer#icon-footer-hipsters\"></use></svg>\n",
      "<span>Podcast Hipsters.tech</span>\n",
      "</a>\n",
      "<a class=\"footer-card-hotLinks-link\" gtm-data=\"footer_primeira_secao_073\" href=\"https://instagram.com/aluraonline\" target=\"_blank\" title=\"Instagram da Alura\">\n",
      "<svg class=\"footer-card-hotLinks-icon footer-card-hotLinks-instagram\"><use xlink:href=\"/svg,1580229429/footer#icon-footer-instagram\"></use></svg>\n",
      "<span>Instagram</span>\n",
      "</a></div><div class=\"footer-card-hotLinks-info footer-card-mobile\">\n",
      "<a class=\"footer-card-hotLinks-link\" gtm-data=\"footer_primeira_secao_069\" href=\"https://play.google.com/store/apps/details?id=br.com.alura.mobi&amp;hl=pt_BR\" target=\"_blank\" title=\"Baixar na Google Play Store\">\n",
      "<svg class=\"footer-card-hotLinks-icon footer-card-hotLinks-mobile\"><use xlink:href=\"/svg,1580229429/footer#icon-footer-googleplay\"></use></svg>\n",
      "<span>Google Play Store</span>\n",
      "</a>\n",
      "<a class=\"footer-card-hotLinks-link\" gtm-data=\"footer_primeira_secao_070\" href=\"https://itunes.apple.com/br/app/alura-cursos-online/id1225776635\" target=\"_blank\" title=\"Baixar na AppStore\">\n",
      "<svg class=\"footer-card-hotLinks-icon footer-card-hotLinks-mobile\"><use xlink:href=\"/svg,1580229429/footer#icon-footer-appstore\"></use></svg>\n",
      "<span>AppStore</span>\n",
      "</a></div></div></div><div class=\"footer-column\">\n",
      "<a class=\"footer-card footer-card-contato\" gtm-data=\"footer_primeira_secao_071\" href=\"/contato\"><div class=\"footer-card-info\"><h2 class=\"footer-card-titulo\">Fale Conosco</h2><p class=\"footer-card-texto\">Dúvida, crítica, sugestão ou elogio?</p><p class=\"footer-card-fakeLink\">Entre em contato!</p></div>\n",
      "</a><a class=\"footer-card footer-card-empresa\" gtm-data=\"footer_primeira_secao_072\" href=\"/empresas\"><div class=\"footer-card-info\"><h2 class=\"footer-card-titulo\">Empresa? Governo?</h2><p class=\"footer-card-texto\">Planos corporativos para o seu time.</p><p class=\"footer-card-fakeLink\">Saiba mais</p></div>\n",
      "</a></div><div class=\"footer-info\"><div class=\"footer-logos\">\n",
      "<a class=\"footer-logos-home\" gtm-data=\"footer_primeira_secao_050\" href=\"/\">\n",
      "<img alt=\"Alura\" class=\"footer-logo\" src=\"/assets/img/alura-logo.1570550707.svg\"/>\n",
      "</a>\n",
      "<a class=\"footer-link-caelum\" gtm-data=\"footer_primeira_secao_051\" href=\"https://www.caelum.com.br/\"><h3 class=\"footer-powered-by\">Powered by</h3>\n",
      "<img alt=\"Caelum\" class=\"footer-logo footer-caelumLogo\" src=\"/assets/img/footer/novo-logo-caelum.1580229429.svg\"/>\n",
      "</a></div><div class=\"footer-cnpj\"><p>\n",
      "<span class=\"footer-empresa-item\">AOVS Sistemas de Informática S.A</span>\n",
      "<span class=\"footer-empresa-item\">CNPJ 05.555.382/0001-33</span></p></div></div></div></footer><section class=\"footer_categorias-formacoes\"><div class=\"container\"><div class=\"footer_categorias_wrapper\"><h2 class=\"footer_categorias_title\">Cursos</h2><div class=\"footer_categorias_categorias footer-navegue-lista-link\"><div class=\"footer_categorias_categoria\">\n",
      "<a href=\"/cursos-online-mobile\">Cursos de Mobile</a><div class=\"footer_categorias_subcategorias\">\n",
      "<a href=\"/cursos-online-mobile/multiplataforma\">\n",
      "Flutter, React Native</a>\n",
      "<a href=\"/cursos-online-mobile/ios\">\n",
      "iOS e Swift</a>\n",
      "<a href=\"/cursos-online-mobile/android\">\n",
      "Android e Kotlin</a>\n",
      "<a href=\"/cursos-online-mobile/jogos\">\n",
      "Jogos</a></div></div><div class=\"footer_categorias_categoria\">\n",
      "<a href=\"/cursos-online-programacao\">Cursos de Programação</a><div class=\"footer_categorias_subcategorias\">\n",
      "<a href=\"/cursos-online-programacao/logica\">\n",
      "Lógica</a>\n",
      "<a href=\"/cursos-online-programacao/python\">\n",
      "Python</a>\n",
      "<a href=\"/cursos-online-programacao/php\">\n",
      "PHP</a>\n",
      "<a href=\"/cursos-online-programacao/java\">\n",
      "Java</a>\n",
      "<a href=\"/cursos-online-programacao/dotnet\">\n",
      ".NET</a>\n",
      "<a href=\"/cursos-online-programacao/node-js\">\n",
      "Node JS</a>\n",
      "<a href=\"/cursos-online-programacao/ruby\">\n",
      "Ruby &amp; Rails</a>\n",
      "<a href=\"/cursos-online-programacao/linguagem-c\">\n",
      "C</a>\n",
      "<a href=\"/cursos-online-programacao/computacao\">\n",
      "Computação</a>\n",
      "<a href=\"/cursos-online-programacao/jogos\">\n",
      "Jogos</a></div></div><div class=\"footer_categorias_categoria\">\n",
      "<a href=\"/cursos-online-front-end\">Cursos de Front-end</a><div class=\"footer_categorias_subcategorias\">\n",
      "<a href=\"/cursos-online-front-end/front-end\">\n",
      "HTML, CSS</a>\n",
      "<a href=\"/cursos-online-front-end/javascript\">\n",
      "JavaScript</a>\n",
      "<a href=\"/cursos-online-front-end/frameworks-mvc-em-javascript\">\n",
      "React, Angular</a>\n",
      "<a href=\"/cursos-online-front-end/jquery\">\n",
      "jQuery</a></div></div><div class=\"footer_categorias_categoria\">\n",
      "<a href=\"/cursos-online-infraestrutura\">Cursos de Infraestrutura</a><div class=\"footer_categorias_subcategorias\">\n",
      "<a href=\"/cursos-online-infraestrutura/devops\">\n",
      "DevOps e Git</a>\n",
      "<a href=\"/cursos-online-infraestrutura/cloud-computing\">\n",
      "Cloud</a>\n",
      "<a href=\"/cursos-online-infraestrutura/linux-comandos-e-processos\">\n",
      "Linux</a>\n",
      "<a href=\"/cursos-online-infraestrutura/internet-das-coisas\">\n",
      "IoT</a>\n",
      "<a href=\"/cursos-online-infraestrutura/redes\">\n",
      "Redes</a></div></div><div class=\"footer_categorias_categoria\">\n",
      "<a href=\"/cursos-online-design-ux\">Cursos de Design &amp; UX</a><div class=\"footer_categorias_subcategorias\">\n",
      "<a href=\"/cursos-online-design-ux/wwww\">\n",
      "Photoshop e Illustrator</a>\n",
      "<a href=\"/cursos-online-design-ux/ux\">\n",
      "Usabilidade e UX</a>\n",
      "<a href=\"/cursos-online-design-ux/video\">\n",
      "Vídeo e Motion</a>\n",
      "<a href=\"/cursos-online-design-ux/3d\">\n",
      "3D</a></div></div><div class=\"footer_categorias_categoria\">\n",
      "<a href=\"/cursos-online-marketing-digital\">Cursos de Marketing Digital</a><div class=\"footer_categorias_subcategorias\">\n",
      "<a href=\"/cursos-online-marketing-digital/ads\">\n",
      "Ads</a>\n",
      "<a href=\"/cursos-online-marketing-digital/marketing-digital\">\n",
      "Marketing</a>\n",
      "<a href=\"/cursos-online-marketing-digital/seo\">\n",
      "SEO</a>\n",
      "<a href=\"/cursos-online-marketing-digital/e-commerce\">\n",
      "E-commerce</a>\n",
      "<a href=\"/cursos-online-marketing-digital/social-media\">\n",
      "Social Media</a>\n",
      "<a href=\"/cursos-online-marketing-digital/youtube\">\n",
      "YouTube</a></div></div><div class=\"footer_categorias_categoria\">\n",
      "<a href=\"/cursos-online-data-science\">Cursos de Data Science</a><div class=\"footer_categorias_subcategorias\">\n",
      "<a href=\"/cursos-online-data-science/sql\">\n",
      "SQL e Banco de Dados</a>\n",
      "<a href=\"/cursos-online-data-science/nosql\">\n",
      "NoSQL</a>\n",
      "<a href=\"/cursos-online-data-science/data-science\">\n",
      "Data Science</a>\n",
      "<a href=\"/cursos-online-data-science/machine-learning\">\n",
      "Machine Learning</a>\n",
      "<a href=\"/cursos-online-data-science/business-intelligence\">\n",
      "BI</a>\n",
      "<a href=\"/cursos-online-data-science/estatistica\">\n",
      "Estatística</a>\n",
      "<a href=\"/cursos-online-data-science/excel\">\n",
      "Excel</a></div></div><div class=\"footer_categorias_categoria\">\n",
      "<a href=\"/cursos-online-inovacao-gestao\">Cursos de Inovação &amp; Gestão</a><div class=\"footer_categorias_subcategorias\">\n",
      "<a href=\"/cursos-online-inovacao-gestao/agilidade\">\n",
      "Métodos Ágeis</a>\n",
      "<a href=\"/cursos-online-inovacao-gestao/softskills-carreira\">\n",
      "Softskills</a>\n",
      "<a href=\"/cursos-online-inovacao-gestao/gestao-corporativa\">\n",
      "Liderança e Gestão</a>\n",
      "<a href=\"/cursos-online-inovacao-gestao/startup-empreendedorismo\">\n",
      "Startups e Empreendedorismo</a>\n",
      "<a href=\"/cursos-online-inovacao-gestao/vendas\">\n",
      "Vendas</a></div></div></div></div></div></section><style>@media not all and (min-width: 1000px){\n",
      "\t\t.grupoCaelum{\n",
      "\t\t\tdisplay: none;\n",
      "\t\t}\n",
      "\t}\n",
      "\n",
      "\t.grupoCaelum{\n",
      "\t\tbackground: #fff;\n",
      "\t\theight: 240px;\n",
      "\t\tborder-top: 1px solid #EBEBEE;\n",
      "\t}\n",
      "\n",
      "\t.grupoCaelum .container{\n",
      "\t\tdisplay: flex;\n",
      "\t\tjustify-content: space-between;\n",
      "\t\talign-items: flex-start;\n",
      "\t\tpadding-top: 0;\n",
      "\t\tpadding-bottom: 0;\n",
      "\t\theight: 100%;\n",
      "\t}\n",
      "\n",
      "\t\t.grupoCaelum-list{\n",
      "\t\t\tdisplay: flex;\n",
      "\t\t\tlist-style: none;\n",
      "\t\t\twidth: 60%;\n",
      "\t\t\tjustify-content: space-between;\n",
      "\t\t\talign-items: flex-start;\n",
      "\t\t\tmargin-top: 20px;\n",
      "\t\t}\n",
      "\n",
      "\t\t.grupoCaelum-title{\n",
      "\t\t\twidth: 20%;\n",
      "\t\t}\n",
      "\n",
      "\t\t.grupoCaelum-column {\n",
      "\t\t\tdisplay: inline-block;\n",
      "\t\t\tpadding-left: 19px;\n",
      "\t\t\twidth: 240px;\n",
      "\t\t\theight: 210px;\n",
      "\t\t\tmin-width: 160px;\n",
      "\t\t}\n",
      "\t\t\t.grupoCaelum-column-title {\n",
      "\t\t\t\tfont-size: 10px;\n",
      "\t\t\t\tcolor: #d7e0e5;\n",
      "\t\t\t\ttext-transform: uppercase;\n",
      "\t\t\t\tfont-weight: 600;\n",
      "\t\t\t\tmargin-bottom: 19px;\n",
      "\t\t\t}\n",
      "\n",
      "\t\t\t.grupoCaelum-column-list {\n",
      "\t\t\t\tlist-style: none;\n",
      "\t\t\t}\n",
      "\n",
      "\t\t\t.column-item-title {\n",
      "\t\t\t\tfont-size: 11px;\n",
      "\t\t\t\ttext-align: center;\n",
      "\t\t\t\tvertical-align: middle;\n",
      "\t\t\t\tdisplay: inline-block;\n",
      "\t\t\t\tmargin-left: 6.5px;\n",
      "\t\t\t}\n",
      "\n",
      "\t\t.grupoCaelum-column:not(:first-child) {\n",
      "\t\t\tborder-left: solid 1px #e3e9ed;\n",
      "\t\t}\n",
      "\n",
      "\t\t.grupoCaelum-title {\n",
      "\t\t\tdisplay: inline-block;\n",
      "\t\t\ttext-decoration: none;\n",
      "\t\t\tcolor: #657176;\n",
      "\t\t\tletter-spacing: normal;\n",
      "\t\t\tfont-size: 18px;\n",
      "\t\t\tmargin-top: 54px;\n",
      "\t\t}\n",
      "\n",
      "\t.column-item-logo {\n",
      "\t\twidth: 30px;\n",
      "\t\theight: 30px;\n",
      "\t\tvertical-align: middle;\n",
      "\t\tdisplay: inline-block;\n",
      "\t}\n",
      "\n",
      "\t.column-item {\n",
      "\t\tmargin-bottom: 17px;\n",
      "\t}\n",
      "\n",
      "\t.column-item a{\n",
      "\t\ttext-decoration: none;\n",
      "\t\tcolor: #657176;\n",
      "\t}</style><footer class=\"caelum-footer\"><div class=\"grupoCaelum\"><div class=\"container\"><p class=\"grupoCaelum-title\">Grupo Caelum Alura</p><ul class=\"grupoCaelum-list\"><li class=\"grupoCaelum-column\"><p class=\"grupoCaelum-column-title\">Educação</p><ul class=\"grupoCaelum-column-list\"><li class=\"column-item\">\n",
      "<a href=\"https://www.caelum.com.br\" target=\"_blank\"><svg class=\"column-item-logo\"><use xlink:href=\"/svg,1580229429/caelumFooter#icon-caelumFooter-novo-logo-caelum\"><span class=\"column-item-title\">Caelum</span></use></svg>\n",
      "</a></li><li class=\"column-item\">\n",
      "<a href=\"https://www.casadocodigo.com.br\" target=\"_blank\">\n",
      "<svg class=\"column-item-logo\"><use xlink:href=\"/svg,1580229429/caelumFooter#icon-caelumFooter-cdc\"><span class=\"column-item-title\">Casa do Código</span></use></svg>\n",
      "</a></li></ul></li><li class=\"grupoCaelum-column\"><p class=\"grupoCaelum-column-title\">Educação Online</p><ul class=\"grupoCaelum-column-list\"><li class=\"column-item\">\n",
      "<a href=\"https://www.alura.com.br\" target=\"_blank\">\n",
      "<svg class=\"column-item-logo\"><use xlink:href=\"/svg,1580229429/caelumFooter#icon-caelumFooter-alura\"><span class=\"column-item-title\">Alura</span></use></svg>\n",
      "</a></li><li class=\"column-item\">\n",
      "<a href=\"https://www.alurastart.com.br\" target=\"_blank\">\n",
      "<svg class=\"column-item-logo\"><use xlink:href=\"/svg,1580229429/caelumFooter#icon-caelumFooter-alurastart\"><span class=\"column-item-title\">Alura Start</span></use></svg>\n",
      "</a></li><li class=\"column-item\">\n",
      "<a href=\"https://www.musicdot.com.br\" target=\"_blank\">\n",
      "<svg class=\"column-item-logo\"><use xlink:href=\"/svg,1580229429/caelumFooter#icon-caelumFooter-musicdot\"><span class=\"column-item-title\">MusicDot</span></use></svg>\n",
      "</a></li><li class=\"column-item\">\n",
      "<a href=\"https://www.aluralingua.com.br\" target=\"_blank\">\n",
      "<svg class=\"column-item-logo\"><use xlink:href=\"/svg,1580229429/caelumFooter#icon-caelumFooter-aluralingua\"><span class=\"column-item-title\">Alura Língua</span></use></svg>\n",
      "</a></li></ul></li><li class=\"grupoCaelum-column\"><p class=\"grupoCaelum-column-title\">Comunidade</p><ul class=\"grupoCaelum-column-list\"><li class=\"column-item\">\n",
      "<a href=\"https://hipsters.tech\" target=\"_blank\">\n",
      "<svg class=\"column-item-logo\"><use xlink:href=\"/svg,1580229429/caelumFooter#icon-caelumFooter-hipsterstech\"><span class=\"column-item-title\">Hipsters ponto Tech</span></use></svg>\n",
      "</a></li><li class=\"column-item\">\n",
      "<a href=\"https://hipsters.jobs\" target=\"_blank\">\n",
      "<svg class=\"column-item-logo\"><use xlink:href=\"/svg,1580229429/caelumFooter#icon-caelumFooter-hipstersjobs\"><span class=\"column-item-title\">Hipsters ponto Jobs</span></use></svg>\n",
      "</a></li><li class=\"column-item\">\n",
      "<a href=\"https://www.guj.com.br\" target=\"_blank\">\n",
      "<svg class=\"column-item-logo\"><use xlink:href=\"/svg,1580229429/caelumFooter#icon-caelumFooter-guj\"><span class=\"column-item-title\">GUJ</span></use></svg>\n",
      "</a></li></ul></li></ul></div></div></footer> <script>(function(){\n",
      "    var match = location.pathname.match(/\\/(bf-|blackfriday\\/)([^\\/]+)/);\n",
      "    if (match != null) {\n",
      "        var links = document.querySelectorAll('a[href]');\n",
      "        for (var i = 0; i < links.length; i++) {\n",
      "            var href = links[i].getAttribute('href');\n",
      "            if (href[0] === '/') {\n",
      "                links[i].setAttribute('href', '/bf-' + match[2] + href);\n",
      "            }\n",
      "        }\n",
      "    }\n",
      "})();</script> <script async=\"\" src=\"/assets/js/lib/svg4everybody.min.1570550707.js\"></script> <script async=\"\" src=\"/assets/js/header/menu.1570550707.js\"></script> <script async=\"\" src=\"/assets/js/header/busca.1570550707.js\"></script> <script async=\"\" src=\"/assets/js/header/cursos.1570550707.js\"></script> <script async=\"\" src=\"/assets/js/detect.1570550707.js\"></script> <script async=\"\" src=\"/assets/js/video.1571773177.js\"></script> <script async=\"\" src=\"/assets/js/Countdown.1571149146.js\"></script> <script>var userId = (document.cookie.match('alura.userId=([^;]+)')||[null,null])[1];\n",
      "  window.ga=window.ga||function(){(ga.q=ga.q||[]).push(arguments)};ga.l=+new Date;\n",
      "\n",
      "  \tga('create', 'UA-42101548-1', 'alura.com.br', 'tracker0', {'siteSpeedSampleRate': 50});\n",
      "\n",
      "\tif (userId) ga('tracker0.set', 'userId', userId);\n",
      "\n",
      "\tga('tracker0.require', 'displayfeatures');\n",
      "\tga('tracker0.send', 'pageview');\n",
      "  \tga('create', 'UA-42101548-9', 'alura.com.br', 'tracker1', {'siteSpeedSampleRate': 50});\n",
      "\n",
      "\tif (userId) ga('tracker1.set', 'userId', userId);\n",
      "\n",
      "\tga('tracker1.require', 'displayfeatures');\n",
      "\tga('tracker1.send', 'pageview');</script> <script async=\"\" src=\"//www.google-analytics.com/analytics.js\"></script> <script async=\"\" src=\"/assets/js/footer/footer.1570550707.js\"></script> <script async=\"\" src=\"https://static.criteo.net/js/ld/ld.js\"></script> <script>function criteoPush(event, data){\n",
      "\t\tvar isAluno = document.cookie.match('alura.userId=([^;]+)') != null;\n",
      "\t\tif(isAluno) return;\n",
      "\n",
      "\t\twindow.criteo_q = window.criteo_q || [];\n",
      "\t\t\twindow.criteo_q.push(\n",
      "\t\t\t\t{ event: \"setAccount\", account: 28037 },\n",
      "\t\t\t\t{ event: \"setEmail\", email: \"\" },\n",
      "\t\t\t\t{ event: \"setSiteType\", type: (/iPad/.test(navigator.userAgent) ? \"t\" : (/Mobile|iP(hone|od)|Android|BlackBerry|IEMobile/.test(navigator.userAgent) ? \"m\" : \"d\")) },\n",
      "\t\t\t\t{ event: event, item: data}\n",
      "\t\t\t);\t\n",
      "\t};\n",
      "\n",
      "\t\t\tcriteoPush(\"viewHome\", \"\");\n",
      "\t\t\n",
      "\t\tvar criteoIdEl = document.querySelector('[data-criteo-id]');\n",
      "\tif (criteoIdEl) {\n",
      "        var products = JSON.parse(criteoIdEl.dataset.criteoId);\n",
      "        var planos = document.querySelectorAll('[data-payment-plan]');\n",
      "\n",
      "        planos.forEach(function (plano) {\n",
      "            plano.addEventListener('click', function (event) {\n",
      "\t\t\t\tvar price = plano.dataset.paymentPlanPrice;\n",
      "                var totalProducts = products.length;\n",
      "\t\t\t\tvar productIds = '';\n",
      "\n",
      "                for(var i = 0; i < totalProducts; i++){\n",
      "                    products[i]['price'] = price;\n",
      "                    products[i]['quantity'] = 1;\n",
      "\t\t\t\t\tproductIds += ',' + products[i]['id'];\n",
      "                }\n",
      "\n",
      "\t\t\t\tproductIds = productIds.substr(1);\n",
      "\n",
      "\t\t\t\t// monta cookie pro Cart indicando quais cursos foram clicados\n",
      "        \t\tdocument.cookie = \"criteo.productIds=\" + productIds + \"; path=/; domain=.alura.com.br\";\n",
      "\n",
      "\t\t\t\t// manda pro criteo\n",
      "                criteoPush(\"viewBasket\", products);\n",
      "            });\n",
      "        });\n",
      "\n",
      "\n",
      "\t}</script> <script type=\"text/javascript\">_linkedin_partner_id = \"465017\";\n",
      "\t\t\twindow._linkedin_data_partner_ids = window._linkedin_data_partner_ids || [];\n",
      "\t\t\twindow._linkedin_data_partner_ids.push(_linkedin_partner_id);</script> <script type=\"text/javascript\">(function(){var s = document.getElementsByTagName(\"script\")[0];\n",
      "\t\t\tvar b = document.createElement(\"script\");\n",
      "\t\t\tb.type = \"text/javascript\";b.async = true;\n",
      "\t\t\tb.src = \"https://snap.licdn.com/li.lms-analytics/insight.min.js\";\n",
      "\t\t\ts.parentNode.insertBefore(b, s);})();</script> <noscript>\n",
      "<img alt=\"\" height=\"1\" src=\"https://dc.ads.linkedin.com/collect/?pid=465017&amp;fmt=gif\" style=\"display:none;\" width=\"1\">\n",
      "</img></noscript></body></html>\n"
     ]
    }
   ],
   "source": [
    "from urllib.request import Request,urlopen\n",
    "from urllib.error import URLError, HTTPError\n",
    "\n",
    "url = 'https://www.alura.com.br/'\n",
    "headers = {'User-Agent': 'Mozilla/5.0 (Windows NT 10.0; Win64; x64; rv:72.0) Gecko/20100101 Firefox/72.0'}\n",
    "\n",
    "try: \n",
    "    req = Request(url,headers=headers)\n",
    "    response = urlopen(req)\n",
    "    html2 = response.read()\n",
    "    soup = BeautifulSoup(html2,'html.parser')\n",
    "    print(soup)\n",
    "except HTTPError as e:\n",
    "    print(e.status,e.reason)\n",
    "\n",
    "except URLError as e:\n",
    "    print(e.reason)\n"
   ]
  },
  {
   "cell_type": "markdown",
   "metadata": {},
   "source": [
    "# 2.3. Tratamento de string"
   ]
  },
  {
   "cell_type": "code",
   "execution_count": 6,
   "metadata": {},
   "outputs": [
    {
     "data": {
      "text/plain": [
       "bytes"
      ]
     },
     "execution_count": 6,
     "metadata": {},
     "output_type": "execute_result"
    }
   ],
   "source": [
    "type(html)"
   ]
  },
  {
   "cell_type": "markdown",
   "metadata": {},
   "source": [
    "### Convertando o tipo bytes para string"
   ]
  },
  {
   "cell_type": "code",
   "execution_count": 7,
   "metadata": {},
   "outputs": [],
   "source": [
    "html = html.decode('utf-8')"
   ]
  },
  {
   "cell_type": "code",
   "execution_count": 8,
   "metadata": {},
   "outputs": [
    {
     "data": {
      "text/plain": [
       "str"
      ]
     },
     "execution_count": 8,
     "metadata": {},
     "output_type": "execute_result"
    }
   ],
   "source": [
    "type(html)"
   ]
  },
  {
   "cell_type": "code",
   "execution_count": 9,
   "metadata": {},
   "outputs": [
    {
     "data": {
      "text/plain": [
       "'<!DOCTYPE html>\\r\\n<html lang=\"pt-br\">\\r\\n<head>\\r\\n    <meta charset=\"utf-8\">\\r\\n    <meta name=\"viewport\" content=\"width=device-width, initial-scale=1, shrink-to-fit=no\">\\r\\n\\r\\n    <title>Alura Motors</title>\\r\\n\\r\\n\\t<style>\\r\\n\\t\\t/*Regra para a animacao*/\\r\\n\\t\\t@keyframes spin {\\r\\n\\t\\t\\t0% { transform: rotate(0deg); }\\r\\n\\t\\t\\t100% { transform: rotate(360deg); }\\r\\n\\t\\t}\\r\\n\\t\\t/*Mudando o tamanho do icone de resposta*/\\r\\n\\t\\tdiv.glyphicon {\\r\\n\\t\\t\\tcolor:#6B8E23;\\r\\n\\t\\t\\tfont-size: 38px;\\r\\n\\t\\t}\\r\\n\\t\\t/*Classe que mostra a animacao \\'spin\\'*/\\r\\n\\t\\t.loader {\\r\\n\\t\\t\\tborder: 16px solid #f3f3f3;\\r\\n\\t\\t\\tborder-radius: 50%;\\r\\n\\t\\t\\tborder-top: 16px solid #3498db;\\r\\n\\t\\t\\twidth: 80px;\\r\\n\\t\\t\\theight: 80px;\\r\\n\\t\\t\\t-webkit-animation: spin 2s linear infinite;\\r\\n\\t\\t\\tanimation: spin 2s linear infinite;\\r\\n\\t\\t}\\r\\n\\t</style>\\r\\n\\t<link rel=\"stylesheet\" href=\"https://maxcdn.bootstrapcdn.com/bootstrap/3.3.7/css/bootstrap.min.css\" integrity=\"sha384-BVYiiSIFeK1dGmJRAkycuHAHRg32OmUcww7on3RYdg4Va+PmSTsz/K68vbdEjh4u\" crossorigin=\"anonymous\">\\r\\n\\t<link rel=\"stylesheet\" href=\"css/styles.css\" media=\"all\">\\r\\n\\r\\n\\t<script src=\"https://code.jquery.com/jquery-1.12.4.js\"></script>\\r\\n\\t<script src=\"https://maxcdn.bootstrapcdn.com/bootstrap/3.3.7/js/bootstrap.min.js\" integrity=\"sha384-Tc5IQib027qvyjSMfHjOMaLkfuWVxZxUPnCJA7l2mCWNIpG9mGCD8wGNIcPD7Txa\" crossorigin=\"anonymous\"></script>\\r\\n\\t<script type=\"text/javascript\" src=\"js/index.js\"></script>\\r\\n\\t<script>\\r\\n\\t\\trequisitar(\"https://alura-scraping.herokuapp.com/produtos?_page=\"+1+\"&_limit=10\")\\r\\n\\t</script>\\r\\n\\r\\n</head>\\r\\n<body cz-shortcut-listen=\"true\">\\r\\n    <noscript>You need to enable JavaScript to run this app.</noscript>\\r\\n\\r\\n\\t<div class=\"modal fade\" data-backdrop=\"static\" id=\"loadingModal\" tabindex=\"-1\" role=\"dialog\" aria-labelledby=\"loadingModal_label\">\\r\\n\\t\\t<div class=\"modal-dialog\" role=\"document\">\\r\\n\\t\\t\\t<div class=\"modal-content\">\\r\\n\\t\\t\\t\\t<div class=\"modal-header\">\\r\\n\\t\\t\\t\\t\\t<h5 class=\"modal-title\" id=\"loadingModal_label\">\\r\\n\\t\\t\\t\\t\\t\\t<span class=\"glyphicon glyphicon-refresh\"></span>Aguarde...\\r\\n\\t\\t\\t\\t\\t</h5>\\r\\n\\t\\t\\t\\t</div>\\r\\n\\t\\t\\t\\t<div class=\"modal-body\">\\r\\n\\t\\t\\t\\t\\t<div class=\\'alert\\' role=\\'alert\\'>\\r\\n\\t\\t\\t\\t\\t\\t<center>\\r\\n\\t\\t\\t\\t\\t\\t\\t<div class=\"loader\" id=\"loader\"></div><br>\\r\\n\\t\\t\\t\\t\\t\\t\\t<h4><b id=\"loadingModal_content\"></b></h4>\\r\\n\\t\\t\\t\\t\\t\\t</center>\\r\\n\\t\\t\\t\\t\\t</div>\\r\\n\\t\\t\\t\\t</div>\\r\\n\\t\\t\\t</div>\\r\\n\\t\\t</div>\\r\\n\\t</div>\\r\\n\\r\\n    <div id=\"root\">\\r\\n\\t\\t<header>\\r\\n\\t\\t\\t<nav class=\"navbar navbar-inverse\" style=\"margin-bottom: 0;\">\\r\\n\\t\\t\\t\\t<div class=\"container\" style=\"margin-bottom: -20px;\">\\r\\n\\t\\t\\t\\t\\t<div class=\"navbar\">\\r\\n\\t\\t\\t\\t\\t\\t<a href=\"./index.php\" class=\"navbar-brand\" title=\"Alura Motors\">\\r\\n\\t\\t\\t\\t\\t\\t\\t<img src=\"img/alura-logo.svg\" class=\"d-inline-block align-top\" alt=\"Alura\">Motors\\r\\n\\t\\t\\t\\t\\t\\t</a>\\r\\n\\t\\t\\t\\t\\t\\t<ul class=\"nav navbar-nav\" style=\"margin-top: 35px;\">\\r\\n\\t\\t\\t\\t\\t\\t\\t<li><a href=\"./hello-world.php\">Hello World</a></li>\\r\\n\\t\\t\\t\\t\\t\\t\\t<li><a href=\"./index.php\">Anúncios</a></li>\\r\\n\\t\\t\\t\\t\\t\\t</ul>\\r\\n\\t\\t\\t\\t\\t</div>\\r\\n\\t\\t\\t\\t</div>\\r\\n\\t\\t\\t</nav>\\r\\n\\t\\t</header>\\r\\n\\r\\n\\t\\t<div class=\"container\">\\r\\n\\t\\t\\t<h1 class=\"sub-header\">Veículos de Luxo Novos e Usados - Todas as Marcas</h1>\\r\\n\\t\\t\\t<div class=\"row\">\\r\\n\\t\\t\\t\\t<div class=\"col-md-12\">\\r\\n\\t\\t\\t\\t\\t<div class=\"container\" style=\"width: 100%\">\\r\\n\\t\\t\\t\\t\\t\\t<div class=\"type-select\">246 veículos encontrados</div>\\r\\n\\t\\t\\t\\t\\t\\t\\t<div class=\"container-pagination\" style=\"float: right\">\\r\\n\\t\\t\\t\\t\\t\\t\\t\\t<span class=\"info-pages\">Página 1 de 25</span>\\r\\n\\t\\t\\t\\t\\t\\t\\t</div>\\r\\n\\t\\t\\t\\t\\t\\t</div>\\r\\n\\t\\t\\t\\t\\t\\t<div id=\"container-cards\" style=\"height: 100%\">\\r\\n\\t\\t\\t\\t\\t\\t\\t\\r\\n                <div class=\"well card\">\\r\\n                    <div class=\"col-md-3 image-card\">\\r\\n                        <img width=\"220\" height=\"155\" alt=\"Foto\" src=\"https://caelum-online-public.s3.amazonaws.com/1381-scraping/01/img-cars/lamborghini-aventador/lamborghini-aventador-2932196__340.jpg\">\\r\\n                    </div>\\r\\n                    <div class=\"col-md-6 body-card\">\\r\\n                        <p class=\"txt-name inline\">LAMBORGHINI AVENTADOR</p>\\r\\n                            <p class=\"txt-category badge badge-secondary inline\">USADO</p>\\r\\n                            \\r\\n                        <p class=\"txt-motor\">Motor 1.8 16v</p>\\r\\n                        <p class=\"txt-description\">Ano 1993 - 55.286 km</p>\\r\\n                        <ul class=\"lst-items\">\\r\\n                            <li class=\"txt-items\">► 4 X 4</li>\\r\\n                            <li class=\"txt-items\">► Câmera de estacionamento</li>\\r\\n                            <li class=\"txt-items\">► Controle de tração</li>\\r\\n                            <li class=\"txt-items\">► Sensor de estacionamento</li>\\r\\n                            <li class=\"txt-items\">...</li>\\r\\n                        </ul>\\r\\n                        <p class=\"txt-location\">Belo Horizonte - MG</p>\\r\\n                    </div>\\r\\n                    <div class=\"col-md-3 value-card\">\\r\\n                        <div class=\"value\">\\r\\n                            <p class=\"txt-value\">R$ 338.000</p>\\r\\n                        </div>\\r\\n                    </div>\\r\\n                </div>\\r\\n                <div class=\"well card\">\\r\\n                    <div class=\"col-md-3 image-card\">\\r\\n                        <img width=\"220\" height=\"155\" alt=\"Foto\" src=\"https://caelum-online-public.s3.amazonaws.com/1381-scraping/01/img-cars/bmw-m2/bmw-m2-2970882__340.jpg\">\\r\\n                    </div>\\r\\n                    <div class=\"col-md-6 body-card\">\\r\\n                        <p class=\"txt-name inline\">BMW M2</p>\\r\\n                            <p class=\"txt-category badge badge-secondary inline\">USADO</p>\\r\\n                            \\r\\n                        <p class=\"txt-motor\">Motor 3.0 32v</p>\\r\\n                        <p class=\"txt-description\">Ano 2018 - 83.447 km</p>\\r\\n                        <ul class=\"lst-items\">\\r\\n                            <li class=\"txt-items\">► Câmera de estacionamento</li>\\r\\n                            <li class=\"txt-items\">► Controle de estabilidade</li>\\r\\n                            <li class=\"txt-items\">► Travas elétricas</li>\\r\\n                            <li class=\"txt-items\">► Freios ABS</li>\\r\\n                            <li class=\"txt-items\">...</li>\\r\\n                        </ul>\\r\\n                        <p class=\"txt-location\">Belo Horizonte - MG</p>\\r\\n                    </div>\\r\\n                    <div class=\"col-md-3 value-card\">\\r\\n                        <div class=\"value\">\\r\\n                            <p class=\"txt-value\">R$ 346.000</p>\\r\\n                        </div>\\r\\n                    </div>\\r\\n                </div>\\r\\n                <div class=\"well card\">\\r\\n                    <div class=\"col-md-3 image-card\">\\r\\n                        <img width=\"220\" height=\"155\" alt=\"Foto\" src=\"https://caelum-online-public.s3.amazonaws.com/1381-scraping/01/img-cars/alfa/alfa-1823056__340.jpg\">\\r\\n                    </div>\\r\\n                    <div class=\"col-md-6 body-card\">\\r\\n                        <p class=\"txt-name inline\">ALFA</p>\\r\\n                            <p class=\"txt-category badge badge-secondary inline\">USADO</p>\\r\\n                            \\r\\n                        <p class=\"txt-motor\">Motor 1.8 16v</p>\\r\\n                        <p class=\"txt-description\">Ano 2004 - 19.722 km</p>\\r\\n                        <ul class=\"lst-items\">\\r\\n                            <li class=\"txt-items\">► Central multimídia</li>\\r\\n                            <li class=\"txt-items\">► Bancos de couro</li>\\r\\n                            <li class=\"txt-items\">► Rodas de liga</li>\\r\\n                            <li class=\"txt-items\">► Câmera de estacionamento</li>\\r\\n                            <li class=\"txt-items\">...</li>\\r\\n                        </ul>\\r\\n                        <p class=\"txt-location\">Rio de Janeiro - RJ</p>\\r\\n                    </div>\\r\\n                    <div class=\"col-md-3 value-card\">\\r\\n                        <div class=\"value\">\\r\\n                            <p class=\"txt-value\">R$ 480.000</p>\\r\\n                        </div>\\r\\n                    </div>\\r\\n                </div>\\r\\n                <div class=\"well card\">\\r\\n                    <div class=\"col-md-3 image-card\">\\r\\n                        <img width=\"220\" height=\"155\" alt=\"Foto\" src=\"https://caelum-online-public.s3.amazonaws.com/1381-scraping/01/img-cars/puech/puech-4055386__340.jpg\">\\r\\n                    </div>\\r\\n                    <div class=\"col-md-6 body-card\">\\r\\n                        <p class=\"txt-name inline\">PUECH</p>\\r\\n                            <p class=\"txt-category badge badge-secondary inline\">USADO</p>\\r\\n                            \\r\\n                        <p class=\"txt-motor\">Motor Diesel V8</p>\\r\\n                        <p class=\"txt-description\">Ano 1992 - 34.335 km</p>\\r\\n                        <ul class=\"lst-items\">\\r\\n                            <li class=\"txt-items\">► Bancos de couro</li>\\r\\n                            <li class=\"txt-items\">► Freios ABS</li>\\r\\n                            <li class=\"txt-items\">► Rodas de liga</li>\\r\\n                            <li class=\"txt-items\">► Câmbio automático</li>\\r\\n                            <li class=\"txt-items\">...</li>\\r\\n                        </ul>\\r\\n                        <p class=\"txt-location\">São Paulo - SP</p>\\r\\n                    </div>\\r\\n                    <div class=\"col-md-3 value-card\">\\r\\n                        <div class=\"value\">\\r\\n                            <p class=\"txt-value\">R$ 133.000</p>\\r\\n                        </div>\\r\\n                    </div>\\r\\n                </div>\\r\\n                <div class=\"well card\">\\r\\n                    <div class=\"col-md-3 image-card\">\\r\\n                        <img width=\"220\" height=\"155\" alt=\"Foto\" src=\"https://caelum-online-public.s3.amazonaws.com/1381-scraping/01/img-cars/lamborghini-murcielago/lamborghini-murcielago-2872974__340.jpg\">\\r\\n                    </div>\\r\\n                    <div class=\"col-md-6 body-card\">\\r\\n                        <p class=\"txt-name inline\">LAMBORGHINI MURCIELAGO</p>\\r\\n                            <p class=\"txt-category badge badge-secondary inline\">USADO</p>\\r\\n                            \\r\\n                        <p class=\"txt-motor\">Motor 1.0 8v</p>\\r\\n                        <p class=\"txt-description\">Ano 1991 - 464 km</p>\\r\\n                        <ul class=\"lst-items\">\\r\\n                            <li class=\"txt-items\">► Central multimídia</li>\\r\\n                            <li class=\"txt-items\">► Teto panorâmico</li>\\r\\n                            <li class=\"txt-items\">► Sensor crepuscular</li>\\r\\n                            <li class=\"txt-items\">► Piloto automático</li>\\r\\n                            <li class=\"txt-items\">...</li>\\r\\n                        </ul>\\r\\n                        <p class=\"txt-location\">Belo Horizonte - MG</p>\\r\\n                    </div>\\r\\n                    <div class=\"col-md-3 value-card\">\\r\\n                        <div class=\"value\">\\r\\n                            <p class=\"txt-value\">R$ 175.000</p>\\r\\n                        </div>\\r\\n                    </div>\\r\\n                </div>\\r\\n                <div class=\"well card\">\\r\\n                    <div class=\"col-md-3 image-card\">\\r\\n                        <img width=\"220\" height=\"155\" alt=\"Foto\" src=\"https://caelum-online-public.s3.amazonaws.com/1381-scraping/01/img-cars/aston-martin/aston-martin-2977916__340.jpg\">\\r\\n                    </div>\\r\\n                    <div class=\"col-md-6 body-card\">\\r\\n                        <p class=\"txt-name inline\">ASTON MARTIN</p>\\r\\n                            <p class=\"txt-category badge badge-secondary inline\">USADO</p>\\r\\n                            <p class=\"txt-opportunity badge badge-danger inline\">OPORTUNIDADE</p>\\r\\n                        <p class=\"txt-motor\">Motor Diesel V6</p>\\r\\n                        <p class=\"txt-description\">Ano 2004 - 50.189 km</p>\\r\\n                        <ul class=\"lst-items\">\\r\\n                            <li class=\"txt-items\">► Painel digital</li>\\r\\n                            <li class=\"txt-items\">► Controle de tração</li>\\r\\n                            <li class=\"txt-items\">► Teto panorâmico</li>\\r\\n                            <li class=\"txt-items\">► Central multimídia</li>\\r\\n                            <li class=\"txt-items\">...</li>\\r\\n                        </ul>\\r\\n                        <p class=\"txt-location\">Belo Horizonte - MG</p>\\r\\n                    </div>\\r\\n                    <div class=\"col-md-3 value-card\">\\r\\n                        <div class=\"value\">\\r\\n                            <p class=\"txt-value\">R$ 239.000</p>\\r\\n                        </div>\\r\\n                    </div>\\r\\n                </div>\\r\\n                <div class=\"well card\">\\r\\n                    <div class=\"col-md-3 image-card\">\\r\\n                        <img width=\"220\" height=\"155\" alt=\"Foto\" src=\"https://caelum-online-public.s3.amazonaws.com/1381-scraping/01/img-cars/tvr/tvr-2943925__340.jpg\">\\r\\n                    </div>\\r\\n                    <div class=\"col-md-6 body-card\">\\r\\n                        <p class=\"txt-name inline\">TVR</p>\\r\\n                            <p class=\"txt-category badge badge-secondary inline\">USADO</p>\\r\\n                            \\r\\n                        <p class=\"txt-motor\">Motor 4.0 Turbo</p>\\r\\n                        <p class=\"txt-description\">Ano 2014 - 17.778 km</p>\\r\\n                        <ul class=\"lst-items\">\\r\\n                            <li class=\"txt-items\">► 4 X 4</li>\\r\\n                            <li class=\"txt-items\">► Teto panorâmico</li>\\r\\n                            <li class=\"txt-items\">► Central multimídia</li>\\r\\n                            <li class=\"txt-items\">► Controle de estabilidade</li>\\r\\n                            <li class=\"txt-items\">...</li>\\r\\n                        </ul>\\r\\n                        <p class=\"txt-location\">Belo Horizonte - MG</p>\\r\\n                    </div>\\r\\n                    <div class=\"col-md-3 value-card\">\\r\\n                        <div class=\"value\">\\r\\n                            <p class=\"txt-value\">R$ 115.000</p>\\r\\n                        </div>\\r\\n                    </div>\\r\\n                </div>\\r\\n                <div class=\"well card\">\\r\\n                    <div class=\"col-md-3 image-card\">\\r\\n                        <img width=\"220\" height=\"155\" alt=\"Foto\" src=\"https://caelum-online-public.s3.amazonaws.com/1381-scraping/01/img-cars/excalibur/excalibur-2916730__340.jpg\">\\r\\n                    </div>\\r\\n                    <div class=\"col-md-6 body-card\">\\r\\n                        <p class=\"txt-name inline\">EXCALIBUR</p>\\r\\n                            <p class=\"txt-category badge badge-secondary inline\">USADO</p>\\r\\n                            \\r\\n                        <p class=\"txt-motor\">Motor 3.0 32v</p>\\r\\n                        <p class=\"txt-description\">Ano 2009 - 81.251 km</p>\\r\\n                        <ul class=\"lst-items\">\\r\\n                            <li class=\"txt-items\">► Painel digital</li>\\r\\n                            <li class=\"txt-items\">► Câmbio automático</li>\\r\\n                            <li class=\"txt-items\">► Sensor de chuva</li>\\r\\n                            <li class=\"txt-items\">► Travas elétricas</li>\\r\\n                            <li class=\"txt-items\">...</li>\\r\\n                        </ul>\\r\\n                        <p class=\"txt-location\">Rio de Janeiro - RJ</p>\\r\\n                    </div>\\r\\n                    <div class=\"col-md-3 value-card\">\\r\\n                        <div class=\"value\">\\r\\n                            <p class=\"txt-value\">R$ 114.000</p>\\r\\n                        </div>\\r\\n                    </div>\\r\\n                </div>\\r\\n                <div class=\"well card\">\\r\\n                    <div class=\"col-md-3 image-card\">\\r\\n                        <img width=\"220\" height=\"155\" alt=\"Foto\" src=\"https://caelum-online-public.s3.amazonaws.com/1381-scraping/01/img-cars/mclaren/mclaren-2855240__340.jpg\">\\r\\n                    </div>\\r\\n                    <div class=\"col-md-6 body-card\">\\r\\n                        <p class=\"txt-name inline\">MCLAREN</p>\\r\\n                            <p class=\"txt-category badge badge-secondary inline\">NOVO</p>\\r\\n                            \\r\\n                        <p class=\"txt-motor\">Motor Diesel</p>\\r\\n                        <p class=\"txt-description\">Ano 2019 - 0 km</p>\\r\\n                        <ul class=\"lst-items\">\\r\\n                            <li class=\"txt-items\">► Central multimídia</li>\\r\\n                            <li class=\"txt-items\">► Câmera de estacionamento</li>\\r\\n                            <li class=\"txt-items\">► Câmbio automático</li>\\r\\n                            <li class=\"txt-items\">► Ar condicionado</li>\\r\\n                            <li class=\"txt-items\">...</li>\\r\\n                        </ul>\\r\\n                        <p class=\"txt-location\">São Paulo - SP</p>\\r\\n                    </div>\\r\\n                    <div class=\"col-md-3 value-card\">\\r\\n                        <div class=\"value\">\\r\\n                            <p class=\"txt-value\">R$ 75.000</p>\\r\\n                        </div>\\r\\n                    </div>\\r\\n                </div>\\r\\n                <div class=\"well card\">\\r\\n                    <div class=\"col-md-3 image-card\">\\r\\n                        <img width=\"220\" height=\"155\" alt=\"Foto\" src=\"https://caelum-online-public.s3.amazonaws.com/1381-scraping/01/img-cars/toyota/toyota-3245397__340.jpg\">\\r\\n                    </div>\\r\\n                    <div class=\"col-md-6 body-card\">\\r\\n                        <p class=\"txt-name inline\">TOYOTA</p>\\r\\n                            <p class=\"txt-category badge badge-secondary inline\">USADO</p>\\r\\n                            <p class=\"txt-opportunity badge badge-danger inline\">OPORTUNIDADE</p>\\r\\n                        <p class=\"txt-motor\">Motor 4.0 Turbo</p>\\r\\n                        <p class=\"txt-description\">Ano 1999 - 12.536 km</p>\\r\\n                        <ul class=\"lst-items\">\\r\\n                            <li class=\"txt-items\">► Bancos de couro</li>\\r\\n                            <li class=\"txt-items\">► Freios ABS</li>\\r\\n                            <li class=\"txt-items\">► Piloto automático</li>\\r\\n                            <li class=\"txt-items\">► Controle de estabilidade</li>\\r\\n                            <li class=\"txt-items\">...</li>\\r\\n                        </ul>\\r\\n                        <p class=\"txt-location\">São Paulo - SP</p>\\r\\n                    </div>\\r\\n                    <div class=\"col-md-3 value-card\">\\r\\n                        <div class=\"value\">\\r\\n                            <p class=\"txt-value\">R$ 117.000</p>\\r\\n                        </div>\\r\\n                    </div>\\r\\n                </div>\\t\\t\\t\\t\\t\\t</div>\\r\\n\\t\\t\\t\\t\\t\\t<div class=\"type-select\">246 veículos encontrados</div>\\r\\n\\t\\t\\t\\t\\t\\t\\t<div class=\"container-pagination\" style=\"float: right\">\\r\\n\\t\\t\\t\\t\\t\\t\\t\\t<span class=\"info-pages\">Página 1 de 25</span>\\r\\n\\t\\t\\t\\t\\t\\t\\t</div>\\r\\n\\t\\t\\t\\t\\t\\t</div>\\r\\n\\t\\t\\t\\t\\t</div>\\r\\n\\t\\t\\t\\t</div>\\r\\n\\t\\t\\t</div>\\r\\n\\t\\t</div>\\r\\n\\r\\n\\t\\t<footer>\\r\\n\\t\\t\\t<nav class=\"navbar navbar-inverse\">\\r\\n\\t\\t\\t\\t<div class=\"container\" style=\"margin-bottom: 10px;\">\\r\\n\\t\\t\\t\\t\\t<div class=\"navbar\">\\r\\n\\t\\t\\t\\t\\t\\t<a href=\"./index.php\" class=\"navbar-brand\" title=\"Alura Motors\">\\r\\n\\t\\t\\t\\t\\t\\t\\t<img src=\"img/alura-logo.svg\" class=\"d-inline-block align-top\" alt=\"Alura\">Motors\\r\\n\\t\\t\\t\\t\\t\\t</a>\\r\\n\\t\\t\\t\\t\\t\\t<p style=\"color: #fff; text-align: center; margin-top: 40px;\">Aplicação para treinamento de web scraping</p>\\r\\n\\t\\t\\t\\t\\t</div>\\r\\n\\t\\t\\t\\t</div>\\r\\n\\t\\t\\t</nav>\\r\\n\\t\\t</footer>\\r\\n\\r\\n\\t</div>\\r\\n\\r\\n</body>\\r\\n</html>\\r\\n'"
      ]
     },
     "execution_count": 9,
     "metadata": {},
     "output_type": "execute_result"
    }
   ],
   "source": [
    "html"
   ]
  },
  {
   "cell_type": "code",
   "execution_count": null,
   "metadata": {},
   "outputs": [],
   "source": []
  },
  {
   "cell_type": "markdown",
   "metadata": {},
   "source": [
    "### Eliminando os caracteres de tabulação, quebra de linha etc."
   ]
  },
  {
   "cell_type": "code",
   "execution_count": 10,
   "metadata": {},
   "outputs": [
    {
     "data": {
      "text/plain": [
       "['<!DOCTYPE',\n",
       " 'html>',\n",
       " '<html',\n",
       " 'lang=\"pt-br\">',\n",
       " '<head>',\n",
       " '<meta',\n",
       " 'charset=\"utf-8\">',\n",
       " '<meta',\n",
       " 'name=\"viewport\"',\n",
       " 'content=\"width=device-width,',\n",
       " 'initial-scale=1,',\n",
       " 'shrink-to-fit=no\">',\n",
       " '<title>Alura',\n",
       " 'Motors</title>',\n",
       " '<style>',\n",
       " '/*Regra',\n",
       " 'para',\n",
       " 'a',\n",
       " 'animacao*/',\n",
       " '@keyframes',\n",
       " 'spin',\n",
       " '{',\n",
       " '0%',\n",
       " '{',\n",
       " 'transform:',\n",
       " 'rotate(0deg);',\n",
       " '}',\n",
       " '100%',\n",
       " '{',\n",
       " 'transform:',\n",
       " 'rotate(360deg);',\n",
       " '}',\n",
       " '}',\n",
       " '/*Mudando',\n",
       " 'o',\n",
       " 'tamanho',\n",
       " 'do',\n",
       " 'icone',\n",
       " 'de',\n",
       " 'resposta*/',\n",
       " 'div.glyphicon',\n",
       " '{',\n",
       " 'color:#6B8E23;',\n",
       " 'font-size:',\n",
       " '38px;',\n",
       " '}',\n",
       " '/*Classe',\n",
       " 'que',\n",
       " 'mostra',\n",
       " 'a',\n",
       " 'animacao',\n",
       " \"'spin'*/\",\n",
       " '.loader',\n",
       " '{',\n",
       " 'border:',\n",
       " '16px',\n",
       " 'solid',\n",
       " '#f3f3f3;',\n",
       " 'border-radius:',\n",
       " '50%;',\n",
       " 'border-top:',\n",
       " '16px',\n",
       " 'solid',\n",
       " '#3498db;',\n",
       " 'width:',\n",
       " '80px;',\n",
       " 'height:',\n",
       " '80px;',\n",
       " '-webkit-animation:',\n",
       " 'spin',\n",
       " '2s',\n",
       " 'linear',\n",
       " 'infinite;',\n",
       " 'animation:',\n",
       " 'spin',\n",
       " '2s',\n",
       " 'linear',\n",
       " 'infinite;',\n",
       " '}',\n",
       " '</style>',\n",
       " '<link',\n",
       " 'rel=\"stylesheet\"',\n",
       " 'href=\"https://maxcdn.bootstrapcdn.com/bootstrap/3.3.7/css/bootstrap.min.css\"',\n",
       " 'integrity=\"sha384-BVYiiSIFeK1dGmJRAkycuHAHRg32OmUcww7on3RYdg4Va+PmSTsz/K68vbdEjh4u\"',\n",
       " 'crossorigin=\"anonymous\">',\n",
       " '<link',\n",
       " 'rel=\"stylesheet\"',\n",
       " 'href=\"css/styles.css\"',\n",
       " 'media=\"all\">',\n",
       " '<script',\n",
       " 'src=\"https://code.jquery.com/jquery-1.12.4.js\"></script>',\n",
       " '<script',\n",
       " 'src=\"https://maxcdn.bootstrapcdn.com/bootstrap/3.3.7/js/bootstrap.min.js\"',\n",
       " 'integrity=\"sha384-Tc5IQib027qvyjSMfHjOMaLkfuWVxZxUPnCJA7l2mCWNIpG9mGCD8wGNIcPD7Txa\"',\n",
       " 'crossorigin=\"anonymous\"></script>',\n",
       " '<script',\n",
       " 'type=\"text/javascript\"',\n",
       " 'src=\"js/index.js\"></script>',\n",
       " '<script>',\n",
       " 'requisitar(\"https://alura-scraping.herokuapp.com/produtos?_page=\"+1+\"&_limit=10\")',\n",
       " '</script>',\n",
       " '</head>',\n",
       " '<body',\n",
       " 'cz-shortcut-listen=\"true\">',\n",
       " '<noscript>You',\n",
       " 'need',\n",
       " 'to',\n",
       " 'enable',\n",
       " 'JavaScript',\n",
       " 'to',\n",
       " 'run',\n",
       " 'this',\n",
       " 'app.</noscript>',\n",
       " '<div',\n",
       " 'class=\"modal',\n",
       " 'fade\"',\n",
       " 'data-backdrop=\"static\"',\n",
       " 'id=\"loadingModal\"',\n",
       " 'tabindex=\"-1\"',\n",
       " 'role=\"dialog\"',\n",
       " 'aria-labelledby=\"loadingModal_label\">',\n",
       " '<div',\n",
       " 'class=\"modal-dialog\"',\n",
       " 'role=\"document\">',\n",
       " '<div',\n",
       " 'class=\"modal-content\">',\n",
       " '<div',\n",
       " 'class=\"modal-header\">',\n",
       " '<h5',\n",
       " 'class=\"modal-title\"',\n",
       " 'id=\"loadingModal_label\">',\n",
       " '<span',\n",
       " 'class=\"glyphicon',\n",
       " 'glyphicon-refresh\"></span>Aguarde...',\n",
       " '</h5>',\n",
       " '</div>',\n",
       " '<div',\n",
       " 'class=\"modal-body\">',\n",
       " '<div',\n",
       " \"class='alert'\",\n",
       " \"role='alert'>\",\n",
       " '<center>',\n",
       " '<div',\n",
       " 'class=\"loader\"',\n",
       " 'id=\"loader\"></div><br>',\n",
       " '<h4><b',\n",
       " 'id=\"loadingModal_content\"></b></h4>',\n",
       " '</center>',\n",
       " '</div>',\n",
       " '</div>',\n",
       " '</div>',\n",
       " '</div>',\n",
       " '</div>',\n",
       " '<div',\n",
       " 'id=\"root\">',\n",
       " '<header>',\n",
       " '<nav',\n",
       " 'class=\"navbar',\n",
       " 'navbar-inverse\"',\n",
       " 'style=\"margin-bottom:',\n",
       " '0;\">',\n",
       " '<div',\n",
       " 'class=\"container\"',\n",
       " 'style=\"margin-bottom:',\n",
       " '-20px;\">',\n",
       " '<div',\n",
       " 'class=\"navbar\">',\n",
       " '<a',\n",
       " 'href=\"./index.php\"',\n",
       " 'class=\"navbar-brand\"',\n",
       " 'title=\"Alura',\n",
       " 'Motors\">',\n",
       " '<img',\n",
       " 'src=\"img/alura-logo.svg\"',\n",
       " 'class=\"d-inline-block',\n",
       " 'align-top\"',\n",
       " 'alt=\"Alura\">Motors',\n",
       " '</a>',\n",
       " '<ul',\n",
       " 'class=\"nav',\n",
       " 'navbar-nav\"',\n",
       " 'style=\"margin-top:',\n",
       " '35px;\">',\n",
       " '<li><a',\n",
       " 'href=\"./hello-world.php\">Hello',\n",
       " 'World</a></li>',\n",
       " '<li><a',\n",
       " 'href=\"./index.php\">Anúncios</a></li>',\n",
       " '</ul>',\n",
       " '</div>',\n",
       " '</div>',\n",
       " '</nav>',\n",
       " '</header>',\n",
       " '<div',\n",
       " 'class=\"container\">',\n",
       " '<h1',\n",
       " 'class=\"sub-header\">Veículos',\n",
       " 'de',\n",
       " 'Luxo',\n",
       " 'Novos',\n",
       " 'e',\n",
       " 'Usados',\n",
       " '-',\n",
       " 'Todas',\n",
       " 'as',\n",
       " 'Marcas</h1>',\n",
       " '<div',\n",
       " 'class=\"row\">',\n",
       " '<div',\n",
       " 'class=\"col-md-12\">',\n",
       " '<div',\n",
       " 'class=\"container\"',\n",
       " 'style=\"width:',\n",
       " '100%\">',\n",
       " '<div',\n",
       " 'class=\"type-select\">246',\n",
       " 'veículos',\n",
       " 'encontrados</div>',\n",
       " '<div',\n",
       " 'class=\"container-pagination\"',\n",
       " 'style=\"float:',\n",
       " 'right\">',\n",
       " '<span',\n",
       " 'class=\"info-pages\">Página',\n",
       " '1',\n",
       " 'de',\n",
       " '25</span>',\n",
       " '</div>',\n",
       " '</div>',\n",
       " '<div',\n",
       " 'id=\"container-cards\"',\n",
       " 'style=\"height:',\n",
       " '100%\">',\n",
       " '<div',\n",
       " 'class=\"well',\n",
       " 'card\">',\n",
       " '<div',\n",
       " 'class=\"col-md-3',\n",
       " 'image-card\">',\n",
       " '<img',\n",
       " 'width=\"220\"',\n",
       " 'height=\"155\"',\n",
       " 'alt=\"Foto\"',\n",
       " 'src=\"https://caelum-online-public.s3.amazonaws.com/1381-scraping/01/img-cars/lamborghini-aventador/lamborghini-aventador-2932196__340.jpg\">',\n",
       " '</div>',\n",
       " '<div',\n",
       " 'class=\"col-md-6',\n",
       " 'body-card\">',\n",
       " '<p',\n",
       " 'class=\"txt-name',\n",
       " 'inline\">LAMBORGHINI',\n",
       " 'AVENTADOR</p>',\n",
       " '<p',\n",
       " 'class=\"txt-category',\n",
       " 'badge',\n",
       " 'badge-secondary',\n",
       " 'inline\">USADO</p>',\n",
       " '<p',\n",
       " 'class=\"txt-motor\">Motor',\n",
       " '1.8',\n",
       " '16v</p>',\n",
       " '<p',\n",
       " 'class=\"txt-description\">Ano',\n",
       " '1993',\n",
       " '-',\n",
       " '55.286',\n",
       " 'km</p>',\n",
       " '<ul',\n",
       " 'class=\"lst-items\">',\n",
       " '<li',\n",
       " 'class=\"txt-items\">►',\n",
       " '4',\n",
       " 'X',\n",
       " '4</li>',\n",
       " '<li',\n",
       " 'class=\"txt-items\">►',\n",
       " 'Câmera',\n",
       " 'de',\n",
       " 'estacionamento</li>',\n",
       " '<li',\n",
       " 'class=\"txt-items\">►',\n",
       " 'Controle',\n",
       " 'de',\n",
       " 'tração</li>',\n",
       " '<li',\n",
       " 'class=\"txt-items\">►',\n",
       " 'Sensor',\n",
       " 'de',\n",
       " 'estacionamento</li>',\n",
       " '<li',\n",
       " 'class=\"txt-items\">...</li>',\n",
       " '</ul>',\n",
       " '<p',\n",
       " 'class=\"txt-location\">Belo',\n",
       " 'Horizonte',\n",
       " '-',\n",
       " 'MG</p>',\n",
       " '</div>',\n",
       " '<div',\n",
       " 'class=\"col-md-3',\n",
       " 'value-card\">',\n",
       " '<div',\n",
       " 'class=\"value\">',\n",
       " '<p',\n",
       " 'class=\"txt-value\">R$',\n",
       " '338.000</p>',\n",
       " '</div>',\n",
       " '</div>',\n",
       " '</div>',\n",
       " '<div',\n",
       " 'class=\"well',\n",
       " 'card\">',\n",
       " '<div',\n",
       " 'class=\"col-md-3',\n",
       " 'image-card\">',\n",
       " '<img',\n",
       " 'width=\"220\"',\n",
       " 'height=\"155\"',\n",
       " 'alt=\"Foto\"',\n",
       " 'src=\"https://caelum-online-public.s3.amazonaws.com/1381-scraping/01/img-cars/bmw-m2/bmw-m2-2970882__340.jpg\">',\n",
       " '</div>',\n",
       " '<div',\n",
       " 'class=\"col-md-6',\n",
       " 'body-card\">',\n",
       " '<p',\n",
       " 'class=\"txt-name',\n",
       " 'inline\">BMW',\n",
       " 'M2</p>',\n",
       " '<p',\n",
       " 'class=\"txt-category',\n",
       " 'badge',\n",
       " 'badge-secondary',\n",
       " 'inline\">USADO</p>',\n",
       " '<p',\n",
       " 'class=\"txt-motor\">Motor',\n",
       " '3.0',\n",
       " '32v</p>',\n",
       " '<p',\n",
       " 'class=\"txt-description\">Ano',\n",
       " '2018',\n",
       " '-',\n",
       " '83.447',\n",
       " 'km</p>',\n",
       " '<ul',\n",
       " 'class=\"lst-items\">',\n",
       " '<li',\n",
       " 'class=\"txt-items\">►',\n",
       " 'Câmera',\n",
       " 'de',\n",
       " 'estacionamento</li>',\n",
       " '<li',\n",
       " 'class=\"txt-items\">►',\n",
       " 'Controle',\n",
       " 'de',\n",
       " 'estabilidade</li>',\n",
       " '<li',\n",
       " 'class=\"txt-items\">►',\n",
       " 'Travas',\n",
       " 'elétricas</li>',\n",
       " '<li',\n",
       " 'class=\"txt-items\">►',\n",
       " 'Freios',\n",
       " 'ABS</li>',\n",
       " '<li',\n",
       " 'class=\"txt-items\">...</li>',\n",
       " '</ul>',\n",
       " '<p',\n",
       " 'class=\"txt-location\">Belo',\n",
       " 'Horizonte',\n",
       " '-',\n",
       " 'MG</p>',\n",
       " '</div>',\n",
       " '<div',\n",
       " 'class=\"col-md-3',\n",
       " 'value-card\">',\n",
       " '<div',\n",
       " 'class=\"value\">',\n",
       " '<p',\n",
       " 'class=\"txt-value\">R$',\n",
       " '346.000</p>',\n",
       " '</div>',\n",
       " '</div>',\n",
       " '</div>',\n",
       " '<div',\n",
       " 'class=\"well',\n",
       " 'card\">',\n",
       " '<div',\n",
       " 'class=\"col-md-3',\n",
       " 'image-card\">',\n",
       " '<img',\n",
       " 'width=\"220\"',\n",
       " 'height=\"155\"',\n",
       " 'alt=\"Foto\"',\n",
       " 'src=\"https://caelum-online-public.s3.amazonaws.com/1381-scraping/01/img-cars/alfa/alfa-1823056__340.jpg\">',\n",
       " '</div>',\n",
       " '<div',\n",
       " 'class=\"col-md-6',\n",
       " 'body-card\">',\n",
       " '<p',\n",
       " 'class=\"txt-name',\n",
       " 'inline\">ALFA</p>',\n",
       " '<p',\n",
       " 'class=\"txt-category',\n",
       " 'badge',\n",
       " 'badge-secondary',\n",
       " 'inline\">USADO</p>',\n",
       " '<p',\n",
       " 'class=\"txt-motor\">Motor',\n",
       " '1.8',\n",
       " '16v</p>',\n",
       " '<p',\n",
       " 'class=\"txt-description\">Ano',\n",
       " '2004',\n",
       " '-',\n",
       " '19.722',\n",
       " 'km</p>',\n",
       " '<ul',\n",
       " 'class=\"lst-items\">',\n",
       " '<li',\n",
       " 'class=\"txt-items\">►',\n",
       " 'Central',\n",
       " 'multimídia</li>',\n",
       " '<li',\n",
       " 'class=\"txt-items\">►',\n",
       " 'Bancos',\n",
       " 'de',\n",
       " 'couro</li>',\n",
       " '<li',\n",
       " 'class=\"txt-items\">►',\n",
       " 'Rodas',\n",
       " 'de',\n",
       " 'liga</li>',\n",
       " '<li',\n",
       " 'class=\"txt-items\">►',\n",
       " 'Câmera',\n",
       " 'de',\n",
       " 'estacionamento</li>',\n",
       " '<li',\n",
       " 'class=\"txt-items\">...</li>',\n",
       " '</ul>',\n",
       " '<p',\n",
       " 'class=\"txt-location\">Rio',\n",
       " 'de',\n",
       " 'Janeiro',\n",
       " '-',\n",
       " 'RJ</p>',\n",
       " '</div>',\n",
       " '<div',\n",
       " 'class=\"col-md-3',\n",
       " 'value-card\">',\n",
       " '<div',\n",
       " 'class=\"value\">',\n",
       " '<p',\n",
       " 'class=\"txt-value\">R$',\n",
       " '480.000</p>',\n",
       " '</div>',\n",
       " '</div>',\n",
       " '</div>',\n",
       " '<div',\n",
       " 'class=\"well',\n",
       " 'card\">',\n",
       " '<div',\n",
       " 'class=\"col-md-3',\n",
       " 'image-card\">',\n",
       " '<img',\n",
       " 'width=\"220\"',\n",
       " 'height=\"155\"',\n",
       " 'alt=\"Foto\"',\n",
       " 'src=\"https://caelum-online-public.s3.amazonaws.com/1381-scraping/01/img-cars/puech/puech-4055386__340.jpg\">',\n",
       " '</div>',\n",
       " '<div',\n",
       " 'class=\"col-md-6',\n",
       " 'body-card\">',\n",
       " '<p',\n",
       " 'class=\"txt-name',\n",
       " 'inline\">PUECH</p>',\n",
       " '<p',\n",
       " 'class=\"txt-category',\n",
       " 'badge',\n",
       " 'badge-secondary',\n",
       " 'inline\">USADO</p>',\n",
       " '<p',\n",
       " 'class=\"txt-motor\">Motor',\n",
       " 'Diesel',\n",
       " 'V8</p>',\n",
       " '<p',\n",
       " 'class=\"txt-description\">Ano',\n",
       " '1992',\n",
       " '-',\n",
       " '34.335',\n",
       " 'km</p>',\n",
       " '<ul',\n",
       " 'class=\"lst-items\">',\n",
       " '<li',\n",
       " 'class=\"txt-items\">►',\n",
       " 'Bancos',\n",
       " 'de',\n",
       " 'couro</li>',\n",
       " '<li',\n",
       " 'class=\"txt-items\">►',\n",
       " 'Freios',\n",
       " 'ABS</li>',\n",
       " '<li',\n",
       " 'class=\"txt-items\">►',\n",
       " 'Rodas',\n",
       " 'de',\n",
       " 'liga</li>',\n",
       " '<li',\n",
       " 'class=\"txt-items\">►',\n",
       " 'Câmbio',\n",
       " 'automático</li>',\n",
       " '<li',\n",
       " 'class=\"txt-items\">...</li>',\n",
       " '</ul>',\n",
       " '<p',\n",
       " 'class=\"txt-location\">São',\n",
       " 'Paulo',\n",
       " '-',\n",
       " 'SP</p>',\n",
       " '</div>',\n",
       " '<div',\n",
       " 'class=\"col-md-3',\n",
       " 'value-card\">',\n",
       " '<div',\n",
       " 'class=\"value\">',\n",
       " '<p',\n",
       " 'class=\"txt-value\">R$',\n",
       " '133.000</p>',\n",
       " '</div>',\n",
       " '</div>',\n",
       " '</div>',\n",
       " '<div',\n",
       " 'class=\"well',\n",
       " 'card\">',\n",
       " '<div',\n",
       " 'class=\"col-md-3',\n",
       " 'image-card\">',\n",
       " '<img',\n",
       " 'width=\"220\"',\n",
       " 'height=\"155\"',\n",
       " 'alt=\"Foto\"',\n",
       " 'src=\"https://caelum-online-public.s3.amazonaws.com/1381-scraping/01/img-cars/lamborghini-murcielago/lamborghini-murcielago-2872974__340.jpg\">',\n",
       " '</div>',\n",
       " '<div',\n",
       " 'class=\"col-md-6',\n",
       " 'body-card\">',\n",
       " '<p',\n",
       " 'class=\"txt-name',\n",
       " 'inline\">LAMBORGHINI',\n",
       " 'MURCIELAGO</p>',\n",
       " '<p',\n",
       " 'class=\"txt-category',\n",
       " 'badge',\n",
       " 'badge-secondary',\n",
       " 'inline\">USADO</p>',\n",
       " '<p',\n",
       " 'class=\"txt-motor\">Motor',\n",
       " '1.0',\n",
       " '8v</p>',\n",
       " '<p',\n",
       " 'class=\"txt-description\">Ano',\n",
       " '1991',\n",
       " '-',\n",
       " '464',\n",
       " 'km</p>',\n",
       " '<ul',\n",
       " 'class=\"lst-items\">',\n",
       " '<li',\n",
       " 'class=\"txt-items\">►',\n",
       " 'Central',\n",
       " 'multimídia</li>',\n",
       " '<li',\n",
       " 'class=\"txt-items\">►',\n",
       " 'Teto',\n",
       " 'panorâmico</li>',\n",
       " '<li',\n",
       " 'class=\"txt-items\">►',\n",
       " 'Sensor',\n",
       " 'crepuscular</li>',\n",
       " '<li',\n",
       " 'class=\"txt-items\">►',\n",
       " 'Piloto',\n",
       " 'automático</li>',\n",
       " '<li',\n",
       " 'class=\"txt-items\">...</li>',\n",
       " '</ul>',\n",
       " '<p',\n",
       " 'class=\"txt-location\">Belo',\n",
       " 'Horizonte',\n",
       " '-',\n",
       " 'MG</p>',\n",
       " '</div>',\n",
       " '<div',\n",
       " 'class=\"col-md-3',\n",
       " 'value-card\">',\n",
       " '<div',\n",
       " 'class=\"value\">',\n",
       " '<p',\n",
       " 'class=\"txt-value\">R$',\n",
       " '175.000</p>',\n",
       " '</div>',\n",
       " '</div>',\n",
       " '</div>',\n",
       " '<div',\n",
       " 'class=\"well',\n",
       " 'card\">',\n",
       " '<div',\n",
       " 'class=\"col-md-3',\n",
       " 'image-card\">',\n",
       " '<img',\n",
       " 'width=\"220\"',\n",
       " 'height=\"155\"',\n",
       " 'alt=\"Foto\"',\n",
       " 'src=\"https://caelum-online-public.s3.amazonaws.com/1381-scraping/01/img-cars/aston-martin/aston-martin-2977916__340.jpg\">',\n",
       " '</div>',\n",
       " '<div',\n",
       " 'class=\"col-md-6',\n",
       " 'body-card\">',\n",
       " '<p',\n",
       " 'class=\"txt-name',\n",
       " 'inline\">ASTON',\n",
       " 'MARTIN</p>',\n",
       " '<p',\n",
       " 'class=\"txt-category',\n",
       " 'badge',\n",
       " 'badge-secondary',\n",
       " 'inline\">USADO</p>',\n",
       " '<p',\n",
       " 'class=\"txt-opportunity',\n",
       " 'badge',\n",
       " 'badge-danger',\n",
       " 'inline\">OPORTUNIDADE</p>',\n",
       " '<p',\n",
       " 'class=\"txt-motor\">Motor',\n",
       " 'Diesel',\n",
       " 'V6</p>',\n",
       " '<p',\n",
       " 'class=\"txt-description\">Ano',\n",
       " '2004',\n",
       " '-',\n",
       " '50.189',\n",
       " 'km</p>',\n",
       " '<ul',\n",
       " 'class=\"lst-items\">',\n",
       " '<li',\n",
       " 'class=\"txt-items\">►',\n",
       " 'Painel',\n",
       " 'digital</li>',\n",
       " '<li',\n",
       " 'class=\"txt-items\">►',\n",
       " 'Controle',\n",
       " 'de',\n",
       " 'tração</li>',\n",
       " '<li',\n",
       " 'class=\"txt-items\">►',\n",
       " 'Teto',\n",
       " 'panorâmico</li>',\n",
       " '<li',\n",
       " 'class=\"txt-items\">►',\n",
       " 'Central',\n",
       " 'multimídia</li>',\n",
       " '<li',\n",
       " 'class=\"txt-items\">...</li>',\n",
       " '</ul>',\n",
       " '<p',\n",
       " 'class=\"txt-location\">Belo',\n",
       " 'Horizonte',\n",
       " '-',\n",
       " 'MG</p>',\n",
       " '</div>',\n",
       " '<div',\n",
       " 'class=\"col-md-3',\n",
       " 'value-card\">',\n",
       " '<div',\n",
       " 'class=\"value\">',\n",
       " '<p',\n",
       " 'class=\"txt-value\">R$',\n",
       " '239.000</p>',\n",
       " '</div>',\n",
       " '</div>',\n",
       " '</div>',\n",
       " '<div',\n",
       " 'class=\"well',\n",
       " 'card\">',\n",
       " '<div',\n",
       " 'class=\"col-md-3',\n",
       " 'image-card\">',\n",
       " '<img',\n",
       " 'width=\"220\"',\n",
       " 'height=\"155\"',\n",
       " 'alt=\"Foto\"',\n",
       " 'src=\"https://caelum-online-public.s3.amazonaws.com/1381-scraping/01/img-cars/tvr/tvr-2943925__340.jpg\">',\n",
       " '</div>',\n",
       " '<div',\n",
       " 'class=\"col-md-6',\n",
       " 'body-card\">',\n",
       " '<p',\n",
       " 'class=\"txt-name',\n",
       " 'inline\">TVR</p>',\n",
       " '<p',\n",
       " 'class=\"txt-category',\n",
       " 'badge',\n",
       " 'badge-secondary',\n",
       " 'inline\">USADO</p>',\n",
       " '<p',\n",
       " 'class=\"txt-motor\">Motor',\n",
       " '4.0',\n",
       " 'Turbo</p>',\n",
       " '<p',\n",
       " 'class=\"txt-description\">Ano',\n",
       " '2014',\n",
       " '-',\n",
       " '17.778',\n",
       " 'km</p>',\n",
       " '<ul',\n",
       " 'class=\"lst-items\">',\n",
       " '<li',\n",
       " 'class=\"txt-items\">►',\n",
       " '4',\n",
       " 'X',\n",
       " '4</li>',\n",
       " '<li',\n",
       " 'class=\"txt-items\">►',\n",
       " 'Teto',\n",
       " 'panorâmico</li>',\n",
       " '<li',\n",
       " 'class=\"txt-items\">►',\n",
       " 'Central',\n",
       " 'multimídia</li>',\n",
       " '<li',\n",
       " 'class=\"txt-items\">►',\n",
       " 'Controle',\n",
       " 'de',\n",
       " 'estabilidade</li>',\n",
       " '<li',\n",
       " 'class=\"txt-items\">...</li>',\n",
       " '</ul>',\n",
       " '<p',\n",
       " 'class=\"txt-location\">Belo',\n",
       " 'Horizonte',\n",
       " '-',\n",
       " 'MG</p>',\n",
       " '</div>',\n",
       " '<div',\n",
       " 'class=\"col-md-3',\n",
       " 'value-card\">',\n",
       " '<div',\n",
       " 'class=\"value\">',\n",
       " '<p',\n",
       " 'class=\"txt-value\">R$',\n",
       " '115.000</p>',\n",
       " '</div>',\n",
       " '</div>',\n",
       " '</div>',\n",
       " '<div',\n",
       " 'class=\"well',\n",
       " 'card\">',\n",
       " '<div',\n",
       " 'class=\"col-md-3',\n",
       " 'image-card\">',\n",
       " '<img',\n",
       " 'width=\"220\"',\n",
       " 'height=\"155\"',\n",
       " 'alt=\"Foto\"',\n",
       " 'src=\"https://caelum-online-public.s3.amazonaws.com/1381-scraping/01/img-cars/excalibur/excalibur-2916730__340.jpg\">',\n",
       " '</div>',\n",
       " '<div',\n",
       " 'class=\"col-md-6',\n",
       " 'body-card\">',\n",
       " '<p',\n",
       " 'class=\"txt-name',\n",
       " 'inline\">EXCALIBUR</p>',\n",
       " '<p',\n",
       " 'class=\"txt-category',\n",
       " 'badge',\n",
       " 'badge-secondary',\n",
       " 'inline\">USADO</p>',\n",
       " '<p',\n",
       " 'class=\"txt-motor\">Motor',\n",
       " '3.0',\n",
       " '32v</p>',\n",
       " '<p',\n",
       " 'class=\"txt-description\">Ano',\n",
       " '2009',\n",
       " '-',\n",
       " '81.251',\n",
       " 'km</p>',\n",
       " '<ul',\n",
       " 'class=\"lst-items\">',\n",
       " '<li',\n",
       " 'class=\"txt-items\">►',\n",
       " 'Painel',\n",
       " 'digital</li>',\n",
       " '<li',\n",
       " 'class=\"txt-items\">►',\n",
       " 'Câmbio',\n",
       " 'automático</li>',\n",
       " '<li',\n",
       " 'class=\"txt-items\">►',\n",
       " 'Sensor',\n",
       " 'de',\n",
       " 'chuva</li>',\n",
       " '<li',\n",
       " 'class=\"txt-items\">►',\n",
       " 'Travas',\n",
       " 'elétricas</li>',\n",
       " '<li',\n",
       " 'class=\"txt-items\">...</li>',\n",
       " '</ul>',\n",
       " '<p',\n",
       " 'class=\"txt-location\">Rio',\n",
       " 'de',\n",
       " 'Janeiro',\n",
       " '-',\n",
       " 'RJ</p>',\n",
       " '</div>',\n",
       " '<div',\n",
       " 'class=\"col-md-3',\n",
       " 'value-card\">',\n",
       " '<div',\n",
       " 'class=\"value\">',\n",
       " '<p',\n",
       " 'class=\"txt-value\">R$',\n",
       " '114.000</p>',\n",
       " '</div>',\n",
       " '</div>',\n",
       " '</div>',\n",
       " '<div',\n",
       " 'class=\"well',\n",
       " 'card\">',\n",
       " '<div',\n",
       " 'class=\"col-md-3',\n",
       " 'image-card\">',\n",
       " '<img',\n",
       " 'width=\"220\"',\n",
       " 'height=\"155\"',\n",
       " 'alt=\"Foto\"',\n",
       " 'src=\"https://caelum-online-public.s3.amazonaws.com/1381-scraping/01/img-cars/mclaren/mclaren-2855240__340.jpg\">',\n",
       " '</div>',\n",
       " '<div',\n",
       " 'class=\"col-md-6',\n",
       " 'body-card\">',\n",
       " '<p',\n",
       " 'class=\"txt-name',\n",
       " 'inline\">MCLAREN</p>',\n",
       " '<p',\n",
       " 'class=\"txt-category',\n",
       " 'badge',\n",
       " 'badge-secondary',\n",
       " 'inline\">NOVO</p>',\n",
       " '<p',\n",
       " 'class=\"txt-motor\">Motor',\n",
       " 'Diesel</p>',\n",
       " '<p',\n",
       " 'class=\"txt-description\">Ano',\n",
       " '2019',\n",
       " '-',\n",
       " '0',\n",
       " 'km</p>',\n",
       " '<ul',\n",
       " 'class=\"lst-items\">',\n",
       " '<li',\n",
       " 'class=\"txt-items\">►',\n",
       " 'Central',\n",
       " 'multimídia</li>',\n",
       " '<li',\n",
       " 'class=\"txt-items\">►',\n",
       " 'Câmera',\n",
       " 'de',\n",
       " 'estacionamento</li>',\n",
       " '<li',\n",
       " 'class=\"txt-items\">►',\n",
       " 'Câmbio',\n",
       " 'automático</li>',\n",
       " '<li',\n",
       " 'class=\"txt-items\">►',\n",
       " 'Ar',\n",
       " 'condicionado</li>',\n",
       " '<li',\n",
       " 'class=\"txt-items\">...</li>',\n",
       " '</ul>',\n",
       " '<p',\n",
       " 'class=\"txt-location\">São',\n",
       " 'Paulo',\n",
       " '-',\n",
       " 'SP</p>',\n",
       " '</div>',\n",
       " '<div',\n",
       " 'class=\"col-md-3',\n",
       " 'value-card\">',\n",
       " '<div',\n",
       " 'class=\"value\">',\n",
       " '<p',\n",
       " 'class=\"txt-value\">R$',\n",
       " '75.000</p>',\n",
       " '</div>',\n",
       " '</div>',\n",
       " '</div>',\n",
       " '<div',\n",
       " 'class=\"well',\n",
       " 'card\">',\n",
       " '<div',\n",
       " 'class=\"col-md-3',\n",
       " 'image-card\">',\n",
       " '<img',\n",
       " 'width=\"220\"',\n",
       " 'height=\"155\"',\n",
       " 'alt=\"Foto\"',\n",
       " 'src=\"https://caelum-online-public.s3.amazonaws.com/1381-scraping/01/img-cars/toyota/toyota-3245397__340.jpg\">',\n",
       " '</div>',\n",
       " '<div',\n",
       " 'class=\"col-md-6',\n",
       " 'body-card\">',\n",
       " '<p',\n",
       " 'class=\"txt-name',\n",
       " 'inline\">TOYOTA</p>',\n",
       " '<p',\n",
       " 'class=\"txt-category',\n",
       " 'badge',\n",
       " 'badge-secondary',\n",
       " 'inline\">USADO</p>',\n",
       " '<p',\n",
       " 'class=\"txt-opportunity',\n",
       " 'badge',\n",
       " 'badge-danger',\n",
       " 'inline\">OPORTUNIDADE</p>',\n",
       " '<p',\n",
       " 'class=\"txt-motor\">Motor',\n",
       " '4.0',\n",
       " 'Turbo</p>',\n",
       " '<p',\n",
       " 'class=\"txt-description\">Ano',\n",
       " '1999',\n",
       " '-',\n",
       " '12.536',\n",
       " 'km</p>',\n",
       " '<ul',\n",
       " 'class=\"lst-items\">',\n",
       " '<li',\n",
       " 'class=\"txt-items\">►',\n",
       " 'Bancos',\n",
       " 'de',\n",
       " 'couro</li>',\n",
       " '<li',\n",
       " 'class=\"txt-items\">►',\n",
       " 'Freios',\n",
       " 'ABS</li>',\n",
       " '<li',\n",
       " 'class=\"txt-items\">►',\n",
       " 'Piloto',\n",
       " 'automático</li>',\n",
       " '<li',\n",
       " 'class=\"txt-items\">►',\n",
       " 'Controle',\n",
       " 'de',\n",
       " 'estabilidade</li>',\n",
       " '<li',\n",
       " 'class=\"txt-items\">...</li>',\n",
       " '</ul>',\n",
       " '<p',\n",
       " 'class=\"txt-location\">São',\n",
       " 'Paulo',\n",
       " '-',\n",
       " 'SP</p>',\n",
       " '</div>',\n",
       " '<div',\n",
       " 'class=\"col-md-3',\n",
       " 'value-card\">',\n",
       " '<div',\n",
       " 'class=\"value\">',\n",
       " '<p',\n",
       " 'class=\"txt-value\">R$',\n",
       " '117.000</p>',\n",
       " '</div>',\n",
       " '</div>',\n",
       " '</div>',\n",
       " '</div>',\n",
       " '<div',\n",
       " 'class=\"type-select\">246',\n",
       " 'veículos',\n",
       " 'encontrados</div>',\n",
       " '<div',\n",
       " 'class=\"container-pagination\"',\n",
       " 'style=\"float:',\n",
       " 'right\">',\n",
       " '<span',\n",
       " 'class=\"info-pages\">Página',\n",
       " '1',\n",
       " 'de',\n",
       " '25</span>',\n",
       " '</div>',\n",
       " '</div>',\n",
       " '</div>',\n",
       " '</div>',\n",
       " '</div>',\n",
       " '</div>',\n",
       " '<footer>',\n",
       " '<nav',\n",
       " 'class=\"navbar',\n",
       " 'navbar-inverse\">',\n",
       " ...]"
      ]
     },
     "execution_count": 10,
     "metadata": {},
     "output_type": "execute_result"
    }
   ],
   "source": [
    "html.split()"
   ]
  },
  {
   "cell_type": "code",
   "execution_count": 11,
   "metadata": {
    "scrolled": true
   },
   "outputs": [
    {
     "data": {
      "text/plain": [
       "'<!DOCTYPE html> <html lang=\"pt-br\"> <head> <meta charset=\"utf-8\"> <meta name=\"viewport\" content=\"width=device-width, initial-scale=1, shrink-to-fit=no\"> <title>Alura Motors</title> <style> /*Regra para a animacao*/ @keyframes spin { 0% { transform: rotate(0deg); } 100% { transform: rotate(360deg); } } /*Mudando o tamanho do icone de resposta*/ div.glyphicon { color:#6B8E23; font-size: 38px; } /*Classe que mostra a animacao \\'spin\\'*/ .loader { border: 16px solid #f3f3f3; border-radius: 50%; border-top: 16px solid #3498db; width: 80px; height: 80px; -webkit-animation: spin 2s linear infinite; animation: spin 2s linear infinite; } </style> <link rel=\"stylesheet\" href=\"https://maxcdn.bootstrapcdn.com/bootstrap/3.3.7/css/bootstrap.min.css\" integrity=\"sha384-BVYiiSIFeK1dGmJRAkycuHAHRg32OmUcww7on3RYdg4Va+PmSTsz/K68vbdEjh4u\" crossorigin=\"anonymous\"> <link rel=\"stylesheet\" href=\"css/styles.css\" media=\"all\"> <script src=\"https://code.jquery.com/jquery-1.12.4.js\"></script> <script src=\"https://maxcdn.bootstrapcdn.com/bootstrap/3.3.7/js/bootstrap.min.js\" integrity=\"sha384-Tc5IQib027qvyjSMfHjOMaLkfuWVxZxUPnCJA7l2mCWNIpG9mGCD8wGNIcPD7Txa\" crossorigin=\"anonymous\"></script> <script type=\"text/javascript\" src=\"js/index.js\"></script> <script> requisitar(\"https://alura-scraping.herokuapp.com/produtos?_page=\"+1+\"&_limit=10\") </script> </head> <body cz-shortcut-listen=\"true\"> <noscript>You need to enable JavaScript to run this app.</noscript> <div class=\"modal fade\" data-backdrop=\"static\" id=\"loadingModal\" tabindex=\"-1\" role=\"dialog\" aria-labelledby=\"loadingModal_label\"> <div class=\"modal-dialog\" role=\"document\"> <div class=\"modal-content\"> <div class=\"modal-header\"> <h5 class=\"modal-title\" id=\"loadingModal_label\"> <span class=\"glyphicon glyphicon-refresh\"></span>Aguarde... </h5> </div> <div class=\"modal-body\"> <div class=\\'alert\\' role=\\'alert\\'> <center> <div class=\"loader\" id=\"loader\"></div><br> <h4><b id=\"loadingModal_content\"></b></h4> </center> </div> </div> </div> </div> </div> <div id=\"root\"> <header> <nav class=\"navbar navbar-inverse\" style=\"margin-bottom: 0;\"> <div class=\"container\" style=\"margin-bottom: -20px;\"> <div class=\"navbar\"> <a href=\"./index.php\" class=\"navbar-brand\" title=\"Alura Motors\"> <img src=\"img/alura-logo.svg\" class=\"d-inline-block align-top\" alt=\"Alura\">Motors </a> <ul class=\"nav navbar-nav\" style=\"margin-top: 35px;\"> <li><a href=\"./hello-world.php\">Hello World</a></li> <li><a href=\"./index.php\">Anúncios</a></li> </ul> </div> </div> </nav> </header> <div class=\"container\"> <h1 class=\"sub-header\">Veículos de Luxo Novos e Usados - Todas as Marcas</h1> <div class=\"row\"> <div class=\"col-md-12\"> <div class=\"container\" style=\"width: 100%\"> <div class=\"type-select\">246 veículos encontrados</div> <div class=\"container-pagination\" style=\"float: right\"> <span class=\"info-pages\">Página 1 de 25</span> </div> </div> <div id=\"container-cards\" style=\"height: 100%\"> <div class=\"well card\"> <div class=\"col-md-3 image-card\"> <img width=\"220\" height=\"155\" alt=\"Foto\" src=\"https://caelum-online-public.s3.amazonaws.com/1381-scraping/01/img-cars/lamborghini-aventador/lamborghini-aventador-2932196__340.jpg\"> </div> <div class=\"col-md-6 body-card\"> <p class=\"txt-name inline\">LAMBORGHINI AVENTADOR</p> <p class=\"txt-category badge badge-secondary inline\">USADO</p> <p class=\"txt-motor\">Motor 1.8 16v</p> <p class=\"txt-description\">Ano 1993 - 55.286 km</p> <ul class=\"lst-items\"> <li class=\"txt-items\">► 4 X 4</li> <li class=\"txt-items\">► Câmera de estacionamento</li> <li class=\"txt-items\">► Controle de tração</li> <li class=\"txt-items\">► Sensor de estacionamento</li> <li class=\"txt-items\">...</li> </ul> <p class=\"txt-location\">Belo Horizonte - MG</p> </div> <div class=\"col-md-3 value-card\"> <div class=\"value\"> <p class=\"txt-value\">R$ 338.000</p> </div> </div> </div> <div class=\"well card\"> <div class=\"col-md-3 image-card\"> <img width=\"220\" height=\"155\" alt=\"Foto\" src=\"https://caelum-online-public.s3.amazonaws.com/1381-scraping/01/img-cars/bmw-m2/bmw-m2-2970882__340.jpg\"> </div> <div class=\"col-md-6 body-card\"> <p class=\"txt-name inline\">BMW M2</p> <p class=\"txt-category badge badge-secondary inline\">USADO</p> <p class=\"txt-motor\">Motor 3.0 32v</p> <p class=\"txt-description\">Ano 2018 - 83.447 km</p> <ul class=\"lst-items\"> <li class=\"txt-items\">► Câmera de estacionamento</li> <li class=\"txt-items\">► Controle de estabilidade</li> <li class=\"txt-items\">► Travas elétricas</li> <li class=\"txt-items\">► Freios ABS</li> <li class=\"txt-items\">...</li> </ul> <p class=\"txt-location\">Belo Horizonte - MG</p> </div> <div class=\"col-md-3 value-card\"> <div class=\"value\"> <p class=\"txt-value\">R$ 346.000</p> </div> </div> </div> <div class=\"well card\"> <div class=\"col-md-3 image-card\"> <img width=\"220\" height=\"155\" alt=\"Foto\" src=\"https://caelum-online-public.s3.amazonaws.com/1381-scraping/01/img-cars/alfa/alfa-1823056__340.jpg\"> </div> <div class=\"col-md-6 body-card\"> <p class=\"txt-name inline\">ALFA</p> <p class=\"txt-category badge badge-secondary inline\">USADO</p> <p class=\"txt-motor\">Motor 1.8 16v</p> <p class=\"txt-description\">Ano 2004 - 19.722 km</p> <ul class=\"lst-items\"> <li class=\"txt-items\">► Central multimídia</li> <li class=\"txt-items\">► Bancos de couro</li> <li class=\"txt-items\">► Rodas de liga</li> <li class=\"txt-items\">► Câmera de estacionamento</li> <li class=\"txt-items\">...</li> </ul> <p class=\"txt-location\">Rio de Janeiro - RJ</p> </div> <div class=\"col-md-3 value-card\"> <div class=\"value\"> <p class=\"txt-value\">R$ 480.000</p> </div> </div> </div> <div class=\"well card\"> <div class=\"col-md-3 image-card\"> <img width=\"220\" height=\"155\" alt=\"Foto\" src=\"https://caelum-online-public.s3.amazonaws.com/1381-scraping/01/img-cars/puech/puech-4055386__340.jpg\"> </div> <div class=\"col-md-6 body-card\"> <p class=\"txt-name inline\">PUECH</p> <p class=\"txt-category badge badge-secondary inline\">USADO</p> <p class=\"txt-motor\">Motor Diesel V8</p> <p class=\"txt-description\">Ano 1992 - 34.335 km</p> <ul class=\"lst-items\"> <li class=\"txt-items\">► Bancos de couro</li> <li class=\"txt-items\">► Freios ABS</li> <li class=\"txt-items\">► Rodas de liga</li> <li class=\"txt-items\">► Câmbio automático</li> <li class=\"txt-items\">...</li> </ul> <p class=\"txt-location\">São Paulo - SP</p> </div> <div class=\"col-md-3 value-card\"> <div class=\"value\"> <p class=\"txt-value\">R$ 133.000</p> </div> </div> </div> <div class=\"well card\"> <div class=\"col-md-3 image-card\"> <img width=\"220\" height=\"155\" alt=\"Foto\" src=\"https://caelum-online-public.s3.amazonaws.com/1381-scraping/01/img-cars/lamborghini-murcielago/lamborghini-murcielago-2872974__340.jpg\"> </div> <div class=\"col-md-6 body-card\"> <p class=\"txt-name inline\">LAMBORGHINI MURCIELAGO</p> <p class=\"txt-category badge badge-secondary inline\">USADO</p> <p class=\"txt-motor\">Motor 1.0 8v</p> <p class=\"txt-description\">Ano 1991 - 464 km</p> <ul class=\"lst-items\"> <li class=\"txt-items\">► Central multimídia</li> <li class=\"txt-items\">► Teto panorâmico</li> <li class=\"txt-items\">► Sensor crepuscular</li> <li class=\"txt-items\">► Piloto automático</li> <li class=\"txt-items\">...</li> </ul> <p class=\"txt-location\">Belo Horizonte - MG</p> </div> <div class=\"col-md-3 value-card\"> <div class=\"value\"> <p class=\"txt-value\">R$ 175.000</p> </div> </div> </div> <div class=\"well card\"> <div class=\"col-md-3 image-card\"> <img width=\"220\" height=\"155\" alt=\"Foto\" src=\"https://caelum-online-public.s3.amazonaws.com/1381-scraping/01/img-cars/aston-martin/aston-martin-2977916__340.jpg\"> </div> <div class=\"col-md-6 body-card\"> <p class=\"txt-name inline\">ASTON MARTIN</p> <p class=\"txt-category badge badge-secondary inline\">USADO</p> <p class=\"txt-opportunity badge badge-danger inline\">OPORTUNIDADE</p> <p class=\"txt-motor\">Motor Diesel V6</p> <p class=\"txt-description\">Ano 2004 - 50.189 km</p> <ul class=\"lst-items\"> <li class=\"txt-items\">► Painel digital</li> <li class=\"txt-items\">► Controle de tração</li> <li class=\"txt-items\">► Teto panorâmico</li> <li class=\"txt-items\">► Central multimídia</li> <li class=\"txt-items\">...</li> </ul> <p class=\"txt-location\">Belo Horizonte - MG</p> </div> <div class=\"col-md-3 value-card\"> <div class=\"value\"> <p class=\"txt-value\">R$ 239.000</p> </div> </div> </div> <div class=\"well card\"> <div class=\"col-md-3 image-card\"> <img width=\"220\" height=\"155\" alt=\"Foto\" src=\"https://caelum-online-public.s3.amazonaws.com/1381-scraping/01/img-cars/tvr/tvr-2943925__340.jpg\"> </div> <div class=\"col-md-6 body-card\"> <p class=\"txt-name inline\">TVR</p> <p class=\"txt-category badge badge-secondary inline\">USADO</p> <p class=\"txt-motor\">Motor 4.0 Turbo</p> <p class=\"txt-description\">Ano 2014 - 17.778 km</p> <ul class=\"lst-items\"> <li class=\"txt-items\">► 4 X 4</li> <li class=\"txt-items\">► Teto panorâmico</li> <li class=\"txt-items\">► Central multimídia</li> <li class=\"txt-items\">► Controle de estabilidade</li> <li class=\"txt-items\">...</li> </ul> <p class=\"txt-location\">Belo Horizonte - MG</p> </div> <div class=\"col-md-3 value-card\"> <div class=\"value\"> <p class=\"txt-value\">R$ 115.000</p> </div> </div> </div> <div class=\"well card\"> <div class=\"col-md-3 image-card\"> <img width=\"220\" height=\"155\" alt=\"Foto\" src=\"https://caelum-online-public.s3.amazonaws.com/1381-scraping/01/img-cars/excalibur/excalibur-2916730__340.jpg\"> </div> <div class=\"col-md-6 body-card\"> <p class=\"txt-name inline\">EXCALIBUR</p> <p class=\"txt-category badge badge-secondary inline\">USADO</p> <p class=\"txt-motor\">Motor 3.0 32v</p> <p class=\"txt-description\">Ano 2009 - 81.251 km</p> <ul class=\"lst-items\"> <li class=\"txt-items\">► Painel digital</li> <li class=\"txt-items\">► Câmbio automático</li> <li class=\"txt-items\">► Sensor de chuva</li> <li class=\"txt-items\">► Travas elétricas</li> <li class=\"txt-items\">...</li> </ul> <p class=\"txt-location\">Rio de Janeiro - RJ</p> </div> <div class=\"col-md-3 value-card\"> <div class=\"value\"> <p class=\"txt-value\">R$ 114.000</p> </div> </div> </div> <div class=\"well card\"> <div class=\"col-md-3 image-card\"> <img width=\"220\" height=\"155\" alt=\"Foto\" src=\"https://caelum-online-public.s3.amazonaws.com/1381-scraping/01/img-cars/mclaren/mclaren-2855240__340.jpg\"> </div> <div class=\"col-md-6 body-card\"> <p class=\"txt-name inline\">MCLAREN</p> <p class=\"txt-category badge badge-secondary inline\">NOVO</p> <p class=\"txt-motor\">Motor Diesel</p> <p class=\"txt-description\">Ano 2019 - 0 km</p> <ul class=\"lst-items\"> <li class=\"txt-items\">► Central multimídia</li> <li class=\"txt-items\">► Câmera de estacionamento</li> <li class=\"txt-items\">► Câmbio automático</li> <li class=\"txt-items\">► Ar condicionado</li> <li class=\"txt-items\">...</li> </ul> <p class=\"txt-location\">São Paulo - SP</p> </div> <div class=\"col-md-3 value-card\"> <div class=\"value\"> <p class=\"txt-value\">R$ 75.000</p> </div> </div> </div> <div class=\"well card\"> <div class=\"col-md-3 image-card\"> <img width=\"220\" height=\"155\" alt=\"Foto\" src=\"https://caelum-online-public.s3.amazonaws.com/1381-scraping/01/img-cars/toyota/toyota-3245397__340.jpg\"> </div> <div class=\"col-md-6 body-card\"> <p class=\"txt-name inline\">TOYOTA</p> <p class=\"txt-category badge badge-secondary inline\">USADO</p> <p class=\"txt-opportunity badge badge-danger inline\">OPORTUNIDADE</p> <p class=\"txt-motor\">Motor 4.0 Turbo</p> <p class=\"txt-description\">Ano 1999 - 12.536 km</p> <ul class=\"lst-items\"> <li class=\"txt-items\">► Bancos de couro</li> <li class=\"txt-items\">► Freios ABS</li> <li class=\"txt-items\">► Piloto automático</li> <li class=\"txt-items\">► Controle de estabilidade</li> <li class=\"txt-items\">...</li> </ul> <p class=\"txt-location\">São Paulo - SP</p> </div> <div class=\"col-md-3 value-card\"> <div class=\"value\"> <p class=\"txt-value\">R$ 117.000</p> </div> </div> </div> </div> <div class=\"type-select\">246 veículos encontrados</div> <div class=\"container-pagination\" style=\"float: right\"> <span class=\"info-pages\">Página 1 de 25</span> </div> </div> </div> </div> </div> </div> <footer> <nav class=\"navbar navbar-inverse\"> <div class=\"container\" style=\"margin-bottom: 10px;\"> <div class=\"navbar\"> <a href=\"./index.php\" class=\"navbar-brand\" title=\"Alura Motors\"> <img src=\"img/alura-logo.svg\" class=\"d-inline-block align-top\" alt=\"Alura\">Motors </a> <p style=\"color: #fff; text-align: center; margin-top: 40px;\">Aplicação para treinamento de web scraping</p> </div> </div> </nav> </footer> </div> </body> </html>'"
      ]
     },
     "execution_count": 11,
     "metadata": {},
     "output_type": "execute_result"
    }
   ],
   "source": [
    "' '. join(html.split())"
   ]
  },
  {
   "cell_type": "markdown",
   "metadata": {},
   "source": [
    "### Eliminando os espaços em branco entre as TAGS"
   ]
  },
  {
   "cell_type": "code",
   "execution_count": 12,
   "metadata": {
    "scrolled": true
   },
   "outputs": [
    {
     "data": {
      "text/plain": [
       "'<!DOCTYPE html><html lang=\"pt-br\"><head><meta charset=\"utf-8\"><meta name=\"viewport\" content=\"width=device-width, initial-scale=1, shrink-to-fit=no\"><title>Alura Motors</title><style> /*Regra para a animacao*/ @keyframes spin { 0% { transform: rotate(0deg); } 100% { transform: rotate(360deg); } } /*Mudando o tamanho do icone de resposta*/ div.glyphicon { color:#6B8E23; font-size: 38px; } /*Classe que mostra a animacao \\'spin\\'*/ .loader { border: 16px solid #f3f3f3; border-radius: 50%; border-top: 16px solid #3498db; width: 80px; height: 80px; -webkit-animation: spin 2s linear infinite; animation: spin 2s linear infinite; } </style><link rel=\"stylesheet\" href=\"https://maxcdn.bootstrapcdn.com/bootstrap/3.3.7/css/bootstrap.min.css\" integrity=\"sha384-BVYiiSIFeK1dGmJRAkycuHAHRg32OmUcww7on3RYdg4Va+PmSTsz/K68vbdEjh4u\" crossorigin=\"anonymous\"><link rel=\"stylesheet\" href=\"css/styles.css\" media=\"all\"><script src=\"https://code.jquery.com/jquery-1.12.4.js\"></script><script src=\"https://maxcdn.bootstrapcdn.com/bootstrap/3.3.7/js/bootstrap.min.js\" integrity=\"sha384-Tc5IQib027qvyjSMfHjOMaLkfuWVxZxUPnCJA7l2mCWNIpG9mGCD8wGNIcPD7Txa\" crossorigin=\"anonymous\"></script><script type=\"text/javascript\" src=\"js/index.js\"></script><script> requisitar(\"https://alura-scraping.herokuapp.com/produtos?_page=\"+1+\"&_limit=10\") </script></head><body cz-shortcut-listen=\"true\"><noscript>You need to enable JavaScript to run this app.</noscript><div class=\"modal fade\" data-backdrop=\"static\" id=\"loadingModal\" tabindex=\"-1\" role=\"dialog\" aria-labelledby=\"loadingModal_label\"><div class=\"modal-dialog\" role=\"document\"><div class=\"modal-content\"><div class=\"modal-header\"><h5 class=\"modal-title\" id=\"loadingModal_label\"><span class=\"glyphicon glyphicon-refresh\"></span>Aguarde... </h5></div><div class=\"modal-body\"><div class=\\'alert\\' role=\\'alert\\'><center><div class=\"loader\" id=\"loader\"></div><br><h4><b id=\"loadingModal_content\"></b></h4></center></div></div></div></div></div><div id=\"root\"><header><nav class=\"navbar navbar-inverse\" style=\"margin-bottom: 0;\"><div class=\"container\" style=\"margin-bottom: -20px;\"><div class=\"navbar\"><a href=\"./index.php\" class=\"navbar-brand\" title=\"Alura Motors\"><img src=\"img/alura-logo.svg\" class=\"d-inline-block align-top\" alt=\"Alura\">Motors </a><ul class=\"nav navbar-nav\" style=\"margin-top: 35px;\"><li><a href=\"./hello-world.php\">Hello World</a></li><li><a href=\"./index.php\">Anúncios</a></li></ul></div></div></nav></header><div class=\"container\"><h1 class=\"sub-header\">Veículos de Luxo Novos e Usados - Todas as Marcas</h1><div class=\"row\"><div class=\"col-md-12\"><div class=\"container\" style=\"width: 100%\"><div class=\"type-select\">246 veículos encontrados</div><div class=\"container-pagination\" style=\"float: right\"><span class=\"info-pages\">Página 1 de 25</span></div></div><div id=\"container-cards\" style=\"height: 100%\"><div class=\"well card\"><div class=\"col-md-3 image-card\"><img width=\"220\" height=\"155\" alt=\"Foto\" src=\"https://caelum-online-public.s3.amazonaws.com/1381-scraping/01/img-cars/lamborghini-aventador/lamborghini-aventador-2932196__340.jpg\"></div><div class=\"col-md-6 body-card\"><p class=\"txt-name inline\">LAMBORGHINI AVENTADOR</p><p class=\"txt-category badge badge-secondary inline\">USADO</p><p class=\"txt-motor\">Motor 1.8 16v</p><p class=\"txt-description\">Ano 1993 - 55.286 km</p><ul class=\"lst-items\"><li class=\"txt-items\">► 4 X 4</li><li class=\"txt-items\">► Câmera de estacionamento</li><li class=\"txt-items\">► Controle de tração</li><li class=\"txt-items\">► Sensor de estacionamento</li><li class=\"txt-items\">...</li></ul><p class=\"txt-location\">Belo Horizonte - MG</p></div><div class=\"col-md-3 value-card\"><div class=\"value\"><p class=\"txt-value\">R$ 338.000</p></div></div></div><div class=\"well card\"><div class=\"col-md-3 image-card\"><img width=\"220\" height=\"155\" alt=\"Foto\" src=\"https://caelum-online-public.s3.amazonaws.com/1381-scraping/01/img-cars/bmw-m2/bmw-m2-2970882__340.jpg\"></div><div class=\"col-md-6 body-card\"><p class=\"txt-name inline\">BMW M2</p><p class=\"txt-category badge badge-secondary inline\">USADO</p><p class=\"txt-motor\">Motor 3.0 32v</p><p class=\"txt-description\">Ano 2018 - 83.447 km</p><ul class=\"lst-items\"><li class=\"txt-items\">► Câmera de estacionamento</li><li class=\"txt-items\">► Controle de estabilidade</li><li class=\"txt-items\">► Travas elétricas</li><li class=\"txt-items\">► Freios ABS</li><li class=\"txt-items\">...</li></ul><p class=\"txt-location\">Belo Horizonte - MG</p></div><div class=\"col-md-3 value-card\"><div class=\"value\"><p class=\"txt-value\">R$ 346.000</p></div></div></div><div class=\"well card\"><div class=\"col-md-3 image-card\"><img width=\"220\" height=\"155\" alt=\"Foto\" src=\"https://caelum-online-public.s3.amazonaws.com/1381-scraping/01/img-cars/alfa/alfa-1823056__340.jpg\"></div><div class=\"col-md-6 body-card\"><p class=\"txt-name inline\">ALFA</p><p class=\"txt-category badge badge-secondary inline\">USADO</p><p class=\"txt-motor\">Motor 1.8 16v</p><p class=\"txt-description\">Ano 2004 - 19.722 km</p><ul class=\"lst-items\"><li class=\"txt-items\">► Central multimídia</li><li class=\"txt-items\">► Bancos de couro</li><li class=\"txt-items\">► Rodas de liga</li><li class=\"txt-items\">► Câmera de estacionamento</li><li class=\"txt-items\">...</li></ul><p class=\"txt-location\">Rio de Janeiro - RJ</p></div><div class=\"col-md-3 value-card\"><div class=\"value\"><p class=\"txt-value\">R$ 480.000</p></div></div></div><div class=\"well card\"><div class=\"col-md-3 image-card\"><img width=\"220\" height=\"155\" alt=\"Foto\" src=\"https://caelum-online-public.s3.amazonaws.com/1381-scraping/01/img-cars/puech/puech-4055386__340.jpg\"></div><div class=\"col-md-6 body-card\"><p class=\"txt-name inline\">PUECH</p><p class=\"txt-category badge badge-secondary inline\">USADO</p><p class=\"txt-motor\">Motor Diesel V8</p><p class=\"txt-description\">Ano 1992 - 34.335 km</p><ul class=\"lst-items\"><li class=\"txt-items\">► Bancos de couro</li><li class=\"txt-items\">► Freios ABS</li><li class=\"txt-items\">► Rodas de liga</li><li class=\"txt-items\">► Câmbio automático</li><li class=\"txt-items\">...</li></ul><p class=\"txt-location\">São Paulo - SP</p></div><div class=\"col-md-3 value-card\"><div class=\"value\"><p class=\"txt-value\">R$ 133.000</p></div></div></div><div class=\"well card\"><div class=\"col-md-3 image-card\"><img width=\"220\" height=\"155\" alt=\"Foto\" src=\"https://caelum-online-public.s3.amazonaws.com/1381-scraping/01/img-cars/lamborghini-murcielago/lamborghini-murcielago-2872974__340.jpg\"></div><div class=\"col-md-6 body-card\"><p class=\"txt-name inline\">LAMBORGHINI MURCIELAGO</p><p class=\"txt-category badge badge-secondary inline\">USADO</p><p class=\"txt-motor\">Motor 1.0 8v</p><p class=\"txt-description\">Ano 1991 - 464 km</p><ul class=\"lst-items\"><li class=\"txt-items\">► Central multimídia</li><li class=\"txt-items\">► Teto panorâmico</li><li class=\"txt-items\">► Sensor crepuscular</li><li class=\"txt-items\">► Piloto automático</li><li class=\"txt-items\">...</li></ul><p class=\"txt-location\">Belo Horizonte - MG</p></div><div class=\"col-md-3 value-card\"><div class=\"value\"><p class=\"txt-value\">R$ 175.000</p></div></div></div><div class=\"well card\"><div class=\"col-md-3 image-card\"><img width=\"220\" height=\"155\" alt=\"Foto\" src=\"https://caelum-online-public.s3.amazonaws.com/1381-scraping/01/img-cars/aston-martin/aston-martin-2977916__340.jpg\"></div><div class=\"col-md-6 body-card\"><p class=\"txt-name inline\">ASTON MARTIN</p><p class=\"txt-category badge badge-secondary inline\">USADO</p><p class=\"txt-opportunity badge badge-danger inline\">OPORTUNIDADE</p><p class=\"txt-motor\">Motor Diesel V6</p><p class=\"txt-description\">Ano 2004 - 50.189 km</p><ul class=\"lst-items\"><li class=\"txt-items\">► Painel digital</li><li class=\"txt-items\">► Controle de tração</li><li class=\"txt-items\">► Teto panorâmico</li><li class=\"txt-items\">► Central multimídia</li><li class=\"txt-items\">...</li></ul><p class=\"txt-location\">Belo Horizonte - MG</p></div><div class=\"col-md-3 value-card\"><div class=\"value\"><p class=\"txt-value\">R$ 239.000</p></div></div></div><div class=\"well card\"><div class=\"col-md-3 image-card\"><img width=\"220\" height=\"155\" alt=\"Foto\" src=\"https://caelum-online-public.s3.amazonaws.com/1381-scraping/01/img-cars/tvr/tvr-2943925__340.jpg\"></div><div class=\"col-md-6 body-card\"><p class=\"txt-name inline\">TVR</p><p class=\"txt-category badge badge-secondary inline\">USADO</p><p class=\"txt-motor\">Motor 4.0 Turbo</p><p class=\"txt-description\">Ano 2014 - 17.778 km</p><ul class=\"lst-items\"><li class=\"txt-items\">► 4 X 4</li><li class=\"txt-items\">► Teto panorâmico</li><li class=\"txt-items\">► Central multimídia</li><li class=\"txt-items\">► Controle de estabilidade</li><li class=\"txt-items\">...</li></ul><p class=\"txt-location\">Belo Horizonte - MG</p></div><div class=\"col-md-3 value-card\"><div class=\"value\"><p class=\"txt-value\">R$ 115.000</p></div></div></div><div class=\"well card\"><div class=\"col-md-3 image-card\"><img width=\"220\" height=\"155\" alt=\"Foto\" src=\"https://caelum-online-public.s3.amazonaws.com/1381-scraping/01/img-cars/excalibur/excalibur-2916730__340.jpg\"></div><div class=\"col-md-6 body-card\"><p class=\"txt-name inline\">EXCALIBUR</p><p class=\"txt-category badge badge-secondary inline\">USADO</p><p class=\"txt-motor\">Motor 3.0 32v</p><p class=\"txt-description\">Ano 2009 - 81.251 km</p><ul class=\"lst-items\"><li class=\"txt-items\">► Painel digital</li><li class=\"txt-items\">► Câmbio automático</li><li class=\"txt-items\">► Sensor de chuva</li><li class=\"txt-items\">► Travas elétricas</li><li class=\"txt-items\">...</li></ul><p class=\"txt-location\">Rio de Janeiro - RJ</p></div><div class=\"col-md-3 value-card\"><div class=\"value\"><p class=\"txt-value\">R$ 114.000</p></div></div></div><div class=\"well card\"><div class=\"col-md-3 image-card\"><img width=\"220\" height=\"155\" alt=\"Foto\" src=\"https://caelum-online-public.s3.amazonaws.com/1381-scraping/01/img-cars/mclaren/mclaren-2855240__340.jpg\"></div><div class=\"col-md-6 body-card\"><p class=\"txt-name inline\">MCLAREN</p><p class=\"txt-category badge badge-secondary inline\">NOVO</p><p class=\"txt-motor\">Motor Diesel</p><p class=\"txt-description\">Ano 2019 - 0 km</p><ul class=\"lst-items\"><li class=\"txt-items\">► Central multimídia</li><li class=\"txt-items\">► Câmera de estacionamento</li><li class=\"txt-items\">► Câmbio automático</li><li class=\"txt-items\">► Ar condicionado</li><li class=\"txt-items\">...</li></ul><p class=\"txt-location\">São Paulo - SP</p></div><div class=\"col-md-3 value-card\"><div class=\"value\"><p class=\"txt-value\">R$ 75.000</p></div></div></div><div class=\"well card\"><div class=\"col-md-3 image-card\"><img width=\"220\" height=\"155\" alt=\"Foto\" src=\"https://caelum-online-public.s3.amazonaws.com/1381-scraping/01/img-cars/toyota/toyota-3245397__340.jpg\"></div><div class=\"col-md-6 body-card\"><p class=\"txt-name inline\">TOYOTA</p><p class=\"txt-category badge badge-secondary inline\">USADO</p><p class=\"txt-opportunity badge badge-danger inline\">OPORTUNIDADE</p><p class=\"txt-motor\">Motor 4.0 Turbo</p><p class=\"txt-description\">Ano 1999 - 12.536 km</p><ul class=\"lst-items\"><li class=\"txt-items\">► Bancos de couro</li><li class=\"txt-items\">► Freios ABS</li><li class=\"txt-items\">► Piloto automático</li><li class=\"txt-items\">► Controle de estabilidade</li><li class=\"txt-items\">...</li></ul><p class=\"txt-location\">São Paulo - SP</p></div><div class=\"col-md-3 value-card\"><div class=\"value\"><p class=\"txt-value\">R$ 117.000</p></div></div></div></div><div class=\"type-select\">246 veículos encontrados</div><div class=\"container-pagination\" style=\"float: right\"><span class=\"info-pages\">Página 1 de 25</span></div></div></div></div></div></div><footer><nav class=\"navbar navbar-inverse\"><div class=\"container\" style=\"margin-bottom: 10px;\"><div class=\"navbar\"><a href=\"./index.php\" class=\"navbar-brand\" title=\"Alura Motors\"><img src=\"img/alura-logo.svg\" class=\"d-inline-block align-top\" alt=\"Alura\">Motors </a><p style=\"color: #fff; text-align: center; margin-top: 40px;\">Aplicação para treinamento de web scraping</p></div></div></nav></footer></div></body></html>'"
      ]
     },
     "execution_count": 12,
     "metadata": {},
     "output_type": "execute_result"
    }
   ],
   "source": [
    "' '.join(html.split()).replace('> <','><')"
   ]
  },
  {
   "cell_type": "markdown",
   "metadata": {},
   "source": [
    "### Função de tratamento de strings"
   ]
  },
  {
   "cell_type": "code",
   "execution_count": 13,
   "metadata": {},
   "outputs": [],
   "source": [
    "def trata_html(input):\n",
    "    return ' '.join(input.split()).replace('> <','><')"
   ]
  },
  {
   "cell_type": "code",
   "execution_count": 14,
   "metadata": {},
   "outputs": [],
   "source": [
    "html = trata_html(html)"
   ]
  },
  {
   "cell_type": "code",
   "execution_count": 15,
   "metadata": {
    "scrolled": true
   },
   "outputs": [
    {
     "data": {
      "text/plain": [
       "'<!DOCTYPE html><html lang=\"pt-br\"><head><meta charset=\"utf-8\"><meta name=\"viewport\" content=\"width=device-width, initial-scale=1, shrink-to-fit=no\"><title>Alura Motors</title><style> /*Regra para a animacao*/ @keyframes spin { 0% { transform: rotate(0deg); } 100% { transform: rotate(360deg); } } /*Mudando o tamanho do icone de resposta*/ div.glyphicon { color:#6B8E23; font-size: 38px; } /*Classe que mostra a animacao \\'spin\\'*/ .loader { border: 16px solid #f3f3f3; border-radius: 50%; border-top: 16px solid #3498db; width: 80px; height: 80px; -webkit-animation: spin 2s linear infinite; animation: spin 2s linear infinite; } </style><link rel=\"stylesheet\" href=\"https://maxcdn.bootstrapcdn.com/bootstrap/3.3.7/css/bootstrap.min.css\" integrity=\"sha384-BVYiiSIFeK1dGmJRAkycuHAHRg32OmUcww7on3RYdg4Va+PmSTsz/K68vbdEjh4u\" crossorigin=\"anonymous\"><link rel=\"stylesheet\" href=\"css/styles.css\" media=\"all\"><script src=\"https://code.jquery.com/jquery-1.12.4.js\"></script><script src=\"https://maxcdn.bootstrapcdn.com/bootstrap/3.3.7/js/bootstrap.min.js\" integrity=\"sha384-Tc5IQib027qvyjSMfHjOMaLkfuWVxZxUPnCJA7l2mCWNIpG9mGCD8wGNIcPD7Txa\" crossorigin=\"anonymous\"></script><script type=\"text/javascript\" src=\"js/index.js\"></script><script> requisitar(\"https://alura-scraping.herokuapp.com/produtos?_page=\"+1+\"&_limit=10\") </script></head><body cz-shortcut-listen=\"true\"><noscript>You need to enable JavaScript to run this app.</noscript><div class=\"modal fade\" data-backdrop=\"static\" id=\"loadingModal\" tabindex=\"-1\" role=\"dialog\" aria-labelledby=\"loadingModal_label\"><div class=\"modal-dialog\" role=\"document\"><div class=\"modal-content\"><div class=\"modal-header\"><h5 class=\"modal-title\" id=\"loadingModal_label\"><span class=\"glyphicon glyphicon-refresh\"></span>Aguarde... </h5></div><div class=\"modal-body\"><div class=\\'alert\\' role=\\'alert\\'><center><div class=\"loader\" id=\"loader\"></div><br><h4><b id=\"loadingModal_content\"></b></h4></center></div></div></div></div></div><div id=\"root\"><header><nav class=\"navbar navbar-inverse\" style=\"margin-bottom: 0;\"><div class=\"container\" style=\"margin-bottom: -20px;\"><div class=\"navbar\"><a href=\"./index.php\" class=\"navbar-brand\" title=\"Alura Motors\"><img src=\"img/alura-logo.svg\" class=\"d-inline-block align-top\" alt=\"Alura\">Motors </a><ul class=\"nav navbar-nav\" style=\"margin-top: 35px;\"><li><a href=\"./hello-world.php\">Hello World</a></li><li><a href=\"./index.php\">Anúncios</a></li></ul></div></div></nav></header><div class=\"container\"><h1 class=\"sub-header\">Veículos de Luxo Novos e Usados - Todas as Marcas</h1><div class=\"row\"><div class=\"col-md-12\"><div class=\"container\" style=\"width: 100%\"><div class=\"type-select\">246 veículos encontrados</div><div class=\"container-pagination\" style=\"float: right\"><span class=\"info-pages\">Página 1 de 25</span></div></div><div id=\"container-cards\" style=\"height: 100%\"><div class=\"well card\"><div class=\"col-md-3 image-card\"><img width=\"220\" height=\"155\" alt=\"Foto\" src=\"https://caelum-online-public.s3.amazonaws.com/1381-scraping/01/img-cars/lamborghini-aventador/lamborghini-aventador-2932196__340.jpg\"></div><div class=\"col-md-6 body-card\"><p class=\"txt-name inline\">LAMBORGHINI AVENTADOR</p><p class=\"txt-category badge badge-secondary inline\">USADO</p><p class=\"txt-motor\">Motor 1.8 16v</p><p class=\"txt-description\">Ano 1993 - 55.286 km</p><ul class=\"lst-items\"><li class=\"txt-items\">► 4 X 4</li><li class=\"txt-items\">► Câmera de estacionamento</li><li class=\"txt-items\">► Controle de tração</li><li class=\"txt-items\">► Sensor de estacionamento</li><li class=\"txt-items\">...</li></ul><p class=\"txt-location\">Belo Horizonte - MG</p></div><div class=\"col-md-3 value-card\"><div class=\"value\"><p class=\"txt-value\">R$ 338.000</p></div></div></div><div class=\"well card\"><div class=\"col-md-3 image-card\"><img width=\"220\" height=\"155\" alt=\"Foto\" src=\"https://caelum-online-public.s3.amazonaws.com/1381-scraping/01/img-cars/bmw-m2/bmw-m2-2970882__340.jpg\"></div><div class=\"col-md-6 body-card\"><p class=\"txt-name inline\">BMW M2</p><p class=\"txt-category badge badge-secondary inline\">USADO</p><p class=\"txt-motor\">Motor 3.0 32v</p><p class=\"txt-description\">Ano 2018 - 83.447 km</p><ul class=\"lst-items\"><li class=\"txt-items\">► Câmera de estacionamento</li><li class=\"txt-items\">► Controle de estabilidade</li><li class=\"txt-items\">► Travas elétricas</li><li class=\"txt-items\">► Freios ABS</li><li class=\"txt-items\">...</li></ul><p class=\"txt-location\">Belo Horizonte - MG</p></div><div class=\"col-md-3 value-card\"><div class=\"value\"><p class=\"txt-value\">R$ 346.000</p></div></div></div><div class=\"well card\"><div class=\"col-md-3 image-card\"><img width=\"220\" height=\"155\" alt=\"Foto\" src=\"https://caelum-online-public.s3.amazonaws.com/1381-scraping/01/img-cars/alfa/alfa-1823056__340.jpg\"></div><div class=\"col-md-6 body-card\"><p class=\"txt-name inline\">ALFA</p><p class=\"txt-category badge badge-secondary inline\">USADO</p><p class=\"txt-motor\">Motor 1.8 16v</p><p class=\"txt-description\">Ano 2004 - 19.722 km</p><ul class=\"lst-items\"><li class=\"txt-items\">► Central multimídia</li><li class=\"txt-items\">► Bancos de couro</li><li class=\"txt-items\">► Rodas de liga</li><li class=\"txt-items\">► Câmera de estacionamento</li><li class=\"txt-items\">...</li></ul><p class=\"txt-location\">Rio de Janeiro - RJ</p></div><div class=\"col-md-3 value-card\"><div class=\"value\"><p class=\"txt-value\">R$ 480.000</p></div></div></div><div class=\"well card\"><div class=\"col-md-3 image-card\"><img width=\"220\" height=\"155\" alt=\"Foto\" src=\"https://caelum-online-public.s3.amazonaws.com/1381-scraping/01/img-cars/puech/puech-4055386__340.jpg\"></div><div class=\"col-md-6 body-card\"><p class=\"txt-name inline\">PUECH</p><p class=\"txt-category badge badge-secondary inline\">USADO</p><p class=\"txt-motor\">Motor Diesel V8</p><p class=\"txt-description\">Ano 1992 - 34.335 km</p><ul class=\"lst-items\"><li class=\"txt-items\">► Bancos de couro</li><li class=\"txt-items\">► Freios ABS</li><li class=\"txt-items\">► Rodas de liga</li><li class=\"txt-items\">► Câmbio automático</li><li class=\"txt-items\">...</li></ul><p class=\"txt-location\">São Paulo - SP</p></div><div class=\"col-md-3 value-card\"><div class=\"value\"><p class=\"txt-value\">R$ 133.000</p></div></div></div><div class=\"well card\"><div class=\"col-md-3 image-card\"><img width=\"220\" height=\"155\" alt=\"Foto\" src=\"https://caelum-online-public.s3.amazonaws.com/1381-scraping/01/img-cars/lamborghini-murcielago/lamborghini-murcielago-2872974__340.jpg\"></div><div class=\"col-md-6 body-card\"><p class=\"txt-name inline\">LAMBORGHINI MURCIELAGO</p><p class=\"txt-category badge badge-secondary inline\">USADO</p><p class=\"txt-motor\">Motor 1.0 8v</p><p class=\"txt-description\">Ano 1991 - 464 km</p><ul class=\"lst-items\"><li class=\"txt-items\">► Central multimídia</li><li class=\"txt-items\">► Teto panorâmico</li><li class=\"txt-items\">► Sensor crepuscular</li><li class=\"txt-items\">► Piloto automático</li><li class=\"txt-items\">...</li></ul><p class=\"txt-location\">Belo Horizonte - MG</p></div><div class=\"col-md-3 value-card\"><div class=\"value\"><p class=\"txt-value\">R$ 175.000</p></div></div></div><div class=\"well card\"><div class=\"col-md-3 image-card\"><img width=\"220\" height=\"155\" alt=\"Foto\" src=\"https://caelum-online-public.s3.amazonaws.com/1381-scraping/01/img-cars/aston-martin/aston-martin-2977916__340.jpg\"></div><div class=\"col-md-6 body-card\"><p class=\"txt-name inline\">ASTON MARTIN</p><p class=\"txt-category badge badge-secondary inline\">USADO</p><p class=\"txt-opportunity badge badge-danger inline\">OPORTUNIDADE</p><p class=\"txt-motor\">Motor Diesel V6</p><p class=\"txt-description\">Ano 2004 - 50.189 km</p><ul class=\"lst-items\"><li class=\"txt-items\">► Painel digital</li><li class=\"txt-items\">► Controle de tração</li><li class=\"txt-items\">► Teto panorâmico</li><li class=\"txt-items\">► Central multimídia</li><li class=\"txt-items\">...</li></ul><p class=\"txt-location\">Belo Horizonte - MG</p></div><div class=\"col-md-3 value-card\"><div class=\"value\"><p class=\"txt-value\">R$ 239.000</p></div></div></div><div class=\"well card\"><div class=\"col-md-3 image-card\"><img width=\"220\" height=\"155\" alt=\"Foto\" src=\"https://caelum-online-public.s3.amazonaws.com/1381-scraping/01/img-cars/tvr/tvr-2943925__340.jpg\"></div><div class=\"col-md-6 body-card\"><p class=\"txt-name inline\">TVR</p><p class=\"txt-category badge badge-secondary inline\">USADO</p><p class=\"txt-motor\">Motor 4.0 Turbo</p><p class=\"txt-description\">Ano 2014 - 17.778 km</p><ul class=\"lst-items\"><li class=\"txt-items\">► 4 X 4</li><li class=\"txt-items\">► Teto panorâmico</li><li class=\"txt-items\">► Central multimídia</li><li class=\"txt-items\">► Controle de estabilidade</li><li class=\"txt-items\">...</li></ul><p class=\"txt-location\">Belo Horizonte - MG</p></div><div class=\"col-md-3 value-card\"><div class=\"value\"><p class=\"txt-value\">R$ 115.000</p></div></div></div><div class=\"well card\"><div class=\"col-md-3 image-card\"><img width=\"220\" height=\"155\" alt=\"Foto\" src=\"https://caelum-online-public.s3.amazonaws.com/1381-scraping/01/img-cars/excalibur/excalibur-2916730__340.jpg\"></div><div class=\"col-md-6 body-card\"><p class=\"txt-name inline\">EXCALIBUR</p><p class=\"txt-category badge badge-secondary inline\">USADO</p><p class=\"txt-motor\">Motor 3.0 32v</p><p class=\"txt-description\">Ano 2009 - 81.251 km</p><ul class=\"lst-items\"><li class=\"txt-items\">► Painel digital</li><li class=\"txt-items\">► Câmbio automático</li><li class=\"txt-items\">► Sensor de chuva</li><li class=\"txt-items\">► Travas elétricas</li><li class=\"txt-items\">...</li></ul><p class=\"txt-location\">Rio de Janeiro - RJ</p></div><div class=\"col-md-3 value-card\"><div class=\"value\"><p class=\"txt-value\">R$ 114.000</p></div></div></div><div class=\"well card\"><div class=\"col-md-3 image-card\"><img width=\"220\" height=\"155\" alt=\"Foto\" src=\"https://caelum-online-public.s3.amazonaws.com/1381-scraping/01/img-cars/mclaren/mclaren-2855240__340.jpg\"></div><div class=\"col-md-6 body-card\"><p class=\"txt-name inline\">MCLAREN</p><p class=\"txt-category badge badge-secondary inline\">NOVO</p><p class=\"txt-motor\">Motor Diesel</p><p class=\"txt-description\">Ano 2019 - 0 km</p><ul class=\"lst-items\"><li class=\"txt-items\">► Central multimídia</li><li class=\"txt-items\">► Câmera de estacionamento</li><li class=\"txt-items\">► Câmbio automático</li><li class=\"txt-items\">► Ar condicionado</li><li class=\"txt-items\">...</li></ul><p class=\"txt-location\">São Paulo - SP</p></div><div class=\"col-md-3 value-card\"><div class=\"value\"><p class=\"txt-value\">R$ 75.000</p></div></div></div><div class=\"well card\"><div class=\"col-md-3 image-card\"><img width=\"220\" height=\"155\" alt=\"Foto\" src=\"https://caelum-online-public.s3.amazonaws.com/1381-scraping/01/img-cars/toyota/toyota-3245397__340.jpg\"></div><div class=\"col-md-6 body-card\"><p class=\"txt-name inline\">TOYOTA</p><p class=\"txt-category badge badge-secondary inline\">USADO</p><p class=\"txt-opportunity badge badge-danger inline\">OPORTUNIDADE</p><p class=\"txt-motor\">Motor 4.0 Turbo</p><p class=\"txt-description\">Ano 1999 - 12.536 km</p><ul class=\"lst-items\"><li class=\"txt-items\">► Bancos de couro</li><li class=\"txt-items\">► Freios ABS</li><li class=\"txt-items\">► Piloto automático</li><li class=\"txt-items\">► Controle de estabilidade</li><li class=\"txt-items\">...</li></ul><p class=\"txt-location\">São Paulo - SP</p></div><div class=\"col-md-3 value-card\"><div class=\"value\"><p class=\"txt-value\">R$ 117.000</p></div></div></div></div><div class=\"type-select\">246 veículos encontrados</div><div class=\"container-pagination\" style=\"float: right\"><span class=\"info-pages\">Página 1 de 25</span></div></div></div></div></div></div><footer><nav class=\"navbar navbar-inverse\"><div class=\"container\" style=\"margin-bottom: 10px;\"><div class=\"navbar\"><a href=\"./index.php\" class=\"navbar-brand\" title=\"Alura Motors\"><img src=\"img/alura-logo.svg\" class=\"d-inline-block align-top\" alt=\"Alura\">Motors </a><p style=\"color: #fff; text-align: center; margin-top: 40px;\">Aplicação para treinamento de web scraping</p></div></div></nav></footer></div></body></html>'"
      ]
     },
     "execution_count": 15,
     "metadata": {},
     "output_type": "execute_result"
    }
   ],
   "source": [
    "html"
   ]
  },
  {
   "cell_type": "markdown",
   "metadata": {
    "colab": {},
    "colab_type": "code",
    "id": "BsfhL3sZFRZu"
   },
   "source": [
    "---\n",
    "# <font color=green>3. INTRODUÇÃO AO BEAUTIFULSOUP"
   ]
  },
  {
   "cell_type": "markdown",
   "metadata": {
    "colab": {},
    "colab_type": "code",
    "id": "BsfhL3sZFRZu"
   },
   "source": [
    "# 3.1. HTML da nossa página"
   ]
  },
  {
   "cell_type": "markdown",
   "metadata": {},
   "source": [
    "**HTML** (*HyperText Markup Language*) é uma linguagem de marcação composta por **tags** que deteminam o papel que cada parte do documento vai assumir. As **tags** são formadas pelo seu nome e atributos. Os atributos servem para configurar e também modificar as características padrões de uma **tag**.\n",
    "\n",
    "## Estrutura básica\n",
    "\n",
    "```html\n",
    "<html>\n",
    "    <head>\n",
    "        <meta charset=\"utf-8\" />\n",
    "        <title>Alura Motors</title>\n",
    "    </head>\n",
    "    <body>\n",
    "        <div id=\"container\">\n",
    "            <h1>Alura</h1>\n",
    "            <h2 class=\"formato\">Cursos de Tecnologia</h2>\n",
    "            <p>Você vai estudar, praticar, discutir e aprender.</p>\n",
    "            <a href=\"https://www.alura.com.br/\">Clique aqui</a>\n",
    "        </div>\n",
    "    </body>\n",
    "</html>\n",
    "```\n",
    "\n",
    "```<html>``` - determina o início do documento.\n",
    "\n",
    "```<head>``` - cabeçalho. Contém informações e configurações do documento.\n",
    "\n",
    "```<body>``` - é o corpo do documento, onde todo o conteúdo é colocado. Esta é a parte visível em um navegador.\n",
    "\n",
    "## Tags mais comuns\n",
    "\n",
    "```<div>``` - define uma divisão da página. Pode ser formatada de diversas maneiras.\n",
    "\n",
    "```<h1>, <h2>, <h3>, <h4>, <h5>, <h6>``` - marcadores de títulos.\n",
    "\n",
    "```<p>``` - marcador de parágrafo.\n",
    "\n",
    "```<a>``` - hiperlink.\n",
    "\n",
    "```<img>``` - exibição de imagens.\n",
    "\n",
    "```<table>``` - definição de tabelas.\n",
    "\n",
    "```<ul>, <li>``` - definição de listas.\n"
   ]
  },
  {
   "cell_type": "markdown",
   "metadata": {},
   "source": [
    "# 3.2. Criando um objeto BeautifulSoup"
   ]
  },
  {
   "cell_type": "markdown",
   "metadata": {},
   "source": [
    "## https://www.crummy.com/software/BeautifulSoup/\n",
    "\n",
    "### Sobre parser ver: https://www.crummy.com/software/BeautifulSoup/bs4/doc/#parser-installation"
   ]
  },
  {
   "cell_type": "code",
   "execution_count": 16,
   "metadata": {
    "colab": {
     "base_uri": "https://localhost:8080/",
     "height": 316
    },
    "colab_type": "code",
    "id": "5Oxx_d0BCWGa",
    "outputId": "4d2c4e2b-57fe-413d-9521-91711e0e5fdc",
    "scrolled": true
   },
   "outputs": [
    {
     "data": {
      "text/plain": [
       "<!DOCTYPE html>\n",
       "<html lang=\"pt-br\"><head><meta charset=\"utf-8\"/><meta content=\"width=device-width, initial-scale=1, shrink-to-fit=no\" name=\"viewport\"/><title>Alura Motors</title><style> /*Regra para a animacao*/ @keyframes spin { 0% { transform: rotate(0deg); } 100% { transform: rotate(360deg); } } /*Mudando o tamanho do icone de resposta*/ div.glyphicon { color:#6B8E23; font-size: 38px; } /*Classe que mostra a animacao 'spin'*/ .loader { border: 16px solid #f3f3f3; border-radius: 50%; border-top: 16px solid #3498db; width: 80px; height: 80px; -webkit-animation: spin 2s linear infinite; animation: spin 2s linear infinite; } </style><link crossorigin=\"anonymous\" href=\"https://maxcdn.bootstrapcdn.com/bootstrap/3.3.7/css/bootstrap.min.css\" integrity=\"sha384-BVYiiSIFeK1dGmJRAkycuHAHRg32OmUcww7on3RYdg4Va+PmSTsz/K68vbdEjh4u\" rel=\"stylesheet\"/><link href=\"css/styles.css\" media=\"all\" rel=\"stylesheet\"/><script src=\"https://code.jquery.com/jquery-1.12.4.js\"></script><script crossorigin=\"anonymous\" integrity=\"sha384-Tc5IQib027qvyjSMfHjOMaLkfuWVxZxUPnCJA7l2mCWNIpG9mGCD8wGNIcPD7Txa\" src=\"https://maxcdn.bootstrapcdn.com/bootstrap/3.3.7/js/bootstrap.min.js\"></script><script src=\"js/index.js\" type=\"text/javascript\"></script><script> requisitar(\"https://alura-scraping.herokuapp.com/produtos?_page=\"+1+\"&_limit=10\") </script></head><body cz-shortcut-listen=\"true\"><noscript>You need to enable JavaScript to run this app.</noscript><div aria-labelledby=\"loadingModal_label\" class=\"modal fade\" data-backdrop=\"static\" id=\"loadingModal\" role=\"dialog\" tabindex=\"-1\"><div class=\"modal-dialog\" role=\"document\"><div class=\"modal-content\"><div class=\"modal-header\"><h5 class=\"modal-title\" id=\"loadingModal_label\"><span class=\"glyphicon glyphicon-refresh\"></span>Aguarde... </h5></div><div class=\"modal-body\"><div class=\"alert\" role=\"alert\"><center><div class=\"loader\" id=\"loader\"></div><br/><h4><b id=\"loadingModal_content\"></b></h4></center></div></div></div></div></div><div id=\"root\"><header><nav class=\"navbar navbar-inverse\" style=\"margin-bottom: 0;\"><div class=\"container\" style=\"margin-bottom: -20px;\"><div class=\"navbar\"><a class=\"navbar-brand\" href=\"./index.php\" title=\"Alura Motors\"><img alt=\"Alura\" class=\"d-inline-block align-top\" src=\"img/alura-logo.svg\"/>Motors </a><ul class=\"nav navbar-nav\" style=\"margin-top: 35px;\"><li><a href=\"./hello-world.php\">Hello World</a></li><li><a href=\"./index.php\">Anúncios</a></li></ul></div></div></nav></header><div class=\"container\"><h1 class=\"sub-header\">Veículos de Luxo Novos e Usados - Todas as Marcas</h1><div class=\"row\"><div class=\"col-md-12\"><div class=\"container\" style=\"width: 100%\"><div class=\"type-select\">246 veículos encontrados</div><div class=\"container-pagination\" style=\"float: right\"><span class=\"info-pages\">Página 1 de 25</span></div></div><div id=\"container-cards\" style=\"height: 100%\"><div class=\"well card\"><div class=\"col-md-3 image-card\"><img alt=\"Foto\" height=\"155\" src=\"https://caelum-online-public.s3.amazonaws.com/1381-scraping/01/img-cars/lamborghini-aventador/lamborghini-aventador-2932196__340.jpg\" width=\"220\"/></div><div class=\"col-md-6 body-card\"><p class=\"txt-name inline\">LAMBORGHINI AVENTADOR</p><p class=\"txt-category badge badge-secondary inline\">USADO</p><p class=\"txt-motor\">Motor 1.8 16v</p><p class=\"txt-description\">Ano 1993 - 55.286 km</p><ul class=\"lst-items\"><li class=\"txt-items\">► 4 X 4</li><li class=\"txt-items\">► Câmera de estacionamento</li><li class=\"txt-items\">► Controle de tração</li><li class=\"txt-items\">► Sensor de estacionamento</li><li class=\"txt-items\">...</li></ul><p class=\"txt-location\">Belo Horizonte - MG</p></div><div class=\"col-md-3 value-card\"><div class=\"value\"><p class=\"txt-value\">R$ 338.000</p></div></div></div><div class=\"well card\"><div class=\"col-md-3 image-card\"><img alt=\"Foto\" height=\"155\" src=\"https://caelum-online-public.s3.amazonaws.com/1381-scraping/01/img-cars/bmw-m2/bmw-m2-2970882__340.jpg\" width=\"220\"/></div><div class=\"col-md-6 body-card\"><p class=\"txt-name inline\">BMW M2</p><p class=\"txt-category badge badge-secondary inline\">USADO</p><p class=\"txt-motor\">Motor 3.0 32v</p><p class=\"txt-description\">Ano 2018 - 83.447 km</p><ul class=\"lst-items\"><li class=\"txt-items\">► Câmera de estacionamento</li><li class=\"txt-items\">► Controle de estabilidade</li><li class=\"txt-items\">► Travas elétricas</li><li class=\"txt-items\">► Freios ABS</li><li class=\"txt-items\">...</li></ul><p class=\"txt-location\">Belo Horizonte - MG</p></div><div class=\"col-md-3 value-card\"><div class=\"value\"><p class=\"txt-value\">R$ 346.000</p></div></div></div><div class=\"well card\"><div class=\"col-md-3 image-card\"><img alt=\"Foto\" height=\"155\" src=\"https://caelum-online-public.s3.amazonaws.com/1381-scraping/01/img-cars/alfa/alfa-1823056__340.jpg\" width=\"220\"/></div><div class=\"col-md-6 body-card\"><p class=\"txt-name inline\">ALFA</p><p class=\"txt-category badge badge-secondary inline\">USADO</p><p class=\"txt-motor\">Motor 1.8 16v</p><p class=\"txt-description\">Ano 2004 - 19.722 km</p><ul class=\"lst-items\"><li class=\"txt-items\">► Central multimídia</li><li class=\"txt-items\">► Bancos de couro</li><li class=\"txt-items\">► Rodas de liga</li><li class=\"txt-items\">► Câmera de estacionamento</li><li class=\"txt-items\">...</li></ul><p class=\"txt-location\">Rio de Janeiro - RJ</p></div><div class=\"col-md-3 value-card\"><div class=\"value\"><p class=\"txt-value\">R$ 480.000</p></div></div></div><div class=\"well card\"><div class=\"col-md-3 image-card\"><img alt=\"Foto\" height=\"155\" src=\"https://caelum-online-public.s3.amazonaws.com/1381-scraping/01/img-cars/puech/puech-4055386__340.jpg\" width=\"220\"/></div><div class=\"col-md-6 body-card\"><p class=\"txt-name inline\">PUECH</p><p class=\"txt-category badge badge-secondary inline\">USADO</p><p class=\"txt-motor\">Motor Diesel V8</p><p class=\"txt-description\">Ano 1992 - 34.335 km</p><ul class=\"lst-items\"><li class=\"txt-items\">► Bancos de couro</li><li class=\"txt-items\">► Freios ABS</li><li class=\"txt-items\">► Rodas de liga</li><li class=\"txt-items\">► Câmbio automático</li><li class=\"txt-items\">...</li></ul><p class=\"txt-location\">São Paulo - SP</p></div><div class=\"col-md-3 value-card\"><div class=\"value\"><p class=\"txt-value\">R$ 133.000</p></div></div></div><div class=\"well card\"><div class=\"col-md-3 image-card\"><img alt=\"Foto\" height=\"155\" src=\"https://caelum-online-public.s3.amazonaws.com/1381-scraping/01/img-cars/lamborghini-murcielago/lamborghini-murcielago-2872974__340.jpg\" width=\"220\"/></div><div class=\"col-md-6 body-card\"><p class=\"txt-name inline\">LAMBORGHINI MURCIELAGO</p><p class=\"txt-category badge badge-secondary inline\">USADO</p><p class=\"txt-motor\">Motor 1.0 8v</p><p class=\"txt-description\">Ano 1991 - 464 km</p><ul class=\"lst-items\"><li class=\"txt-items\">► Central multimídia</li><li class=\"txt-items\">► Teto panorâmico</li><li class=\"txt-items\">► Sensor crepuscular</li><li class=\"txt-items\">► Piloto automático</li><li class=\"txt-items\">...</li></ul><p class=\"txt-location\">Belo Horizonte - MG</p></div><div class=\"col-md-3 value-card\"><div class=\"value\"><p class=\"txt-value\">R$ 175.000</p></div></div></div><div class=\"well card\"><div class=\"col-md-3 image-card\"><img alt=\"Foto\" height=\"155\" src=\"https://caelum-online-public.s3.amazonaws.com/1381-scraping/01/img-cars/aston-martin/aston-martin-2977916__340.jpg\" width=\"220\"/></div><div class=\"col-md-6 body-card\"><p class=\"txt-name inline\">ASTON MARTIN</p><p class=\"txt-category badge badge-secondary inline\">USADO</p><p class=\"txt-opportunity badge badge-danger inline\">OPORTUNIDADE</p><p class=\"txt-motor\">Motor Diesel V6</p><p class=\"txt-description\">Ano 2004 - 50.189 km</p><ul class=\"lst-items\"><li class=\"txt-items\">► Painel digital</li><li class=\"txt-items\">► Controle de tração</li><li class=\"txt-items\">► Teto panorâmico</li><li class=\"txt-items\">► Central multimídia</li><li class=\"txt-items\">...</li></ul><p class=\"txt-location\">Belo Horizonte - MG</p></div><div class=\"col-md-3 value-card\"><div class=\"value\"><p class=\"txt-value\">R$ 239.000</p></div></div></div><div class=\"well card\"><div class=\"col-md-3 image-card\"><img alt=\"Foto\" height=\"155\" src=\"https://caelum-online-public.s3.amazonaws.com/1381-scraping/01/img-cars/tvr/tvr-2943925__340.jpg\" width=\"220\"/></div><div class=\"col-md-6 body-card\"><p class=\"txt-name inline\">TVR</p><p class=\"txt-category badge badge-secondary inline\">USADO</p><p class=\"txt-motor\">Motor 4.0 Turbo</p><p class=\"txt-description\">Ano 2014 - 17.778 km</p><ul class=\"lst-items\"><li class=\"txt-items\">► 4 X 4</li><li class=\"txt-items\">► Teto panorâmico</li><li class=\"txt-items\">► Central multimídia</li><li class=\"txt-items\">► Controle de estabilidade</li><li class=\"txt-items\">...</li></ul><p class=\"txt-location\">Belo Horizonte - MG</p></div><div class=\"col-md-3 value-card\"><div class=\"value\"><p class=\"txt-value\">R$ 115.000</p></div></div></div><div class=\"well card\"><div class=\"col-md-3 image-card\"><img alt=\"Foto\" height=\"155\" src=\"https://caelum-online-public.s3.amazonaws.com/1381-scraping/01/img-cars/excalibur/excalibur-2916730__340.jpg\" width=\"220\"/></div><div class=\"col-md-6 body-card\"><p class=\"txt-name inline\">EXCALIBUR</p><p class=\"txt-category badge badge-secondary inline\">USADO</p><p class=\"txt-motor\">Motor 3.0 32v</p><p class=\"txt-description\">Ano 2009 - 81.251 km</p><ul class=\"lst-items\"><li class=\"txt-items\">► Painel digital</li><li class=\"txt-items\">► Câmbio automático</li><li class=\"txt-items\">► Sensor de chuva</li><li class=\"txt-items\">► Travas elétricas</li><li class=\"txt-items\">...</li></ul><p class=\"txt-location\">Rio de Janeiro - RJ</p></div><div class=\"col-md-3 value-card\"><div class=\"value\"><p class=\"txt-value\">R$ 114.000</p></div></div></div><div class=\"well card\"><div class=\"col-md-3 image-card\"><img alt=\"Foto\" height=\"155\" src=\"https://caelum-online-public.s3.amazonaws.com/1381-scraping/01/img-cars/mclaren/mclaren-2855240__340.jpg\" width=\"220\"/></div><div class=\"col-md-6 body-card\"><p class=\"txt-name inline\">MCLAREN</p><p class=\"txt-category badge badge-secondary inline\">NOVO</p><p class=\"txt-motor\">Motor Diesel</p><p class=\"txt-description\">Ano 2019 - 0 km</p><ul class=\"lst-items\"><li class=\"txt-items\">► Central multimídia</li><li class=\"txt-items\">► Câmera de estacionamento</li><li class=\"txt-items\">► Câmbio automático</li><li class=\"txt-items\">► Ar condicionado</li><li class=\"txt-items\">...</li></ul><p class=\"txt-location\">São Paulo - SP</p></div><div class=\"col-md-3 value-card\"><div class=\"value\"><p class=\"txt-value\">R$ 75.000</p></div></div></div><div class=\"well card\"><div class=\"col-md-3 image-card\"><img alt=\"Foto\" height=\"155\" src=\"https://caelum-online-public.s3.amazonaws.com/1381-scraping/01/img-cars/toyota/toyota-3245397__340.jpg\" width=\"220\"/></div><div class=\"col-md-6 body-card\"><p class=\"txt-name inline\">TOYOTA</p><p class=\"txt-category badge badge-secondary inline\">USADO</p><p class=\"txt-opportunity badge badge-danger inline\">OPORTUNIDADE</p><p class=\"txt-motor\">Motor 4.0 Turbo</p><p class=\"txt-description\">Ano 1999 - 12.536 km</p><ul class=\"lst-items\"><li class=\"txt-items\">► Bancos de couro</li><li class=\"txt-items\">► Freios ABS</li><li class=\"txt-items\">► Piloto automático</li><li class=\"txt-items\">► Controle de estabilidade</li><li class=\"txt-items\">...</li></ul><p class=\"txt-location\">São Paulo - SP</p></div><div class=\"col-md-3 value-card\"><div class=\"value\"><p class=\"txt-value\">R$ 117.000</p></div></div></div></div><div class=\"type-select\">246 veículos encontrados</div><div class=\"container-pagination\" style=\"float: right\"><span class=\"info-pages\">Página 1 de 25</span></div></div></div></div></div></body></html><footer><nav class=\"navbar navbar-inverse\"><div class=\"container\" style=\"margin-bottom: 10px;\"><div class=\"navbar\"><a class=\"navbar-brand\" href=\"./index.php\" title=\"Alura Motors\"><img alt=\"Alura\" class=\"d-inline-block align-top\" src=\"img/alura-logo.svg\"/>Motors </a><p style=\"color: #fff; text-align: center; margin-top: 40px;\">Aplicação para treinamento de web scraping</p></div></div></nav></footer>"
      ]
     },
     "execution_count": 16,
     "metadata": {},
     "output_type": "execute_result"
    }
   ],
   "source": [
    "from bs4 import BeautifulSoup\n",
    "from urllib.request import urlopen\n",
    "\n",
    "soup = BeautifulSoup(html,'html.parser')\n",
    "soup"
   ]
  },
  {
   "cell_type": "code",
   "execution_count": 17,
   "metadata": {
    "scrolled": true
   },
   "outputs": [
    {
     "name": "stdout",
     "output_type": "stream",
     "text": [
      "<!DOCTYPE html>\n",
      "<html lang=\"pt-br\">\n",
      " <head>\n",
      "  <meta charset=\"utf-8\"/>\n",
      "  <meta content=\"width=device-width, initial-scale=1, shrink-to-fit=no\" name=\"viewport\"/>\n",
      "  <title>\n",
      "   Alura Motors\n",
      "  </title>\n",
      "  <style>\n",
      "   /*Regra para a animacao*/ @keyframes spin { 0% { transform: rotate(0deg); } 100% { transform: rotate(360deg); } } /*Mudando o tamanho do icone de resposta*/ div.glyphicon { color:#6B8E23; font-size: 38px; } /*Classe que mostra a animacao 'spin'*/ .loader { border: 16px solid #f3f3f3; border-radius: 50%; border-top: 16px solid #3498db; width: 80px; height: 80px; -webkit-animation: spin 2s linear infinite; animation: spin 2s linear infinite; }\n",
      "  </style>\n",
      "  <link crossorigin=\"anonymous\" href=\"https://maxcdn.bootstrapcdn.com/bootstrap/3.3.7/css/bootstrap.min.css\" integrity=\"sha384-BVYiiSIFeK1dGmJRAkycuHAHRg32OmUcww7on3RYdg4Va+PmSTsz/K68vbdEjh4u\" rel=\"stylesheet\"/>\n",
      "  <link href=\"css/styles.css\" media=\"all\" rel=\"stylesheet\"/>\n",
      "  <script src=\"https://code.jquery.com/jquery-1.12.4.js\">\n",
      "  </script>\n",
      "  <script crossorigin=\"anonymous\" integrity=\"sha384-Tc5IQib027qvyjSMfHjOMaLkfuWVxZxUPnCJA7l2mCWNIpG9mGCD8wGNIcPD7Txa\" src=\"https://maxcdn.bootstrapcdn.com/bootstrap/3.3.7/js/bootstrap.min.js\">\n",
      "  </script>\n",
      "  <script src=\"js/index.js\" type=\"text/javascript\">\n",
      "  </script>\n",
      "  <script>\n",
      "   requisitar(\"https://alura-scraping.herokuapp.com/produtos?_page=\"+1+\"&_limit=10\")\n",
      "  </script>\n",
      " </head>\n",
      " <body cz-shortcut-listen=\"true\">\n",
      "  <noscript>\n",
      "   You need to enable JavaScript to run this app.\n",
      "  </noscript>\n",
      "  <div aria-labelledby=\"loadingModal_label\" class=\"modal fade\" data-backdrop=\"static\" id=\"loadingModal\" role=\"dialog\" tabindex=\"-1\">\n",
      "   <div class=\"modal-dialog\" role=\"document\">\n",
      "    <div class=\"modal-content\">\n",
      "     <div class=\"modal-header\">\n",
      "      <h5 class=\"modal-title\" id=\"loadingModal_label\">\n",
      "       <span class=\"glyphicon glyphicon-refresh\">\n",
      "       </span>\n",
      "       Aguarde...\n",
      "      </h5>\n",
      "     </div>\n",
      "     <div class=\"modal-body\">\n",
      "      <div class=\"alert\" role=\"alert\">\n",
      "       <center>\n",
      "        <div class=\"loader\" id=\"loader\">\n",
      "        </div>\n",
      "        <br/>\n",
      "        <h4>\n",
      "         <b id=\"loadingModal_content\">\n",
      "         </b>\n",
      "        </h4>\n",
      "       </center>\n",
      "      </div>\n",
      "     </div>\n",
      "    </div>\n",
      "   </div>\n",
      "  </div>\n",
      "  <div id=\"root\">\n",
      "   <header>\n",
      "    <nav class=\"navbar navbar-inverse\" style=\"margin-bottom: 0;\">\n",
      "     <div class=\"container\" style=\"margin-bottom: -20px;\">\n",
      "      <div class=\"navbar\">\n",
      "       <a class=\"navbar-brand\" href=\"./index.php\" title=\"Alura Motors\">\n",
      "        <img alt=\"Alura\" class=\"d-inline-block align-top\" src=\"img/alura-logo.svg\"/>\n",
      "        Motors\n",
      "       </a>\n",
      "       <ul class=\"nav navbar-nav\" style=\"margin-top: 35px;\">\n",
      "        <li>\n",
      "         <a href=\"./hello-world.php\">\n",
      "          Hello World\n",
      "         </a>\n",
      "        </li>\n",
      "        <li>\n",
      "         <a href=\"./index.php\">\n",
      "          Anúncios\n",
      "         </a>\n",
      "        </li>\n",
      "       </ul>\n",
      "      </div>\n",
      "     </div>\n",
      "    </nav>\n",
      "   </header>\n",
      "   <div class=\"container\">\n",
      "    <h1 class=\"sub-header\">\n",
      "     Veículos de Luxo Novos e Usados - Todas as Marcas\n",
      "    </h1>\n",
      "    <div class=\"row\">\n",
      "     <div class=\"col-md-12\">\n",
      "      <div class=\"container\" style=\"width: 100%\">\n",
      "       <div class=\"type-select\">\n",
      "        246 veículos encontrados\n",
      "       </div>\n",
      "       <div class=\"container-pagination\" style=\"float: right\">\n",
      "        <span class=\"info-pages\">\n",
      "         Página 1 de 25\n",
      "        </span>\n",
      "       </div>\n",
      "      </div>\n",
      "      <div id=\"container-cards\" style=\"height: 100%\">\n",
      "       <div class=\"well card\">\n",
      "        <div class=\"col-md-3 image-card\">\n",
      "         <img alt=\"Foto\" height=\"155\" src=\"https://caelum-online-public.s3.amazonaws.com/1381-scraping/01/img-cars/lamborghini-aventador/lamborghini-aventador-2932196__340.jpg\" width=\"220\"/>\n",
      "        </div>\n",
      "        <div class=\"col-md-6 body-card\">\n",
      "         <p class=\"txt-name inline\">\n",
      "          LAMBORGHINI AVENTADOR\n",
      "         </p>\n",
      "         <p class=\"txt-category badge badge-secondary inline\">\n",
      "          USADO\n",
      "         </p>\n",
      "         <p class=\"txt-motor\">\n",
      "          Motor 1.8 16v\n",
      "         </p>\n",
      "         <p class=\"txt-description\">\n",
      "          Ano 1993 - 55.286 km\n",
      "         </p>\n",
      "         <ul class=\"lst-items\">\n",
      "          <li class=\"txt-items\">\n",
      "           ► 4 X 4\n",
      "          </li>\n",
      "          <li class=\"txt-items\">\n",
      "           ► Câmera de estacionamento\n",
      "          </li>\n",
      "          <li class=\"txt-items\">\n",
      "           ► Controle de tração\n",
      "          </li>\n",
      "          <li class=\"txt-items\">\n",
      "           ► Sensor de estacionamento\n",
      "          </li>\n",
      "          <li class=\"txt-items\">\n",
      "           ...\n",
      "          </li>\n",
      "         </ul>\n",
      "         <p class=\"txt-location\">\n",
      "          Belo Horizonte - MG\n",
      "         </p>\n",
      "        </div>\n",
      "        <div class=\"col-md-3 value-card\">\n",
      "         <div class=\"value\">\n",
      "          <p class=\"txt-value\">\n",
      "           R$ 338.000\n",
      "          </p>\n",
      "         </div>\n",
      "        </div>\n",
      "       </div>\n",
      "       <div class=\"well card\">\n",
      "        <div class=\"col-md-3 image-card\">\n",
      "         <img alt=\"Foto\" height=\"155\" src=\"https://caelum-online-public.s3.amazonaws.com/1381-scraping/01/img-cars/bmw-m2/bmw-m2-2970882__340.jpg\" width=\"220\"/>\n",
      "        </div>\n",
      "        <div class=\"col-md-6 body-card\">\n",
      "         <p class=\"txt-name inline\">\n",
      "          BMW M2\n",
      "         </p>\n",
      "         <p class=\"txt-category badge badge-secondary inline\">\n",
      "          USADO\n",
      "         </p>\n",
      "         <p class=\"txt-motor\">\n",
      "          Motor 3.0 32v\n",
      "         </p>\n",
      "         <p class=\"txt-description\">\n",
      "          Ano 2018 - 83.447 km\n",
      "         </p>\n",
      "         <ul class=\"lst-items\">\n",
      "          <li class=\"txt-items\">\n",
      "           ► Câmera de estacionamento\n",
      "          </li>\n",
      "          <li class=\"txt-items\">\n",
      "           ► Controle de estabilidade\n",
      "          </li>\n",
      "          <li class=\"txt-items\">\n",
      "           ► Travas elétricas\n",
      "          </li>\n",
      "          <li class=\"txt-items\">\n",
      "           ► Freios ABS\n",
      "          </li>\n",
      "          <li class=\"txt-items\">\n",
      "           ...\n",
      "          </li>\n",
      "         </ul>\n",
      "         <p class=\"txt-location\">\n",
      "          Belo Horizonte - MG\n",
      "         </p>\n",
      "        </div>\n",
      "        <div class=\"col-md-3 value-card\">\n",
      "         <div class=\"value\">\n",
      "          <p class=\"txt-value\">\n",
      "           R$ 346.000\n",
      "          </p>\n",
      "         </div>\n",
      "        </div>\n",
      "       </div>\n",
      "       <div class=\"well card\">\n",
      "        <div class=\"col-md-3 image-card\">\n",
      "         <img alt=\"Foto\" height=\"155\" src=\"https://caelum-online-public.s3.amazonaws.com/1381-scraping/01/img-cars/alfa/alfa-1823056__340.jpg\" width=\"220\"/>\n",
      "        </div>\n",
      "        <div class=\"col-md-6 body-card\">\n",
      "         <p class=\"txt-name inline\">\n",
      "          ALFA\n",
      "         </p>\n",
      "         <p class=\"txt-category badge badge-secondary inline\">\n",
      "          USADO\n",
      "         </p>\n",
      "         <p class=\"txt-motor\">\n",
      "          Motor 1.8 16v\n",
      "         </p>\n",
      "         <p class=\"txt-description\">\n",
      "          Ano 2004 - 19.722 km\n",
      "         </p>\n",
      "         <ul class=\"lst-items\">\n",
      "          <li class=\"txt-items\">\n",
      "           ► Central multimídia\n",
      "          </li>\n",
      "          <li class=\"txt-items\">\n",
      "           ► Bancos de couro\n",
      "          </li>\n",
      "          <li class=\"txt-items\">\n",
      "           ► Rodas de liga\n",
      "          </li>\n",
      "          <li class=\"txt-items\">\n",
      "           ► Câmera de estacionamento\n",
      "          </li>\n",
      "          <li class=\"txt-items\">\n",
      "           ...\n",
      "          </li>\n",
      "         </ul>\n",
      "         <p class=\"txt-location\">\n",
      "          Rio de Janeiro - RJ\n",
      "         </p>\n",
      "        </div>\n",
      "        <div class=\"col-md-3 value-card\">\n",
      "         <div class=\"value\">\n",
      "          <p class=\"txt-value\">\n",
      "           R$ 480.000\n",
      "          </p>\n",
      "         </div>\n",
      "        </div>\n",
      "       </div>\n",
      "       <div class=\"well card\">\n",
      "        <div class=\"col-md-3 image-card\">\n",
      "         <img alt=\"Foto\" height=\"155\" src=\"https://caelum-online-public.s3.amazonaws.com/1381-scraping/01/img-cars/puech/puech-4055386__340.jpg\" width=\"220\"/>\n",
      "        </div>\n",
      "        <div class=\"col-md-6 body-card\">\n",
      "         <p class=\"txt-name inline\">\n",
      "          PUECH\n",
      "         </p>\n",
      "         <p class=\"txt-category badge badge-secondary inline\">\n",
      "          USADO\n",
      "         </p>\n",
      "         <p class=\"txt-motor\">\n",
      "          Motor Diesel V8\n",
      "         </p>\n",
      "         <p class=\"txt-description\">\n",
      "          Ano 1992 - 34.335 km\n",
      "         </p>\n",
      "         <ul class=\"lst-items\">\n",
      "          <li class=\"txt-items\">\n",
      "           ► Bancos de couro\n",
      "          </li>\n",
      "          <li class=\"txt-items\">\n",
      "           ► Freios ABS\n",
      "          </li>\n",
      "          <li class=\"txt-items\">\n",
      "           ► Rodas de liga\n",
      "          </li>\n",
      "          <li class=\"txt-items\">\n",
      "           ► Câmbio automático\n",
      "          </li>\n",
      "          <li class=\"txt-items\">\n",
      "           ...\n",
      "          </li>\n",
      "         </ul>\n",
      "         <p class=\"txt-location\">\n",
      "          São Paulo - SP\n",
      "         </p>\n",
      "        </div>\n",
      "        <div class=\"col-md-3 value-card\">\n",
      "         <div class=\"value\">\n",
      "          <p class=\"txt-value\">\n",
      "           R$ 133.000\n",
      "          </p>\n",
      "         </div>\n",
      "        </div>\n",
      "       </div>\n",
      "       <div class=\"well card\">\n",
      "        <div class=\"col-md-3 image-card\">\n",
      "         <img alt=\"Foto\" height=\"155\" src=\"https://caelum-online-public.s3.amazonaws.com/1381-scraping/01/img-cars/lamborghini-murcielago/lamborghini-murcielago-2872974__340.jpg\" width=\"220\"/>\n",
      "        </div>\n",
      "        <div class=\"col-md-6 body-card\">\n",
      "         <p class=\"txt-name inline\">\n",
      "          LAMBORGHINI MURCIELAGO\n",
      "         </p>\n",
      "         <p class=\"txt-category badge badge-secondary inline\">\n",
      "          USADO\n",
      "         </p>\n",
      "         <p class=\"txt-motor\">\n",
      "          Motor 1.0 8v\n",
      "         </p>\n",
      "         <p class=\"txt-description\">\n",
      "          Ano 1991 - 464 km\n",
      "         </p>\n",
      "         <ul class=\"lst-items\">\n",
      "          <li class=\"txt-items\">\n",
      "           ► Central multimídia\n",
      "          </li>\n",
      "          <li class=\"txt-items\">\n",
      "           ► Teto panorâmico\n",
      "          </li>\n",
      "          <li class=\"txt-items\">\n",
      "           ► Sensor crepuscular\n",
      "          </li>\n",
      "          <li class=\"txt-items\">\n",
      "           ► Piloto automático\n",
      "          </li>\n",
      "          <li class=\"txt-items\">\n",
      "           ...\n",
      "          </li>\n",
      "         </ul>\n",
      "         <p class=\"txt-location\">\n",
      "          Belo Horizonte - MG\n",
      "         </p>\n",
      "        </div>\n",
      "        <div class=\"col-md-3 value-card\">\n",
      "         <div class=\"value\">\n",
      "          <p class=\"txt-value\">\n",
      "           R$ 175.000\n",
      "          </p>\n",
      "         </div>\n",
      "        </div>\n",
      "       </div>\n",
      "       <div class=\"well card\">\n",
      "        <div class=\"col-md-3 image-card\">\n",
      "         <img alt=\"Foto\" height=\"155\" src=\"https://caelum-online-public.s3.amazonaws.com/1381-scraping/01/img-cars/aston-martin/aston-martin-2977916__340.jpg\" width=\"220\"/>\n",
      "        </div>\n",
      "        <div class=\"col-md-6 body-card\">\n",
      "         <p class=\"txt-name inline\">\n",
      "          ASTON MARTIN\n",
      "         </p>\n",
      "         <p class=\"txt-category badge badge-secondary inline\">\n",
      "          USADO\n",
      "         </p>\n",
      "         <p class=\"txt-opportunity badge badge-danger inline\">\n",
      "          OPORTUNIDADE\n",
      "         </p>\n",
      "         <p class=\"txt-motor\">\n",
      "          Motor Diesel V6\n",
      "         </p>\n",
      "         <p class=\"txt-description\">\n",
      "          Ano 2004 - 50.189 km\n",
      "         </p>\n",
      "         <ul class=\"lst-items\">\n",
      "          <li class=\"txt-items\">\n",
      "           ► Painel digital\n",
      "          </li>\n",
      "          <li class=\"txt-items\">\n",
      "           ► Controle de tração\n",
      "          </li>\n",
      "          <li class=\"txt-items\">\n",
      "           ► Teto panorâmico\n",
      "          </li>\n",
      "          <li class=\"txt-items\">\n",
      "           ► Central multimídia\n",
      "          </li>\n",
      "          <li class=\"txt-items\">\n",
      "           ...\n",
      "          </li>\n",
      "         </ul>\n",
      "         <p class=\"txt-location\">\n",
      "          Belo Horizonte - MG\n",
      "         </p>\n",
      "        </div>\n",
      "        <div class=\"col-md-3 value-card\">\n",
      "         <div class=\"value\">\n",
      "          <p class=\"txt-value\">\n",
      "           R$ 239.000\n",
      "          </p>\n",
      "         </div>\n",
      "        </div>\n",
      "       </div>\n",
      "       <div class=\"well card\">\n",
      "        <div class=\"col-md-3 image-card\">\n",
      "         <img alt=\"Foto\" height=\"155\" src=\"https://caelum-online-public.s3.amazonaws.com/1381-scraping/01/img-cars/tvr/tvr-2943925__340.jpg\" width=\"220\"/>\n",
      "        </div>\n",
      "        <div class=\"col-md-6 body-card\">\n",
      "         <p class=\"txt-name inline\">\n",
      "          TVR\n",
      "         </p>\n",
      "         <p class=\"txt-category badge badge-secondary inline\">\n",
      "          USADO\n",
      "         </p>\n",
      "         <p class=\"txt-motor\">\n",
      "          Motor 4.0 Turbo\n",
      "         </p>\n",
      "         <p class=\"txt-description\">\n",
      "          Ano 2014 - 17.778 km\n",
      "         </p>\n",
      "         <ul class=\"lst-items\">\n",
      "          <li class=\"txt-items\">\n",
      "           ► 4 X 4\n",
      "          </li>\n",
      "          <li class=\"txt-items\">\n",
      "           ► Teto panorâmico\n",
      "          </li>\n",
      "          <li class=\"txt-items\">\n",
      "           ► Central multimídia\n",
      "          </li>\n",
      "          <li class=\"txt-items\">\n",
      "           ► Controle de estabilidade\n",
      "          </li>\n",
      "          <li class=\"txt-items\">\n",
      "           ...\n",
      "          </li>\n",
      "         </ul>\n",
      "         <p class=\"txt-location\">\n",
      "          Belo Horizonte - MG\n",
      "         </p>\n",
      "        </div>\n",
      "        <div class=\"col-md-3 value-card\">\n",
      "         <div class=\"value\">\n",
      "          <p class=\"txt-value\">\n",
      "           R$ 115.000\n",
      "          </p>\n",
      "         </div>\n",
      "        </div>\n",
      "       </div>\n",
      "       <div class=\"well card\">\n",
      "        <div class=\"col-md-3 image-card\">\n",
      "         <img alt=\"Foto\" height=\"155\" src=\"https://caelum-online-public.s3.amazonaws.com/1381-scraping/01/img-cars/excalibur/excalibur-2916730__340.jpg\" width=\"220\"/>\n",
      "        </div>\n",
      "        <div class=\"col-md-6 body-card\">\n",
      "         <p class=\"txt-name inline\">\n",
      "          EXCALIBUR\n",
      "         </p>\n",
      "         <p class=\"txt-category badge badge-secondary inline\">\n",
      "          USADO\n",
      "         </p>\n",
      "         <p class=\"txt-motor\">\n",
      "          Motor 3.0 32v\n",
      "         </p>\n",
      "         <p class=\"txt-description\">\n",
      "          Ano 2009 - 81.251 km\n",
      "         </p>\n",
      "         <ul class=\"lst-items\">\n",
      "          <li class=\"txt-items\">\n",
      "           ► Painel digital\n",
      "          </li>\n",
      "          <li class=\"txt-items\">\n",
      "           ► Câmbio automático\n",
      "          </li>\n",
      "          <li class=\"txt-items\">\n",
      "           ► Sensor de chuva\n",
      "          </li>\n",
      "          <li class=\"txt-items\">\n",
      "           ► Travas elétricas\n",
      "          </li>\n",
      "          <li class=\"txt-items\">\n",
      "           ...\n",
      "          </li>\n",
      "         </ul>\n",
      "         <p class=\"txt-location\">\n",
      "          Rio de Janeiro - RJ\n",
      "         </p>\n",
      "        </div>\n",
      "        <div class=\"col-md-3 value-card\">\n",
      "         <div class=\"value\">\n",
      "          <p class=\"txt-value\">\n",
      "           R$ 114.000\n",
      "          </p>\n",
      "         </div>\n",
      "        </div>\n",
      "       </div>\n",
      "       <div class=\"well card\">\n",
      "        <div class=\"col-md-3 image-card\">\n",
      "         <img alt=\"Foto\" height=\"155\" src=\"https://caelum-online-public.s3.amazonaws.com/1381-scraping/01/img-cars/mclaren/mclaren-2855240__340.jpg\" width=\"220\"/>\n",
      "        </div>\n",
      "        <div class=\"col-md-6 body-card\">\n",
      "         <p class=\"txt-name inline\">\n",
      "          MCLAREN\n",
      "         </p>\n",
      "         <p class=\"txt-category badge badge-secondary inline\">\n",
      "          NOVO\n",
      "         </p>\n",
      "         <p class=\"txt-motor\">\n",
      "          Motor Diesel\n",
      "         </p>\n",
      "         <p class=\"txt-description\">\n",
      "          Ano 2019 - 0 km\n",
      "         </p>\n",
      "         <ul class=\"lst-items\">\n",
      "          <li class=\"txt-items\">\n",
      "           ► Central multimídia\n",
      "          </li>\n",
      "          <li class=\"txt-items\">\n",
      "           ► Câmera de estacionamento\n",
      "          </li>\n",
      "          <li class=\"txt-items\">\n",
      "           ► Câmbio automático\n",
      "          </li>\n",
      "          <li class=\"txt-items\">\n",
      "           ► Ar condicionado\n",
      "          </li>\n",
      "          <li class=\"txt-items\">\n",
      "           ...\n",
      "          </li>\n",
      "         </ul>\n",
      "         <p class=\"txt-location\">\n",
      "          São Paulo - SP\n",
      "         </p>\n",
      "        </div>\n",
      "        <div class=\"col-md-3 value-card\">\n",
      "         <div class=\"value\">\n",
      "          <p class=\"txt-value\">\n",
      "           R$ 75.000\n",
      "          </p>\n",
      "         </div>\n",
      "        </div>\n",
      "       </div>\n",
      "       <div class=\"well card\">\n",
      "        <div class=\"col-md-3 image-card\">\n",
      "         <img alt=\"Foto\" height=\"155\" src=\"https://caelum-online-public.s3.amazonaws.com/1381-scraping/01/img-cars/toyota/toyota-3245397__340.jpg\" width=\"220\"/>\n",
      "        </div>\n",
      "        <div class=\"col-md-6 body-card\">\n",
      "         <p class=\"txt-name inline\">\n",
      "          TOYOTA\n",
      "         </p>\n",
      "         <p class=\"txt-category badge badge-secondary inline\">\n",
      "          USADO\n",
      "         </p>\n",
      "         <p class=\"txt-opportunity badge badge-danger inline\">\n",
      "          OPORTUNIDADE\n",
      "         </p>\n",
      "         <p class=\"txt-motor\">\n",
      "          Motor 4.0 Turbo\n",
      "         </p>\n",
      "         <p class=\"txt-description\">\n",
      "          Ano 1999 - 12.536 km\n",
      "         </p>\n",
      "         <ul class=\"lst-items\">\n",
      "          <li class=\"txt-items\">\n",
      "           ► Bancos de couro\n",
      "          </li>\n",
      "          <li class=\"txt-items\">\n",
      "           ► Freios ABS\n",
      "          </li>\n",
      "          <li class=\"txt-items\">\n",
      "           ► Piloto automático\n",
      "          </li>\n",
      "          <li class=\"txt-items\">\n",
      "           ► Controle de estabilidade\n",
      "          </li>\n",
      "          <li class=\"txt-items\">\n",
      "           ...\n",
      "          </li>\n",
      "         </ul>\n",
      "         <p class=\"txt-location\">\n",
      "          São Paulo - SP\n",
      "         </p>\n",
      "        </div>\n",
      "        <div class=\"col-md-3 value-card\">\n",
      "         <div class=\"value\">\n",
      "          <p class=\"txt-value\">\n",
      "           R$ 117.000\n",
      "          </p>\n",
      "         </div>\n",
      "        </div>\n",
      "       </div>\n",
      "      </div>\n",
      "      <div class=\"type-select\">\n",
      "       246 veículos encontrados\n",
      "      </div>\n",
      "      <div class=\"container-pagination\" style=\"float: right\">\n",
      "       <span class=\"info-pages\">\n",
      "        Página 1 de 25\n",
      "       </span>\n",
      "      </div>\n",
      "     </div>\n",
      "    </div>\n",
      "   </div>\n",
      "  </div>\n",
      " </body>\n",
      "</html>\n",
      "<footer>\n",
      " <nav class=\"navbar navbar-inverse\">\n",
      "  <div class=\"container\" style=\"margin-bottom: 10px;\">\n",
      "   <div class=\"navbar\">\n",
      "    <a class=\"navbar-brand\" href=\"./index.php\" title=\"Alura Motors\">\n",
      "     <img alt=\"Alura\" class=\"d-inline-block align-top\" src=\"img/alura-logo.svg\"/>\n",
      "     Motors\n",
      "    </a>\n",
      "    <p style=\"color: #fff; text-align: center; margin-top: 40px;\">\n",
      "     Aplicação para treinamento de web scraping\n",
      "    </p>\n",
      "   </div>\n",
      "  </div>\n",
      " </nav>\n",
      "</footer>\n"
     ]
    }
   ],
   "source": [
    "print(soup.prettify())"
   ]
  },
  {
   "cell_type": "markdown",
   "metadata": {},
   "source": [
    "# 3.3. Acessando tags"
   ]
  },
  {
   "cell_type": "code",
   "execution_count": 18,
   "metadata": {
    "scrolled": true
   },
   "outputs": [
    {
     "data": {
      "text/plain": [
       "<!DOCTYPE html>\n",
       "<html lang=\"pt-br\"><head><meta charset=\"utf-8\"/><meta content=\"width=device-width, initial-scale=1, shrink-to-fit=no\" name=\"viewport\"/><title>Alura Motors</title><style> /*Regra para a animacao*/ @keyframes spin { 0% { transform: rotate(0deg); } 100% { transform: rotate(360deg); } } /*Mudando o tamanho do icone de resposta*/ div.glyphicon { color:#6B8E23; font-size: 38px; } /*Classe que mostra a animacao 'spin'*/ .loader { border: 16px solid #f3f3f3; border-radius: 50%; border-top: 16px solid #3498db; width: 80px; height: 80px; -webkit-animation: spin 2s linear infinite; animation: spin 2s linear infinite; } </style><link crossorigin=\"anonymous\" href=\"https://maxcdn.bootstrapcdn.com/bootstrap/3.3.7/css/bootstrap.min.css\" integrity=\"sha384-BVYiiSIFeK1dGmJRAkycuHAHRg32OmUcww7on3RYdg4Va+PmSTsz/K68vbdEjh4u\" rel=\"stylesheet\"/><link href=\"css/styles.css\" media=\"all\" rel=\"stylesheet\"/><script src=\"https://code.jquery.com/jquery-1.12.4.js\"></script><script crossorigin=\"anonymous\" integrity=\"sha384-Tc5IQib027qvyjSMfHjOMaLkfuWVxZxUPnCJA7l2mCWNIpG9mGCD8wGNIcPD7Txa\" src=\"https://maxcdn.bootstrapcdn.com/bootstrap/3.3.7/js/bootstrap.min.js\"></script><script src=\"js/index.js\" type=\"text/javascript\"></script><script> requisitar(\"https://alura-scraping.herokuapp.com/produtos?_page=\"+1+\"&_limit=10\") </script></head><body cz-shortcut-listen=\"true\"><noscript>You need to enable JavaScript to run this app.</noscript><div aria-labelledby=\"loadingModal_label\" class=\"modal fade\" data-backdrop=\"static\" id=\"loadingModal\" role=\"dialog\" tabindex=\"-1\"><div class=\"modal-dialog\" role=\"document\"><div class=\"modal-content\"><div class=\"modal-header\"><h5 class=\"modal-title\" id=\"loadingModal_label\"><span class=\"glyphicon glyphicon-refresh\"></span>Aguarde... </h5></div><div class=\"modal-body\"><div class=\"alert\" role=\"alert\"><center><div class=\"loader\" id=\"loader\"></div><br/><h4><b id=\"loadingModal_content\"></b></h4></center></div></div></div></div></div><div id=\"root\"><header><nav class=\"navbar navbar-inverse\" style=\"margin-bottom: 0;\"><div class=\"container\" style=\"margin-bottom: -20px;\"><div class=\"navbar\"><a class=\"navbar-brand\" href=\"./index.php\" title=\"Alura Motors\"><img alt=\"Alura\" class=\"d-inline-block align-top\" src=\"img/alura-logo.svg\"/>Motors </a><ul class=\"nav navbar-nav\" style=\"margin-top: 35px;\"><li><a href=\"./hello-world.php\">Hello World</a></li><li><a href=\"./index.php\">Anúncios</a></li></ul></div></div></nav></header><div class=\"container\"><h1 class=\"sub-header\">Veículos de Luxo Novos e Usados - Todas as Marcas</h1><div class=\"row\"><div class=\"col-md-12\"><div class=\"container\" style=\"width: 100%\"><div class=\"type-select\">246 veículos encontrados</div><div class=\"container-pagination\" style=\"float: right\"><span class=\"info-pages\">Página 1 de 25</span></div></div><div id=\"container-cards\" style=\"height: 100%\"><div class=\"well card\"><div class=\"col-md-3 image-card\"><img alt=\"Foto\" height=\"155\" src=\"https://caelum-online-public.s3.amazonaws.com/1381-scraping/01/img-cars/lamborghini-aventador/lamborghini-aventador-2932196__340.jpg\" width=\"220\"/></div><div class=\"col-md-6 body-card\"><p class=\"txt-name inline\">LAMBORGHINI AVENTADOR</p><p class=\"txt-category badge badge-secondary inline\">USADO</p><p class=\"txt-motor\">Motor 1.8 16v</p><p class=\"txt-description\">Ano 1993 - 55.286 km</p><ul class=\"lst-items\"><li class=\"txt-items\">► 4 X 4</li><li class=\"txt-items\">► Câmera de estacionamento</li><li class=\"txt-items\">► Controle de tração</li><li class=\"txt-items\">► Sensor de estacionamento</li><li class=\"txt-items\">...</li></ul><p class=\"txt-location\">Belo Horizonte - MG</p></div><div class=\"col-md-3 value-card\"><div class=\"value\"><p class=\"txt-value\">R$ 338.000</p></div></div></div><div class=\"well card\"><div class=\"col-md-3 image-card\"><img alt=\"Foto\" height=\"155\" src=\"https://caelum-online-public.s3.amazonaws.com/1381-scraping/01/img-cars/bmw-m2/bmw-m2-2970882__340.jpg\" width=\"220\"/></div><div class=\"col-md-6 body-card\"><p class=\"txt-name inline\">BMW M2</p><p class=\"txt-category badge badge-secondary inline\">USADO</p><p class=\"txt-motor\">Motor 3.0 32v</p><p class=\"txt-description\">Ano 2018 - 83.447 km</p><ul class=\"lst-items\"><li class=\"txt-items\">► Câmera de estacionamento</li><li class=\"txt-items\">► Controle de estabilidade</li><li class=\"txt-items\">► Travas elétricas</li><li class=\"txt-items\">► Freios ABS</li><li class=\"txt-items\">...</li></ul><p class=\"txt-location\">Belo Horizonte - MG</p></div><div class=\"col-md-3 value-card\"><div class=\"value\"><p class=\"txt-value\">R$ 346.000</p></div></div></div><div class=\"well card\"><div class=\"col-md-3 image-card\"><img alt=\"Foto\" height=\"155\" src=\"https://caelum-online-public.s3.amazonaws.com/1381-scraping/01/img-cars/alfa/alfa-1823056__340.jpg\" width=\"220\"/></div><div class=\"col-md-6 body-card\"><p class=\"txt-name inline\">ALFA</p><p class=\"txt-category badge badge-secondary inline\">USADO</p><p class=\"txt-motor\">Motor 1.8 16v</p><p class=\"txt-description\">Ano 2004 - 19.722 km</p><ul class=\"lst-items\"><li class=\"txt-items\">► Central multimídia</li><li class=\"txt-items\">► Bancos de couro</li><li class=\"txt-items\">► Rodas de liga</li><li class=\"txt-items\">► Câmera de estacionamento</li><li class=\"txt-items\">...</li></ul><p class=\"txt-location\">Rio de Janeiro - RJ</p></div><div class=\"col-md-3 value-card\"><div class=\"value\"><p class=\"txt-value\">R$ 480.000</p></div></div></div><div class=\"well card\"><div class=\"col-md-3 image-card\"><img alt=\"Foto\" height=\"155\" src=\"https://caelum-online-public.s3.amazonaws.com/1381-scraping/01/img-cars/puech/puech-4055386__340.jpg\" width=\"220\"/></div><div class=\"col-md-6 body-card\"><p class=\"txt-name inline\">PUECH</p><p class=\"txt-category badge badge-secondary inline\">USADO</p><p class=\"txt-motor\">Motor Diesel V8</p><p class=\"txt-description\">Ano 1992 - 34.335 km</p><ul class=\"lst-items\"><li class=\"txt-items\">► Bancos de couro</li><li class=\"txt-items\">► Freios ABS</li><li class=\"txt-items\">► Rodas de liga</li><li class=\"txt-items\">► Câmbio automático</li><li class=\"txt-items\">...</li></ul><p class=\"txt-location\">São Paulo - SP</p></div><div class=\"col-md-3 value-card\"><div class=\"value\"><p class=\"txt-value\">R$ 133.000</p></div></div></div><div class=\"well card\"><div class=\"col-md-3 image-card\"><img alt=\"Foto\" height=\"155\" src=\"https://caelum-online-public.s3.amazonaws.com/1381-scraping/01/img-cars/lamborghini-murcielago/lamborghini-murcielago-2872974__340.jpg\" width=\"220\"/></div><div class=\"col-md-6 body-card\"><p class=\"txt-name inline\">LAMBORGHINI MURCIELAGO</p><p class=\"txt-category badge badge-secondary inline\">USADO</p><p class=\"txt-motor\">Motor 1.0 8v</p><p class=\"txt-description\">Ano 1991 - 464 km</p><ul class=\"lst-items\"><li class=\"txt-items\">► Central multimídia</li><li class=\"txt-items\">► Teto panorâmico</li><li class=\"txt-items\">► Sensor crepuscular</li><li class=\"txt-items\">► Piloto automático</li><li class=\"txt-items\">...</li></ul><p class=\"txt-location\">Belo Horizonte - MG</p></div><div class=\"col-md-3 value-card\"><div class=\"value\"><p class=\"txt-value\">R$ 175.000</p></div></div></div><div class=\"well card\"><div class=\"col-md-3 image-card\"><img alt=\"Foto\" height=\"155\" src=\"https://caelum-online-public.s3.amazonaws.com/1381-scraping/01/img-cars/aston-martin/aston-martin-2977916__340.jpg\" width=\"220\"/></div><div class=\"col-md-6 body-card\"><p class=\"txt-name inline\">ASTON MARTIN</p><p class=\"txt-category badge badge-secondary inline\">USADO</p><p class=\"txt-opportunity badge badge-danger inline\">OPORTUNIDADE</p><p class=\"txt-motor\">Motor Diesel V6</p><p class=\"txt-description\">Ano 2004 - 50.189 km</p><ul class=\"lst-items\"><li class=\"txt-items\">► Painel digital</li><li class=\"txt-items\">► Controle de tração</li><li class=\"txt-items\">► Teto panorâmico</li><li class=\"txt-items\">► Central multimídia</li><li class=\"txt-items\">...</li></ul><p class=\"txt-location\">Belo Horizonte - MG</p></div><div class=\"col-md-3 value-card\"><div class=\"value\"><p class=\"txt-value\">R$ 239.000</p></div></div></div><div class=\"well card\"><div class=\"col-md-3 image-card\"><img alt=\"Foto\" height=\"155\" src=\"https://caelum-online-public.s3.amazonaws.com/1381-scraping/01/img-cars/tvr/tvr-2943925__340.jpg\" width=\"220\"/></div><div class=\"col-md-6 body-card\"><p class=\"txt-name inline\">TVR</p><p class=\"txt-category badge badge-secondary inline\">USADO</p><p class=\"txt-motor\">Motor 4.0 Turbo</p><p class=\"txt-description\">Ano 2014 - 17.778 km</p><ul class=\"lst-items\"><li class=\"txt-items\">► 4 X 4</li><li class=\"txt-items\">► Teto panorâmico</li><li class=\"txt-items\">► Central multimídia</li><li class=\"txt-items\">► Controle de estabilidade</li><li class=\"txt-items\">...</li></ul><p class=\"txt-location\">Belo Horizonte - MG</p></div><div class=\"col-md-3 value-card\"><div class=\"value\"><p class=\"txt-value\">R$ 115.000</p></div></div></div><div class=\"well card\"><div class=\"col-md-3 image-card\"><img alt=\"Foto\" height=\"155\" src=\"https://caelum-online-public.s3.amazonaws.com/1381-scraping/01/img-cars/excalibur/excalibur-2916730__340.jpg\" width=\"220\"/></div><div class=\"col-md-6 body-card\"><p class=\"txt-name inline\">EXCALIBUR</p><p class=\"txt-category badge badge-secondary inline\">USADO</p><p class=\"txt-motor\">Motor 3.0 32v</p><p class=\"txt-description\">Ano 2009 - 81.251 km</p><ul class=\"lst-items\"><li class=\"txt-items\">► Painel digital</li><li class=\"txt-items\">► Câmbio automático</li><li class=\"txt-items\">► Sensor de chuva</li><li class=\"txt-items\">► Travas elétricas</li><li class=\"txt-items\">...</li></ul><p class=\"txt-location\">Rio de Janeiro - RJ</p></div><div class=\"col-md-3 value-card\"><div class=\"value\"><p class=\"txt-value\">R$ 114.000</p></div></div></div><div class=\"well card\"><div class=\"col-md-3 image-card\"><img alt=\"Foto\" height=\"155\" src=\"https://caelum-online-public.s3.amazonaws.com/1381-scraping/01/img-cars/mclaren/mclaren-2855240__340.jpg\" width=\"220\"/></div><div class=\"col-md-6 body-card\"><p class=\"txt-name inline\">MCLAREN</p><p class=\"txt-category badge badge-secondary inline\">NOVO</p><p class=\"txt-motor\">Motor Diesel</p><p class=\"txt-description\">Ano 2019 - 0 km</p><ul class=\"lst-items\"><li class=\"txt-items\">► Central multimídia</li><li class=\"txt-items\">► Câmera de estacionamento</li><li class=\"txt-items\">► Câmbio automático</li><li class=\"txt-items\">► Ar condicionado</li><li class=\"txt-items\">...</li></ul><p class=\"txt-location\">São Paulo - SP</p></div><div class=\"col-md-3 value-card\"><div class=\"value\"><p class=\"txt-value\">R$ 75.000</p></div></div></div><div class=\"well card\"><div class=\"col-md-3 image-card\"><img alt=\"Foto\" height=\"155\" src=\"https://caelum-online-public.s3.amazonaws.com/1381-scraping/01/img-cars/toyota/toyota-3245397__340.jpg\" width=\"220\"/></div><div class=\"col-md-6 body-card\"><p class=\"txt-name inline\">TOYOTA</p><p class=\"txt-category badge badge-secondary inline\">USADO</p><p class=\"txt-opportunity badge badge-danger inline\">OPORTUNIDADE</p><p class=\"txt-motor\">Motor 4.0 Turbo</p><p class=\"txt-description\">Ano 1999 - 12.536 km</p><ul class=\"lst-items\"><li class=\"txt-items\">► Bancos de couro</li><li class=\"txt-items\">► Freios ABS</li><li class=\"txt-items\">► Piloto automático</li><li class=\"txt-items\">► Controle de estabilidade</li><li class=\"txt-items\">...</li></ul><p class=\"txt-location\">São Paulo - SP</p></div><div class=\"col-md-3 value-card\"><div class=\"value\"><p class=\"txt-value\">R$ 117.000</p></div></div></div></div><div class=\"type-select\">246 veículos encontrados</div><div class=\"container-pagination\" style=\"float: right\"><span class=\"info-pages\">Página 1 de 25</span></div></div></div></div></div></body></html><footer><nav class=\"navbar navbar-inverse\"><div class=\"container\" style=\"margin-bottom: 10px;\"><div class=\"navbar\"><a class=\"navbar-brand\" href=\"./index.php\" title=\"Alura Motors\"><img alt=\"Alura\" class=\"d-inline-block align-top\" src=\"img/alura-logo.svg\"/>Motors </a><p style=\"color: #fff; text-align: center; margin-top: 40px;\">Aplicação para treinamento de web scraping</p></div></div></nav></footer>"
      ]
     },
     "execution_count": 18,
     "metadata": {},
     "output_type": "execute_result"
    }
   ],
   "source": [
    "soup"
   ]
  },
  {
   "cell_type": "code",
   "execution_count": 19,
   "metadata": {
    "scrolled": true
   },
   "outputs": [
    {
     "data": {
      "text/plain": [
       "<title>Alura Motors</title>"
      ]
     },
     "execution_count": 19,
     "metadata": {},
     "output_type": "execute_result"
    }
   ],
   "source": [
    "soup.html.head.title"
   ]
  },
  {
   "cell_type": "code",
   "execution_count": 20,
   "metadata": {},
   "outputs": [
    {
     "data": {
      "text/plain": [
       "<h5 class=\"modal-title\" id=\"loadingModal_label\"><span class=\"glyphicon glyphicon-refresh\"></span>Aguarde... </h5>"
      ]
     },
     "execution_count": 20,
     "metadata": {},
     "output_type": "execute_result"
    }
   ],
   "source": [
    "soup.div.div.div.div.h5"
   ]
  },
  {
   "cell_type": "code",
   "execution_count": 21,
   "metadata": {},
   "outputs": [
    {
     "data": {
      "text/plain": [
       "<h5 class=\"modal-title\" id=\"loadingModal_label\"><span class=\"glyphicon glyphicon-refresh\"></span>Aguarde... </h5>"
      ]
     },
     "execution_count": 21,
     "metadata": {},
     "output_type": "execute_result"
    }
   ],
   "source": [
    "soup.h5"
   ]
  },
  {
   "cell_type": "code",
   "execution_count": 22,
   "metadata": {},
   "outputs": [
    {
     "data": {
      "text/plain": [
       "<title>Alura Motors</title>"
      ]
     },
     "execution_count": 22,
     "metadata": {},
     "output_type": "execute_result"
    }
   ],
   "source": [
    "soup.title"
   ]
  },
  {
   "cell_type": "markdown",
   "metadata": {},
   "source": [
    "# 3.4. Acessando o conteúdo das tags"
   ]
  },
  {
   "cell_type": "code",
   "execution_count": 23,
   "metadata": {},
   "outputs": [
    {
     "data": {
      "text/plain": [
       "<title>Alura Motors</title>"
      ]
     },
     "execution_count": 23,
     "metadata": {},
     "output_type": "execute_result"
    }
   ],
   "source": [
    "soup.html.head.title"
   ]
  },
  {
   "cell_type": "code",
   "execution_count": 24,
   "metadata": {},
   "outputs": [
    {
     "data": {
      "text/plain": [
       "<title>Alura Motors</title>"
      ]
     },
     "execution_count": 24,
     "metadata": {},
     "output_type": "execute_result"
    }
   ],
   "source": [
    "soup.title"
   ]
  },
  {
   "cell_type": "code",
   "execution_count": 25,
   "metadata": {},
   "outputs": [
    {
     "data": {
      "text/plain": [
       "'Alura Motors'"
      ]
     },
     "execution_count": 25,
     "metadata": {},
     "output_type": "execute_result"
    }
   ],
   "source": [
    "soup.title.get_text()"
   ]
  },
  {
   "cell_type": "code",
   "execution_count": 26,
   "metadata": {},
   "outputs": [
    {
     "data": {
      "text/plain": [
       "'Aguarde... '"
      ]
     },
     "execution_count": 26,
     "metadata": {},
     "output_type": "execute_result"
    }
   ],
   "source": [
    "soup.h5.get_text()"
   ]
  },
  {
   "cell_type": "code",
   "execution_count": 27,
   "metadata": {
    "scrolled": true
   },
   "outputs": [
    {
     "data": {
      "text/plain": [
       "'LAMBORGHINI AVENTADOR'"
      ]
     },
     "execution_count": 27,
     "metadata": {},
     "output_type": "execute_result"
    }
   ],
   "source": [
    "soup.p.get_text(strip=True,separator=' 777 ')"
   ]
  },
  {
   "cell_type": "markdown",
   "metadata": {},
   "source": [
    "# 3.5. Acessando os atributos de uma tag"
   ]
  },
  {
   "cell_type": "code",
   "execution_count": 28,
   "metadata": {},
   "outputs": [
    {
     "data": {
      "text/plain": [
       "<img alt=\"Alura\" class=\"d-inline-block align-top\" src=\"img/alura-logo.svg\"/>"
      ]
     },
     "execution_count": 28,
     "metadata": {},
     "output_type": "execute_result"
    }
   ],
   "source": [
    "soup.img "
   ]
  },
  {
   "cell_type": "code",
   "execution_count": 29,
   "metadata": {},
   "outputs": [
    {
     "data": {
      "text/plain": [
       "{'src': 'img/alura-logo.svg',\n",
       " 'class': ['d-inline-block', 'align-top'],\n",
       " 'alt': 'Alura'}"
      ]
     },
     "execution_count": 29,
     "metadata": {},
     "output_type": "execute_result"
    }
   ],
   "source": [
    "soup.img.attrs"
   ]
  },
  {
   "cell_type": "code",
   "execution_count": 30,
   "metadata": {},
   "outputs": [
    {
     "data": {
      "text/plain": [
       "dict_keys(['src', 'class', 'alt'])"
      ]
     },
     "execution_count": 30,
     "metadata": {},
     "output_type": "execute_result"
    }
   ],
   "source": [
    "soup.img.attrs.keys()"
   ]
  },
  {
   "cell_type": "code",
   "execution_count": 31,
   "metadata": {},
   "outputs": [
    {
     "data": {
      "text/plain": [
       "dict_values(['img/alura-logo.svg', ['d-inline-block', 'align-top'], 'Alura'])"
      ]
     },
     "execution_count": 31,
     "metadata": {},
     "output_type": "execute_result"
    }
   ],
   "source": [
    "soup.img.attrs.values()"
   ]
  },
  {
   "cell_type": "code",
   "execution_count": 32,
   "metadata": {},
   "outputs": [
    {
     "data": {
      "text/plain": [
       "['d-inline-block', 'align-top']"
      ]
     },
     "execution_count": 32,
     "metadata": {},
     "output_type": "execute_result"
    }
   ],
   "source": [
    "soup.img['class']"
   ]
  },
  {
   "cell_type": "code",
   "execution_count": 33,
   "metadata": {},
   "outputs": [
    {
     "data": {
      "text/plain": [
       "'img/alura-logo.svg'"
      ]
     },
     "execution_count": 33,
     "metadata": {},
     "output_type": "execute_result"
    }
   ],
   "source": [
    "soup.img.get('src')"
   ]
  },
  {
   "cell_type": "markdown",
   "metadata": {},
   "source": [
    "---\n",
    "# <font color=green>4. PESQUISANDO COM O BEAUTIFULSOUP"
   ]
  },
  {
   "cell_type": "markdown",
   "metadata": {},
   "source": [
    "# 4.1. Os métodos *find()* e *findAll()*"
   ]
  },
  {
   "cell_type": "markdown",
   "metadata": {},
   "source": [
    "- ### *find(tag, attributes, recursive, text, **kwargs)*\n",
    "\n",
    "- ### *findAll(tag, attributes, recursive, text, limit, **kwargs)*\n",
    "\n",
    "#### https://www.crummy.com/software/BeautifulSoup/bs4/doc/#find\n",
    "#### https://www.crummy.com/software/BeautifulSoup/bs4/doc/#find-all\n",
    "\n",
    "> **Observação:**\n",
    "> - *findAll()* também pode ser utilizado como *find_all()*"
   ]
  },
  {
   "cell_type": "markdown",
   "metadata": {},
   "source": [
    "### Método *find()*"
   ]
  },
  {
   "cell_type": "code",
   "execution_count": 34,
   "metadata": {},
   "outputs": [
    {
     "data": {
      "text/plain": [
       "<img alt=\"Alura\" class=\"d-inline-block align-top\" src=\"img/alura-logo.svg\"/>"
      ]
     },
     "execution_count": 34,
     "metadata": {},
     "output_type": "execute_result"
    }
   ],
   "source": [
    "soup.find('img')"
   ]
  },
  {
   "cell_type": "code",
   "execution_count": 35,
   "metadata": {},
   "outputs": [
    {
     "data": {
      "text/plain": [
       "<img alt=\"Alura\" class=\"d-inline-block align-top\" src=\"img/alura-logo.svg\"/>"
      ]
     },
     "execution_count": 35,
     "metadata": {},
     "output_type": "execute_result"
    }
   ],
   "source": [
    "soup.img"
   ]
  },
  {
   "cell_type": "markdown",
   "metadata": {},
   "source": [
    "### Método *findAll()*"
   ]
  },
  {
   "cell_type": "code",
   "execution_count": 36,
   "metadata": {},
   "outputs": [
    {
     "data": {
      "text/plain": [
       "[<img alt=\"Alura\" class=\"d-inline-block align-top\" src=\"img/alura-logo.svg\"/>,\n",
       " <img alt=\"Foto\" height=\"155\" src=\"https://caelum-online-public.s3.amazonaws.com/1381-scraping/01/img-cars/lamborghini-aventador/lamborghini-aventador-2932196__340.jpg\" width=\"220\"/>,\n",
       " <img alt=\"Foto\" height=\"155\" src=\"https://caelum-online-public.s3.amazonaws.com/1381-scraping/01/img-cars/bmw-m2/bmw-m2-2970882__340.jpg\" width=\"220\"/>,\n",
       " <img alt=\"Foto\" height=\"155\" src=\"https://caelum-online-public.s3.amazonaws.com/1381-scraping/01/img-cars/alfa/alfa-1823056__340.jpg\" width=\"220\"/>,\n",
       " <img alt=\"Foto\" height=\"155\" src=\"https://caelum-online-public.s3.amazonaws.com/1381-scraping/01/img-cars/puech/puech-4055386__340.jpg\" width=\"220\"/>,\n",
       " <img alt=\"Foto\" height=\"155\" src=\"https://caelum-online-public.s3.amazonaws.com/1381-scraping/01/img-cars/lamborghini-murcielago/lamborghini-murcielago-2872974__340.jpg\" width=\"220\"/>,\n",
       " <img alt=\"Foto\" height=\"155\" src=\"https://caelum-online-public.s3.amazonaws.com/1381-scraping/01/img-cars/aston-martin/aston-martin-2977916__340.jpg\" width=\"220\"/>,\n",
       " <img alt=\"Foto\" height=\"155\" src=\"https://caelum-online-public.s3.amazonaws.com/1381-scraping/01/img-cars/tvr/tvr-2943925__340.jpg\" width=\"220\"/>,\n",
       " <img alt=\"Foto\" height=\"155\" src=\"https://caelum-online-public.s3.amazonaws.com/1381-scraping/01/img-cars/excalibur/excalibur-2916730__340.jpg\" width=\"220\"/>,\n",
       " <img alt=\"Foto\" height=\"155\" src=\"https://caelum-online-public.s3.amazonaws.com/1381-scraping/01/img-cars/mclaren/mclaren-2855240__340.jpg\" width=\"220\"/>,\n",
       " <img alt=\"Foto\" height=\"155\" src=\"https://caelum-online-public.s3.amazonaws.com/1381-scraping/01/img-cars/toyota/toyota-3245397__340.jpg\" width=\"220\"/>,\n",
       " <img alt=\"Alura\" class=\"d-inline-block align-top\" src=\"img/alura-logo.svg\"/>]"
      ]
     },
     "execution_count": 36,
     "metadata": {},
     "output_type": "execute_result"
    }
   ],
   "source": [
    "soup.findAll('img')"
   ]
  },
  {
   "cell_type": "markdown",
   "metadata": {},
   "source": [
    "### Comando equivalente ao método *find()*"
   ]
  },
  {
   "cell_type": "code",
   "execution_count": 37,
   "metadata": {},
   "outputs": [
    {
     "data": {
      "text/plain": [
       "[<img alt=\"Alura\" class=\"d-inline-block align-top\" src=\"img/alura-logo.svg\"/>,\n",
       " <img alt=\"Foto\" height=\"155\" src=\"https://caelum-online-public.s3.amazonaws.com/1381-scraping/01/img-cars/lamborghini-aventador/lamborghini-aventador-2932196__340.jpg\" width=\"220\"/>]"
      ]
     },
     "execution_count": 37,
     "metadata": {},
     "output_type": "execute_result"
    }
   ],
   "source": [
    "soup.findAll('img',limit=2)"
   ]
  },
  {
   "cell_type": "markdown",
   "metadata": {},
   "source": [
    "### Atalho para o método *findAll()*"
   ]
  },
  {
   "cell_type": "code",
   "execution_count": 38,
   "metadata": {},
   "outputs": [
    {
     "data": {
      "text/plain": [
       "[<img alt=\"Alura\" class=\"d-inline-block align-top\" src=\"img/alura-logo.svg\"/>,\n",
       " <img alt=\"Foto\" height=\"155\" src=\"https://caelum-online-public.s3.amazonaws.com/1381-scraping/01/img-cars/lamborghini-aventador/lamborghini-aventador-2932196__340.jpg\" width=\"220\"/>,\n",
       " <img alt=\"Foto\" height=\"155\" src=\"https://caelum-online-public.s3.amazonaws.com/1381-scraping/01/img-cars/bmw-m2/bmw-m2-2970882__340.jpg\" width=\"220\"/>,\n",
       " <img alt=\"Foto\" height=\"155\" src=\"https://caelum-online-public.s3.amazonaws.com/1381-scraping/01/img-cars/alfa/alfa-1823056__340.jpg\" width=\"220\"/>,\n",
       " <img alt=\"Foto\" height=\"155\" src=\"https://caelum-online-public.s3.amazonaws.com/1381-scraping/01/img-cars/puech/puech-4055386__340.jpg\" width=\"220\"/>,\n",
       " <img alt=\"Foto\" height=\"155\" src=\"https://caelum-online-public.s3.amazonaws.com/1381-scraping/01/img-cars/lamborghini-murcielago/lamborghini-murcielago-2872974__340.jpg\" width=\"220\"/>,\n",
       " <img alt=\"Foto\" height=\"155\" src=\"https://caelum-online-public.s3.amazonaws.com/1381-scraping/01/img-cars/aston-martin/aston-martin-2977916__340.jpg\" width=\"220\"/>,\n",
       " <img alt=\"Foto\" height=\"155\" src=\"https://caelum-online-public.s3.amazonaws.com/1381-scraping/01/img-cars/tvr/tvr-2943925__340.jpg\" width=\"220\"/>,\n",
       " <img alt=\"Foto\" height=\"155\" src=\"https://caelum-online-public.s3.amazonaws.com/1381-scraping/01/img-cars/excalibur/excalibur-2916730__340.jpg\" width=\"220\"/>,\n",
       " <img alt=\"Foto\" height=\"155\" src=\"https://caelum-online-public.s3.amazonaws.com/1381-scraping/01/img-cars/mclaren/mclaren-2855240__340.jpg\" width=\"220\"/>,\n",
       " <img alt=\"Foto\" height=\"155\" src=\"https://caelum-online-public.s3.amazonaws.com/1381-scraping/01/img-cars/toyota/toyota-3245397__340.jpg\" width=\"220\"/>,\n",
       " <img alt=\"Alura\" class=\"d-inline-block align-top\" src=\"img/alura-logo.svg\"/>]"
      ]
     },
     "execution_count": 38,
     "metadata": {},
     "output_type": "execute_result"
    }
   ],
   "source": [
    "soup('img')"
   ]
  },
  {
   "cell_type": "markdown",
   "metadata": {},
   "source": [
    "### Passando listas de TAGs"
   ]
  },
  {
   "cell_type": "code",
   "execution_count": 39,
   "metadata": {},
   "outputs": [
    {
     "data": {
      "text/plain": [
       "[<h5 class=\"modal-title\" id=\"loadingModal_label\"><span class=\"glyphicon glyphicon-refresh\"></span>Aguarde... </h5>,\n",
       " <h4><b id=\"loadingModal_content\"></b></h4>,\n",
       " <h1 class=\"sub-header\">Veículos de Luxo Novos e Usados - Todas as Marcas</h1>]"
      ]
     },
     "execution_count": 39,
     "metadata": {},
     "output_type": "execute_result"
    }
   ],
   "source": [
    "soup.findAll(['h1','h2','h3','h4','h5','h6'])"
   ]
  },
  {
   "cell_type": "markdown",
   "metadata": {},
   "source": [
    "### Utilizando o argumento *attributes*"
   ]
  },
  {
   "cell_type": "code",
   "execution_count": 40,
   "metadata": {
    "scrolled": true
   },
   "outputs": [
    {
     "data": {
      "text/plain": [
       "[<p class=\"txt-value\">R$ 338.000</p>,\n",
       " <p class=\"txt-value\">R$ 346.000</p>,\n",
       " <p class=\"txt-value\">R$ 480.000</p>,\n",
       " <p class=\"txt-value\">R$ 133.000</p>,\n",
       " <p class=\"txt-value\">R$ 175.000</p>,\n",
       " <p class=\"txt-value\">R$ 239.000</p>,\n",
       " <p class=\"txt-value\">R$ 115.000</p>,\n",
       " <p class=\"txt-value\">R$ 114.000</p>,\n",
       " <p class=\"txt-value\">R$ 75.000</p>,\n",
       " <p class=\"txt-value\">R$ 117.000</p>]"
      ]
     },
     "execution_count": 40,
     "metadata": {},
     "output_type": "execute_result"
    }
   ],
   "source": [
    "soup.findAll('p', {'class' : 'txt-value'})"
   ]
  },
  {
   "cell_type": "markdown",
   "metadata": {},
   "source": [
    "### Buscando por conteúdo de uma TAG"
   ]
  },
  {
   "cell_type": "code",
   "execution_count": 41,
   "metadata": {},
   "outputs": [
    {
     "data": {
      "text/plain": [
       "[<p class=\"txt-location\">Belo Horizonte - MG</p>,\n",
       " <p class=\"txt-location\">Belo Horizonte - MG</p>,\n",
       " <p class=\"txt-location\">Belo Horizonte - MG</p>,\n",
       " <p class=\"txt-location\">Belo Horizonte - MG</p>,\n",
       " <p class=\"txt-location\">Belo Horizonte - MG</p>]"
      ]
     },
     "execution_count": 41,
     "metadata": {},
     "output_type": "execute_result"
    }
   ],
   "source": [
    "soup.findAll('p', text='Belo Horizonte - MG')"
   ]
  },
  {
   "cell_type": "markdown",
   "metadata": {},
   "source": [
    "### Utilizando diretamente os atributos"
   ]
  },
  {
   "cell_type": "code",
   "execution_count": 42,
   "metadata": {},
   "outputs": [
    {
     "data": {
      "text/plain": [
       "[<img alt=\"Foto\" height=\"155\" src=\"https://caelum-online-public.s3.amazonaws.com/1381-scraping/01/img-cars/lamborghini-aventador/lamborghini-aventador-2932196__340.jpg\" width=\"220\"/>,\n",
       " <img alt=\"Foto\" height=\"155\" src=\"https://caelum-online-public.s3.amazonaws.com/1381-scraping/01/img-cars/bmw-m2/bmw-m2-2970882__340.jpg\" width=\"220\"/>,\n",
       " <img alt=\"Foto\" height=\"155\" src=\"https://caelum-online-public.s3.amazonaws.com/1381-scraping/01/img-cars/alfa/alfa-1823056__340.jpg\" width=\"220\"/>,\n",
       " <img alt=\"Foto\" height=\"155\" src=\"https://caelum-online-public.s3.amazonaws.com/1381-scraping/01/img-cars/puech/puech-4055386__340.jpg\" width=\"220\"/>,\n",
       " <img alt=\"Foto\" height=\"155\" src=\"https://caelum-online-public.s3.amazonaws.com/1381-scraping/01/img-cars/lamborghini-murcielago/lamborghini-murcielago-2872974__340.jpg\" width=\"220\"/>,\n",
       " <img alt=\"Foto\" height=\"155\" src=\"https://caelum-online-public.s3.amazonaws.com/1381-scraping/01/img-cars/aston-martin/aston-martin-2977916__340.jpg\" width=\"220\"/>,\n",
       " <img alt=\"Foto\" height=\"155\" src=\"https://caelum-online-public.s3.amazonaws.com/1381-scraping/01/img-cars/tvr/tvr-2943925__340.jpg\" width=\"220\"/>,\n",
       " <img alt=\"Foto\" height=\"155\" src=\"https://caelum-online-public.s3.amazonaws.com/1381-scraping/01/img-cars/excalibur/excalibur-2916730__340.jpg\" width=\"220\"/>,\n",
       " <img alt=\"Foto\" height=\"155\" src=\"https://caelum-online-public.s3.amazonaws.com/1381-scraping/01/img-cars/mclaren/mclaren-2855240__340.jpg\" width=\"220\"/>,\n",
       " <img alt=\"Foto\" height=\"155\" src=\"https://caelum-online-public.s3.amazonaws.com/1381-scraping/01/img-cars/toyota/toyota-3245397__340.jpg\" width=\"220\"/>]"
      ]
     },
     "execution_count": 42,
     "metadata": {},
     "output_type": "execute_result"
    }
   ],
   "source": [
    "soup.findAll('img',alt='Foto')"
   ]
  },
  {
   "cell_type": "code",
   "execution_count": 43,
   "metadata": {},
   "outputs": [
    {
     "name": "stdout",
     "output_type": "stream",
     "text": [
      "https://caelum-online-public.s3.amazonaws.com/1381-scraping/01/img-cars/lamborghini-aventador/lamborghini-aventador-2932196__340.jpg\n",
      "https://caelum-online-public.s3.amazonaws.com/1381-scraping/01/img-cars/bmw-m2/bmw-m2-2970882__340.jpg\n",
      "https://caelum-online-public.s3.amazonaws.com/1381-scraping/01/img-cars/alfa/alfa-1823056__340.jpg\n",
      "https://caelum-online-public.s3.amazonaws.com/1381-scraping/01/img-cars/puech/puech-4055386__340.jpg\n",
      "https://caelum-online-public.s3.amazonaws.com/1381-scraping/01/img-cars/lamborghini-murcielago/lamborghini-murcielago-2872974__340.jpg\n",
      "https://caelum-online-public.s3.amazonaws.com/1381-scraping/01/img-cars/aston-martin/aston-martin-2977916__340.jpg\n",
      "https://caelum-online-public.s3.amazonaws.com/1381-scraping/01/img-cars/tvr/tvr-2943925__340.jpg\n",
      "https://caelum-online-public.s3.amazonaws.com/1381-scraping/01/img-cars/excalibur/excalibur-2916730__340.jpg\n",
      "https://caelum-online-public.s3.amazonaws.com/1381-scraping/01/img-cars/mclaren/mclaren-2855240__340.jpg\n",
      "https://caelum-online-public.s3.amazonaws.com/1381-scraping/01/img-cars/toyota/toyota-3245397__340.jpg\n"
     ]
    }
   ],
   "source": [
    "for item in soup.findAll('img',alt='Foto'):\n",
    "    print(item.get('src'))"
   ]
  },
  {
   "cell_type": "markdown",
   "metadata": {},
   "source": [
    "### Cuidado com o atributo \"class\""
   ]
  },
  {
   "cell_type": "code",
   "execution_count": 44,
   "metadata": {},
   "outputs": [
    {
     "data": {
      "text/plain": [
       "[<p class=\"txt-value\">R$ 338.000</p>,\n",
       " <p class=\"txt-value\">R$ 346.000</p>,\n",
       " <p class=\"txt-value\">R$ 480.000</p>,\n",
       " <p class=\"txt-value\">R$ 133.000</p>,\n",
       " <p class=\"txt-value\">R$ 175.000</p>,\n",
       " <p class=\"txt-value\">R$ 239.000</p>,\n",
       " <p class=\"txt-value\">R$ 115.000</p>,\n",
       " <p class=\"txt-value\">R$ 114.000</p>,\n",
       " <p class=\"txt-value\">R$ 75.000</p>,\n",
       " <p class=\"txt-value\">R$ 117.000</p>]"
      ]
     },
     "execution_count": 44,
     "metadata": {},
     "output_type": "execute_result"
    }
   ],
   "source": [
    "# soup.findAll('p',class='txt-value') dá erro, class é reservado\n",
    "soup.findAll('p',class_='txt-value')"
   ]
  },
  {
   "cell_type": "markdown",
   "metadata": {},
   "source": [
    "### Obtendo todo o conteúdo de texto de uma página"
   ]
  },
  {
   "cell_type": "code",
   "execution_count": 45,
   "metadata": {},
   "outputs": [
    {
     "data": {
      "text/plain": [
       "['html',\n",
       " 'Alura Motors',\n",
       " \" /*Regra para a animacao*/ @keyframes spin { 0% { transform: rotate(0deg); } 100% { transform: rotate(360deg); } } /*Mudando o tamanho do icone de resposta*/ div.glyphicon { color:#6B8E23; font-size: 38px; } /*Classe que mostra a animacao 'spin'*/ .loader { border: 16px solid #f3f3f3; border-radius: 50%; border-top: 16px solid #3498db; width: 80px; height: 80px; -webkit-animation: spin 2s linear infinite; animation: spin 2s linear infinite; } \",\n",
       " ' requisitar(\"https://alura-scraping.herokuapp.com/produtos?_page=\"+1+\"&_limit=10\") ',\n",
       " 'You need to enable JavaScript to run this app.',\n",
       " 'Aguarde... ',\n",
       " 'Motors ',\n",
       " 'Hello World',\n",
       " 'Anúncios',\n",
       " 'Veículos de Luxo Novos e Usados - Todas as Marcas',\n",
       " '246 veículos encontrados',\n",
       " 'Página 1 de 25',\n",
       " 'LAMBORGHINI AVENTADOR',\n",
       " 'USADO',\n",
       " 'Motor 1.8 16v',\n",
       " 'Ano 1993 - 55.286 km',\n",
       " '► 4 X 4',\n",
       " '► Câmera de estacionamento',\n",
       " '► Controle de tração',\n",
       " '► Sensor de estacionamento',\n",
       " '...',\n",
       " 'Belo Horizonte - MG',\n",
       " 'R$ 338.000',\n",
       " 'BMW M2',\n",
       " 'USADO',\n",
       " 'Motor 3.0 32v',\n",
       " 'Ano 2018 - 83.447 km',\n",
       " '► Câmera de estacionamento',\n",
       " '► Controle de estabilidade',\n",
       " '► Travas elétricas',\n",
       " '► Freios ABS',\n",
       " '...',\n",
       " 'Belo Horizonte - MG',\n",
       " 'R$ 346.000',\n",
       " 'ALFA',\n",
       " 'USADO',\n",
       " 'Motor 1.8 16v',\n",
       " 'Ano 2004 - 19.722 km',\n",
       " '► Central multimídia',\n",
       " '► Bancos de couro',\n",
       " '► Rodas de liga',\n",
       " '► Câmera de estacionamento',\n",
       " '...',\n",
       " 'Rio de Janeiro - RJ',\n",
       " 'R$ 480.000',\n",
       " 'PUECH',\n",
       " 'USADO',\n",
       " 'Motor Diesel V8',\n",
       " 'Ano 1992 - 34.335 km',\n",
       " '► Bancos de couro',\n",
       " '► Freios ABS',\n",
       " '► Rodas de liga',\n",
       " '► Câmbio automático',\n",
       " '...',\n",
       " 'São Paulo - SP',\n",
       " 'R$ 133.000',\n",
       " 'LAMBORGHINI MURCIELAGO',\n",
       " 'USADO',\n",
       " 'Motor 1.0 8v',\n",
       " 'Ano 1991 - 464 km',\n",
       " '► Central multimídia',\n",
       " '► Teto panorâmico',\n",
       " '► Sensor crepuscular',\n",
       " '► Piloto automático',\n",
       " '...',\n",
       " 'Belo Horizonte - MG',\n",
       " 'R$ 175.000',\n",
       " 'ASTON MARTIN',\n",
       " 'USADO',\n",
       " 'OPORTUNIDADE',\n",
       " 'Motor Diesel V6',\n",
       " 'Ano 2004 - 50.189 km',\n",
       " '► Painel digital',\n",
       " '► Controle de tração',\n",
       " '► Teto panorâmico',\n",
       " '► Central multimídia',\n",
       " '...',\n",
       " 'Belo Horizonte - MG',\n",
       " 'R$ 239.000',\n",
       " 'TVR',\n",
       " 'USADO',\n",
       " 'Motor 4.0 Turbo',\n",
       " 'Ano 2014 - 17.778 km',\n",
       " '► 4 X 4',\n",
       " '► Teto panorâmico',\n",
       " '► Central multimídia',\n",
       " '► Controle de estabilidade',\n",
       " '...',\n",
       " 'Belo Horizonte - MG',\n",
       " 'R$ 115.000',\n",
       " 'EXCALIBUR',\n",
       " 'USADO',\n",
       " 'Motor 3.0 32v',\n",
       " 'Ano 2009 - 81.251 km',\n",
       " '► Painel digital',\n",
       " '► Câmbio automático',\n",
       " '► Sensor de chuva',\n",
       " '► Travas elétricas',\n",
       " '...',\n",
       " 'Rio de Janeiro - RJ',\n",
       " 'R$ 114.000',\n",
       " 'MCLAREN',\n",
       " 'NOVO',\n",
       " 'Motor Diesel',\n",
       " 'Ano 2019 - 0 km',\n",
       " '► Central multimídia',\n",
       " '► Câmera de estacionamento',\n",
       " '► Câmbio automático',\n",
       " '► Ar condicionado',\n",
       " '...',\n",
       " 'São Paulo - SP',\n",
       " 'R$ 75.000',\n",
       " 'TOYOTA',\n",
       " 'USADO',\n",
       " 'OPORTUNIDADE',\n",
       " 'Motor 4.0 Turbo',\n",
       " 'Ano 1999 - 12.536 km',\n",
       " '► Bancos de couro',\n",
       " '► Freios ABS',\n",
       " '► Piloto automático',\n",
       " '► Controle de estabilidade',\n",
       " '...',\n",
       " 'São Paulo - SP',\n",
       " 'R$ 117.000',\n",
       " '246 veículos encontrados',\n",
       " 'Página 1 de 25',\n",
       " 'Motors ',\n",
       " 'Aplicação para treinamento de web scraping']"
      ]
     },
     "execution_count": 45,
     "metadata": {},
     "output_type": "execute_result"
    }
   ],
   "source": [
    "soup.findAll(text=True)"
   ]
  },
  {
   "cell_type": "markdown",
   "metadata": {},
   "source": [
    "# 4.2. Outros métodos de pesquisa"
   ]
  },
  {
   "cell_type": "markdown",
   "metadata": {},
   "source": [
    "- ### *findParent(tag, attributes, text, **kwargs)*\n",
    "\n",
    "- ### *findParents(tag, attributes, text, limit, **kwargs)*\n",
    "\n",
    "#### https://www.crummy.com/software/BeautifulSoup/bs4/doc/#find-parents-and-find-parent\n",
    "\n",
    "> **Observação:**\n",
    "> - *findParent()* e *findParents()* também podem ser utilizados como *find_parent()* e *find_parents()*, respectivamente.\n",
    "---\n",
    "- ### *findNextSibling(tag, attributes, text, **kwargs)*\n",
    "\n",
    "- ### *findNextSiblings(tag, attributes, text, limit, **kwargs)*\n",
    "\n",
    "- ### *findPreviousSibling(tag, attributes, text, **kwargs)*\n",
    "\n",
    "- ### *findPreviousSiblings(tag, attributes, text, limit, **kwargs)*\n",
    "\n",
    "#### https://www.crummy.com/software/BeautifulSoup/bs4/doc/#find-next-siblings-and-find-next-sibling\n",
    "#### https://www.crummy.com/software/BeautifulSoup/bs4/doc/#find-previous-siblings-and-find-previous-sibling\n",
    "\n",
    "> **Observação:**\n",
    "> - *findNextSibling()*, *findNextSiblings()*, *findPreviousSibling()* e *findPreviousSiblings()* também podem ser utilizados como *find_next_sibling()*, *find_next_siblings()*, *find_previous_sibling()* e *find_previous_siblings()*, respectivamente.\n",
    "---\n",
    "- ### *findNext(tag, attributes, text, **kwargs)*\n",
    "\n",
    "- ### *findAllNext(tag, attributes, text, limit, **kwargs)*\n",
    "\n",
    "- ### *findPrevious(tag, attributes, text, **kwargs)*\n",
    "\n",
    "- ### *findAllPrevious(tag, attributes, text, limit, **kwargs)*\n",
    "\n",
    "#### https://www.crummy.com/software/BeautifulSoup/bs4/doc/#find-all-next-and-find-next\n",
    "#### https://www.crummy.com/software/BeautifulSoup/bs4/doc/#find-all-previous-and-find-previous\n",
    "\n",
    "> **Observação:**\n",
    "> - *findNext()*, *findAllNext()*, *findPrevious* e *findAllPrevious* também podem ser utilizados como *find_next()*, *find_all_next()*, *find_previous()* e *find_all_previous()*, respectivamente."
   ]
  },
  {
   "cell_type": "markdown",
   "metadata": {},
   "source": [
    "## HTML de exemplo para ilustrar a utilização dos métodos de pesquisa do BeautifulSoup"
   ]
  },
  {
   "cell_type": "markdown",
   "metadata": {},
   "source": [
    "<img src=\"https://caelum-online-public.s3.amazonaws.com/1381-scraping/01/BeautifulSoup-method.png\" width=80%>"
   ]
  },
  {
   "cell_type": "markdown",
   "metadata": {},
   "source": [
    "---\n",
    "## Resultado"
   ]
  },
  {
   "cell_type": "markdown",
   "metadata": {},
   "source": [
    "<html>\n",
    "    <body>\n",
    "        <div id=“container-a”>\n",
    "            <h1>Título A</h1>\n",
    "            <h2 class=\"ref-a\">Sub título A</h2>\n",
    "            <p>Texto de conteúdo A</p>\n",
    "        </div>\n",
    "        <div id=“container-b”>\n",
    "            <h1>Título B</h1>\n",
    "            <h2 class=\"ref-b\">Sub título B</h2>\n",
    "            <p>Texto de conteúdo B</p>\n",
    "        </div>\n",
    "    </body>\n",
    "</html>"
   ]
  },
  {
   "cell_type": "code",
   "execution_count": 46,
   "metadata": {},
   "outputs": [],
   "source": [
    "html_teste = \"\"\"\n",
    "    <html>\n",
    "        <body>\n",
    "            <div id=\"container-a\">\n",
    "                <h1>Título A</h1>\n",
    "                <h2 class=\"ref-a\"> Sub título A</h2>\n",
    "                <p> Texto de conteúdo A</p>\n",
    "            </div>\n",
    "            <div id=\"container-b\">\n",
    "                <h1>Título A</h1>\n",
    "                <h2 class=\"ref-a\"> Sub título B</h2>\n",
    "                <p> Texto de conteúdo B</p>\n",
    "            </div>\n",
    "        </body>\n",
    "    </html\n",
    "\"\"\" "
   ]
  },
  {
   "cell_type": "markdown",
   "metadata": {},
   "source": [
    "### Tratamentos para a string HTML"
   ]
  },
  {
   "cell_type": "code",
   "execution_count": 47,
   "metadata": {},
   "outputs": [
    {
     "data": {
      "text/plain": [
       "'\\n    <html>\\n        <body>\\n            <div id=\"container-a\">\\n                <h1>Título A</h1>\\n                <h2 class=\"ref-a\"> Sub título A</h2>\\n                <p> Texto de conteúdo A</p>\\n            </div>\\n            <div id=\"container-b\">\\n                <h1>Título A</h1>\\n                <h2 class=\"ref-a\"> Sub título B</h2>\\n                <p> Texto de conteúdo B</p>\\n            </div>\\n        </body>\\n    </html\\n'"
      ]
     },
     "execution_count": 47,
     "metadata": {},
     "output_type": "execute_result"
    }
   ],
   "source": [
    "html_teste"
   ]
  },
  {
   "cell_type": "code",
   "execution_count": 48,
   "metadata": {},
   "outputs": [
    {
     "data": {
      "text/plain": [
       "'<html><body><div id=\"container-a\"><h1>Título A</h1><h2 class=\"ref-a\"> Sub título A</h2><p> Texto de conteúdo A</p></div><div id=\"container-b\"><h1>Título A</h1><h2 class=\"ref-a\"> Sub título B</h2><p> Texto de conteúdo B</p></div></body></html'"
      ]
     },
     "execution_count": 48,
     "metadata": {},
     "output_type": "execute_result"
    }
   ],
   "source": [
    "html_teste = trata_html(html_teste)\n",
    "html_teste"
   ]
  },
  {
   "cell_type": "markdown",
   "metadata": {},
   "source": [
    "### Criando o objeto BeautifulSoup"
   ]
  },
  {
   "cell_type": "code",
   "execution_count": 49,
   "metadata": {
    "scrolled": true
   },
   "outputs": [
    {
     "data": {
      "text/plain": [
       "<html><body><div id=\"container-a\"><h1>Título A</h1><h2 class=\"ref-a\"> Sub título A</h2><p> Texto de conteúdo A</p></div><div id=\"container-b\"><h1>Título A</h1><h2 class=\"ref-a\"> Sub título B</h2><p> Texto de conteúdo B</p></div></body>&lt;/html</html>"
      ]
     },
     "execution_count": 49,
     "metadata": {},
     "output_type": "execute_result"
    }
   ],
   "source": [
    "soup = BeautifulSoup(html_teste,'html.parser')\n",
    "soup"
   ]
  },
  {
   "cell_type": "markdown",
   "metadata": {},
   "source": [
    "### Parents"
   ]
  },
  {
   "cell_type": "code",
   "execution_count": 50,
   "metadata": {},
   "outputs": [
    {
     "data": {
      "text/plain": [
       "<h2 class=\"ref-a\"> Sub título A</h2>"
      ]
     },
     "execution_count": 50,
     "metadata": {},
     "output_type": "execute_result"
    }
   ],
   "source": [
    "soup.find('h2')"
   ]
  },
  {
   "cell_type": "code",
   "execution_count": 51,
   "metadata": {},
   "outputs": [
    {
     "data": {
      "text/plain": [
       "<div id=\"container-a\"><h1>Título A</h1><h2 class=\"ref-a\"> Sub título A</h2><p> Texto de conteúdo A</p></div>"
      ]
     },
     "execution_count": 51,
     "metadata": {},
     "output_type": "execute_result"
    }
   ],
   "source": [
    "soup.find('h2').find_parent('div')"
   ]
  },
  {
   "cell_type": "code",
   "execution_count": 52,
   "metadata": {},
   "outputs": [
    {
     "data": {
      "text/plain": [
       "[<div id=\"container-a\"><h1>Título A</h1><h2 class=\"ref-a\"> Sub título A</h2><p> Texto de conteúdo A</p></div>,\n",
       " <body><div id=\"container-a\"><h1>Título A</h1><h2 class=\"ref-a\"> Sub título A</h2><p> Texto de conteúdo A</p></div><div id=\"container-b\"><h1>Título A</h1><h2 class=\"ref-a\"> Sub título B</h2><p> Texto de conteúdo B</p></div></body>,\n",
       " <html><body><div id=\"container-a\"><h1>Título A</h1><h2 class=\"ref-a\"> Sub título A</h2><p> Texto de conteúdo A</p></div><div id=\"container-b\"><h1>Título A</h1><h2 class=\"ref-a\"> Sub título B</h2><p> Texto de conteúdo B</p></div></body>&lt;/html</html>,\n",
       " <html><body><div id=\"container-a\"><h1>Título A</h1><h2 class=\"ref-a\"> Sub título A</h2><p> Texto de conteúdo A</p></div><div id=\"container-b\"><h1>Título A</h1><h2 class=\"ref-a\"> Sub título B</h2><p> Texto de conteúdo B</p></div></body>&lt;/html</html>]"
      ]
     },
     "execution_count": 52,
     "metadata": {},
     "output_type": "execute_result"
    }
   ],
   "source": [
    "soup.find('h2').find_parents()"
   ]
  },
  {
   "cell_type": "code",
   "execution_count": 53,
   "metadata": {},
   "outputs": [
    {
     "name": "stdout",
     "output_type": "stream",
     "text": [
      "<div id=\"container-a\"><h1>Título A</h1><h2 class=\"ref-a\"> Sub título A</h2><p> Texto de conteúdo A</p></div>\n",
      "<div id=\"container-b\"><h1>Título A</h1><h2 class=\"ref-a\"> Sub título B</h2><p> Texto de conteúdo B</p></div>\n"
     ]
    }
   ],
   "source": [
    "# da erro : soup.findAll('h2').find_parent('div')\n",
    "for item in soup.findAll('h2'):\n",
    "    print(item.find_parent('div'))\n"
   ]
  },
  {
   "cell_type": "code",
   "execution_count": 54,
   "metadata": {},
   "outputs": [
    {
     "data": {
      "text/plain": [
       "<div id=\"container-a\"><h1>Título A</h1><h2 class=\"ref-a\"> Sub título A</h2><p> Texto de conteúdo A</p></div>"
      ]
     },
     "execution_count": 54,
     "metadata": {},
     "output_type": "execute_result"
    }
   ],
   "source": [
    "soup.findAll('h2')[0].find_parent('div')"
   ]
  },
  {
   "cell_type": "markdown",
   "metadata": {},
   "source": [
    "## Siblings"
   ]
  },
  {
   "cell_type": "code",
   "execution_count": 55,
   "metadata": {},
   "outputs": [
    {
     "data": {
      "text/plain": [
       "<p> Texto de conteúdo A</p>"
      ]
     },
     "execution_count": 55,
     "metadata": {},
     "output_type": "execute_result"
    }
   ],
   "source": [
    "soup.find('h2').findNextSibling()"
   ]
  },
  {
   "cell_type": "code",
   "execution_count": 56,
   "metadata": {},
   "outputs": [
    {
     "data": {
      "text/plain": [
       "<h1>Título A</h1>"
      ]
     },
     "execution_count": 56,
     "metadata": {},
     "output_type": "execute_result"
    }
   ],
   "source": [
    "soup.find('h2').findPreviousSibling()"
   ]
  },
  {
   "cell_type": "code",
   "execution_count": 57,
   "metadata": {},
   "outputs": [
    {
     "data": {
      "text/plain": [
       "[<h2 class=\"ref-a\"> Sub título A</h2>, <h1>Título A</h1>]"
      ]
     },
     "execution_count": 57,
     "metadata": {},
     "output_type": "execute_result"
    }
   ],
   "source": [
    "soup.find('p').findPreviousSiblings()"
   ]
  },
  {
   "cell_type": "markdown",
   "metadata": {},
   "source": [
    "## Next e Previous"
   ]
  },
  {
   "cell_type": "code",
   "execution_count": 58,
   "metadata": {},
   "outputs": [
    {
     "data": {
      "text/plain": [
       "<p> Texto de conteúdo A</p>"
      ]
     },
     "execution_count": 58,
     "metadata": {},
     "output_type": "execute_result"
    }
   ],
   "source": [
    "soup.find('h2').findNext()"
   ]
  },
  {
   "cell_type": "code",
   "execution_count": 59,
   "metadata": {},
   "outputs": [
    {
     "data": {
      "text/plain": [
       "<h1>Título A</h1>"
      ]
     },
     "execution_count": 59,
     "metadata": {},
     "output_type": "execute_result"
    }
   ],
   "source": [
    "soup.find('h2').findPrevious()"
   ]
  },
  {
   "cell_type": "code",
   "execution_count": 60,
   "metadata": {},
   "outputs": [
    {
     "data": {
      "text/plain": [
       "[<p> Texto de conteúdo A</p>,\n",
       " <div id=\"container-b\"><h1>Título A</h1><h2 class=\"ref-a\"> Sub título B</h2><p> Texto de conteúdo B</p></div>,\n",
       " <h1>Título A</h1>,\n",
       " <h2 class=\"ref-a\"> Sub título B</h2>,\n",
       " <p> Texto de conteúdo B</p>]"
      ]
     },
     "execution_count": 60,
     "metadata": {},
     "output_type": "execute_result"
    }
   ],
   "source": [
    "soup.find('h2').findAllNext()"
   ]
  },
  {
   "cell_type": "markdown",
   "metadata": {},
   "source": [
    "# <font color=green>5. WEB SCRAPING DO SITE ALURA MOTORS - OBTENDO OS DADOS DE UM ANÚNCIO"
   ]
  },
  {
   "cell_type": "markdown",
   "metadata": {},
   "source": [
    "# 5.1. Identificando e selecionando os dados no HTML"
   ]
  },
  {
   "cell_type": "markdown",
   "metadata": {},
   "source": [
    "### Obtendo o HTML e criando o objeto BeautifulSoup"
   ]
  },
  {
   "cell_type": "code",
   "execution_count": 61,
   "metadata": {},
   "outputs": [
    {
     "data": {
      "text/plain": [
       "<!DOCTYPE html>\n",
       "\n",
       "<html lang=\"pt-br\">\n",
       "<head>\n",
       "<meta charset=\"utf-8\"/>\n",
       "<meta content=\"width=device-width, initial-scale=1, shrink-to-fit=no\" name=\"viewport\"/>\n",
       "<title>Alura Motors</title>\n",
       "<style>\n",
       "\t\t/*Regra para a animacao*/\n",
       "\t\t@keyframes spin {\n",
       "\t\t\t0% { transform: rotate(0deg); }\n",
       "\t\t\t100% { transform: rotate(360deg); }\n",
       "\t\t}\n",
       "\t\t/*Mudando o tamanho do icone de resposta*/\n",
       "\t\tdiv.glyphicon {\n",
       "\t\t\tcolor:#6B8E23;\n",
       "\t\t\tfont-size: 38px;\n",
       "\t\t}\n",
       "\t\t/*Classe que mostra a animacao 'spin'*/\n",
       "\t\t.loader {\n",
       "\t\t\tborder: 16px solid #f3f3f3;\n",
       "\t\t\tborder-radius: 50%;\n",
       "\t\t\tborder-top: 16px solid #3498db;\n",
       "\t\t\twidth: 80px;\n",
       "\t\t\theight: 80px;\n",
       "\t\t\t-webkit-animation: spin 2s linear infinite;\n",
       "\t\t\tanimation: spin 2s linear infinite;\n",
       "\t\t}\n",
       "\t</style>\n",
       "<link crossorigin=\"anonymous\" href=\"https://maxcdn.bootstrapcdn.com/bootstrap/3.3.7/css/bootstrap.min.css\" integrity=\"sha384-BVYiiSIFeK1dGmJRAkycuHAHRg32OmUcww7on3RYdg4Va+PmSTsz/K68vbdEjh4u\" rel=\"stylesheet\"/>\n",
       "<link href=\"css/styles.css\" media=\"all\" rel=\"stylesheet\"/>\n",
       "<script src=\"https://code.jquery.com/jquery-1.12.4.js\"></script>\n",
       "<script crossorigin=\"anonymous\" integrity=\"sha384-Tc5IQib027qvyjSMfHjOMaLkfuWVxZxUPnCJA7l2mCWNIpG9mGCD8wGNIcPD7Txa\" src=\"https://maxcdn.bootstrapcdn.com/bootstrap/3.3.7/js/bootstrap.min.js\"></script>\n",
       "<script src=\"js/index.js\" type=\"text/javascript\"></script>\n",
       "<script>\n",
       "\t\trequisitar(\"https://alura-scraping.herokuapp.com/produtos?_page=\"+1+\"&_limit=10\")\n",
       "\t</script>\n",
       "</head>\n",
       "<body cz-shortcut-listen=\"true\">\n",
       "<noscript>You need to enable JavaScript to run this app.</noscript>\n",
       "<div aria-labelledby=\"loadingModal_label\" class=\"modal fade\" data-backdrop=\"static\" id=\"loadingModal\" role=\"dialog\" tabindex=\"-1\">\n",
       "<div class=\"modal-dialog\" role=\"document\">\n",
       "<div class=\"modal-content\">\n",
       "<div class=\"modal-header\">\n",
       "<h5 class=\"modal-title\" id=\"loadingModal_label\">\n",
       "<span class=\"glyphicon glyphicon-refresh\"></span>Aguarde...\n",
       "\t\t\t\t\t</h5>\n",
       "</div>\n",
       "<div class=\"modal-body\">\n",
       "<div class=\"alert\" role=\"alert\">\n",
       "<center>\n",
       "<div class=\"loader\" id=\"loader\"></div><br/>\n",
       "<h4><b id=\"loadingModal_content\"></b></h4>\n",
       "</center>\n",
       "</div>\n",
       "</div>\n",
       "</div>\n",
       "</div>\n",
       "</div>\n",
       "<div id=\"root\">\n",
       "<header>\n",
       "<nav class=\"navbar navbar-inverse\" style=\"margin-bottom: 0;\">\n",
       "<div class=\"container\" style=\"margin-bottom: -20px;\">\n",
       "<div class=\"navbar\">\n",
       "<a class=\"navbar-brand\" href=\"./index.php\" title=\"Alura Motors\">\n",
       "<img alt=\"Alura\" class=\"d-inline-block align-top\" src=\"img/alura-logo.svg\"/>Motors\n",
       "\t\t\t\t\t\t</a>\n",
       "<ul class=\"nav navbar-nav\" style=\"margin-top: 35px;\">\n",
       "<li><a href=\"./hello-world.php\">Hello World</a></li>\n",
       "<li><a href=\"./index.php\">Anúncios</a></li>\n",
       "</ul>\n",
       "</div>\n",
       "</div>\n",
       "</nav>\n",
       "</header>\n",
       "<div class=\"container\">\n",
       "<h1 class=\"sub-header\">Veículos de Luxo Novos e Usados - Todas as Marcas</h1>\n",
       "<div class=\"row\">\n",
       "<div class=\"col-md-12\">\n",
       "<div class=\"container\" style=\"width: 100%\">\n",
       "<div class=\"type-select\">246 veículos encontrados</div>\n",
       "<div class=\"container-pagination\" style=\"float: right\">\n",
       "<span class=\"info-pages\">Página 1 de 25</span>\n",
       "</div>\n",
       "</div>\n",
       "<div id=\"container-cards\" style=\"height: 100%\">\n",
       "<div class=\"well card\">\n",
       "<div class=\"col-md-3 image-card\">\n",
       "<img alt=\"Foto\" height=\"155\" src=\"https://caelum-online-public.s3.amazonaws.com/1381-scraping/01/img-cars/lamborghini-aventador/lamborghini-aventador-2932196__340.jpg\" width=\"220\"/>\n",
       "</div>\n",
       "<div class=\"col-md-6 body-card\">\n",
       "<p class=\"txt-name inline\">LAMBORGHINI AVENTADOR</p>\n",
       "<p class=\"txt-category badge badge-secondary inline\">USADO</p>\n",
       "<p class=\"txt-motor\">Motor 1.8 16v</p>\n",
       "<p class=\"txt-description\">Ano 1993 - 55.286 km</p>\n",
       "<ul class=\"lst-items\">\n",
       "<li class=\"txt-items\">► 4 X 4</li>\n",
       "<li class=\"txt-items\">► Câmera de estacionamento</li>\n",
       "<li class=\"txt-items\">► Controle de tração</li>\n",
       "<li class=\"txt-items\">► Sensor de estacionamento</li>\n",
       "<li class=\"txt-items\">...</li>\n",
       "</ul>\n",
       "<p class=\"txt-location\">Belo Horizonte - MG</p>\n",
       "</div>\n",
       "<div class=\"col-md-3 value-card\">\n",
       "<div class=\"value\">\n",
       "<p class=\"txt-value\">R$ 338.000</p>\n",
       "</div>\n",
       "</div>\n",
       "</div>\n",
       "<div class=\"well card\">\n",
       "<div class=\"col-md-3 image-card\">\n",
       "<img alt=\"Foto\" height=\"155\" src=\"https://caelum-online-public.s3.amazonaws.com/1381-scraping/01/img-cars/bmw-m2/bmw-m2-2970882__340.jpg\" width=\"220\"/>\n",
       "</div>\n",
       "<div class=\"col-md-6 body-card\">\n",
       "<p class=\"txt-name inline\">BMW M2</p>\n",
       "<p class=\"txt-category badge badge-secondary inline\">USADO</p>\n",
       "<p class=\"txt-motor\">Motor 3.0 32v</p>\n",
       "<p class=\"txt-description\">Ano 2018 - 83.447 km</p>\n",
       "<ul class=\"lst-items\">\n",
       "<li class=\"txt-items\">► Câmera de estacionamento</li>\n",
       "<li class=\"txt-items\">► Controle de estabilidade</li>\n",
       "<li class=\"txt-items\">► Travas elétricas</li>\n",
       "<li class=\"txt-items\">► Freios ABS</li>\n",
       "<li class=\"txt-items\">...</li>\n",
       "</ul>\n",
       "<p class=\"txt-location\">Belo Horizonte - MG</p>\n",
       "</div>\n",
       "<div class=\"col-md-3 value-card\">\n",
       "<div class=\"value\">\n",
       "<p class=\"txt-value\">R$ 346.000</p>\n",
       "</div>\n",
       "</div>\n",
       "</div>\n",
       "<div class=\"well card\">\n",
       "<div class=\"col-md-3 image-card\">\n",
       "<img alt=\"Foto\" height=\"155\" src=\"https://caelum-online-public.s3.amazonaws.com/1381-scraping/01/img-cars/alfa/alfa-1823056__340.jpg\" width=\"220\"/>\n",
       "</div>\n",
       "<div class=\"col-md-6 body-card\">\n",
       "<p class=\"txt-name inline\">ALFA</p>\n",
       "<p class=\"txt-category badge badge-secondary inline\">USADO</p>\n",
       "<p class=\"txt-motor\">Motor 1.8 16v</p>\n",
       "<p class=\"txt-description\">Ano 2004 - 19.722 km</p>\n",
       "<ul class=\"lst-items\">\n",
       "<li class=\"txt-items\">► Central multimídia</li>\n",
       "<li class=\"txt-items\">► Bancos de couro</li>\n",
       "<li class=\"txt-items\">► Rodas de liga</li>\n",
       "<li class=\"txt-items\">► Câmera de estacionamento</li>\n",
       "<li class=\"txt-items\">...</li>\n",
       "</ul>\n",
       "<p class=\"txt-location\">Rio de Janeiro - RJ</p>\n",
       "</div>\n",
       "<div class=\"col-md-3 value-card\">\n",
       "<div class=\"value\">\n",
       "<p class=\"txt-value\">R$ 480.000</p>\n",
       "</div>\n",
       "</div>\n",
       "</div>\n",
       "<div class=\"well card\">\n",
       "<div class=\"col-md-3 image-card\">\n",
       "<img alt=\"Foto\" height=\"155\" src=\"https://caelum-online-public.s3.amazonaws.com/1381-scraping/01/img-cars/puech/puech-4055386__340.jpg\" width=\"220\"/>\n",
       "</div>\n",
       "<div class=\"col-md-6 body-card\">\n",
       "<p class=\"txt-name inline\">PUECH</p>\n",
       "<p class=\"txt-category badge badge-secondary inline\">USADO</p>\n",
       "<p class=\"txt-motor\">Motor Diesel V8</p>\n",
       "<p class=\"txt-description\">Ano 1992 - 34.335 km</p>\n",
       "<ul class=\"lst-items\">\n",
       "<li class=\"txt-items\">► Bancos de couro</li>\n",
       "<li class=\"txt-items\">► Freios ABS</li>\n",
       "<li class=\"txt-items\">► Rodas de liga</li>\n",
       "<li class=\"txt-items\">► Câmbio automático</li>\n",
       "<li class=\"txt-items\">...</li>\n",
       "</ul>\n",
       "<p class=\"txt-location\">São Paulo - SP</p>\n",
       "</div>\n",
       "<div class=\"col-md-3 value-card\">\n",
       "<div class=\"value\">\n",
       "<p class=\"txt-value\">R$ 133.000</p>\n",
       "</div>\n",
       "</div>\n",
       "</div>\n",
       "<div class=\"well card\">\n",
       "<div class=\"col-md-3 image-card\">\n",
       "<img alt=\"Foto\" height=\"155\" src=\"https://caelum-online-public.s3.amazonaws.com/1381-scraping/01/img-cars/lamborghini-murcielago/lamborghini-murcielago-2872974__340.jpg\" width=\"220\"/>\n",
       "</div>\n",
       "<div class=\"col-md-6 body-card\">\n",
       "<p class=\"txt-name inline\">LAMBORGHINI MURCIELAGO</p>\n",
       "<p class=\"txt-category badge badge-secondary inline\">USADO</p>\n",
       "<p class=\"txt-motor\">Motor 1.0 8v</p>\n",
       "<p class=\"txt-description\">Ano 1991 - 464 km</p>\n",
       "<ul class=\"lst-items\">\n",
       "<li class=\"txt-items\">► Central multimídia</li>\n",
       "<li class=\"txt-items\">► Teto panorâmico</li>\n",
       "<li class=\"txt-items\">► Sensor crepuscular</li>\n",
       "<li class=\"txt-items\">► Piloto automático</li>\n",
       "<li class=\"txt-items\">...</li>\n",
       "</ul>\n",
       "<p class=\"txt-location\">Belo Horizonte - MG</p>\n",
       "</div>\n",
       "<div class=\"col-md-3 value-card\">\n",
       "<div class=\"value\">\n",
       "<p class=\"txt-value\">R$ 175.000</p>\n",
       "</div>\n",
       "</div>\n",
       "</div>\n",
       "<div class=\"well card\">\n",
       "<div class=\"col-md-3 image-card\">\n",
       "<img alt=\"Foto\" height=\"155\" src=\"https://caelum-online-public.s3.amazonaws.com/1381-scraping/01/img-cars/aston-martin/aston-martin-2977916__340.jpg\" width=\"220\"/>\n",
       "</div>\n",
       "<div class=\"col-md-6 body-card\">\n",
       "<p class=\"txt-name inline\">ASTON MARTIN</p>\n",
       "<p class=\"txt-category badge badge-secondary inline\">USADO</p>\n",
       "<p class=\"txt-opportunity badge badge-danger inline\">OPORTUNIDADE</p>\n",
       "<p class=\"txt-motor\">Motor Diesel V6</p>\n",
       "<p class=\"txt-description\">Ano 2004 - 50.189 km</p>\n",
       "<ul class=\"lst-items\">\n",
       "<li class=\"txt-items\">► Painel digital</li>\n",
       "<li class=\"txt-items\">► Controle de tração</li>\n",
       "<li class=\"txt-items\">► Teto panorâmico</li>\n",
       "<li class=\"txt-items\">► Central multimídia</li>\n",
       "<li class=\"txt-items\">...</li>\n",
       "</ul>\n",
       "<p class=\"txt-location\">Belo Horizonte - MG</p>\n",
       "</div>\n",
       "<div class=\"col-md-3 value-card\">\n",
       "<div class=\"value\">\n",
       "<p class=\"txt-value\">R$ 239.000</p>\n",
       "</div>\n",
       "</div>\n",
       "</div>\n",
       "<div class=\"well card\">\n",
       "<div class=\"col-md-3 image-card\">\n",
       "<img alt=\"Foto\" height=\"155\" src=\"https://caelum-online-public.s3.amazonaws.com/1381-scraping/01/img-cars/tvr/tvr-2943925__340.jpg\" width=\"220\"/>\n",
       "</div>\n",
       "<div class=\"col-md-6 body-card\">\n",
       "<p class=\"txt-name inline\">TVR</p>\n",
       "<p class=\"txt-category badge badge-secondary inline\">USADO</p>\n",
       "<p class=\"txt-motor\">Motor 4.0 Turbo</p>\n",
       "<p class=\"txt-description\">Ano 2014 - 17.778 km</p>\n",
       "<ul class=\"lst-items\">\n",
       "<li class=\"txt-items\">► 4 X 4</li>\n",
       "<li class=\"txt-items\">► Teto panorâmico</li>\n",
       "<li class=\"txt-items\">► Central multimídia</li>\n",
       "<li class=\"txt-items\">► Controle de estabilidade</li>\n",
       "<li class=\"txt-items\">...</li>\n",
       "</ul>\n",
       "<p class=\"txt-location\">Belo Horizonte - MG</p>\n",
       "</div>\n",
       "<div class=\"col-md-3 value-card\">\n",
       "<div class=\"value\">\n",
       "<p class=\"txt-value\">R$ 115.000</p>\n",
       "</div>\n",
       "</div>\n",
       "</div>\n",
       "<div class=\"well card\">\n",
       "<div class=\"col-md-3 image-card\">\n",
       "<img alt=\"Foto\" height=\"155\" src=\"https://caelum-online-public.s3.amazonaws.com/1381-scraping/01/img-cars/excalibur/excalibur-2916730__340.jpg\" width=\"220\"/>\n",
       "</div>\n",
       "<div class=\"col-md-6 body-card\">\n",
       "<p class=\"txt-name inline\">EXCALIBUR</p>\n",
       "<p class=\"txt-category badge badge-secondary inline\">USADO</p>\n",
       "<p class=\"txt-motor\">Motor 3.0 32v</p>\n",
       "<p class=\"txt-description\">Ano 2009 - 81.251 km</p>\n",
       "<ul class=\"lst-items\">\n",
       "<li class=\"txt-items\">► Painel digital</li>\n",
       "<li class=\"txt-items\">► Câmbio automático</li>\n",
       "<li class=\"txt-items\">► Sensor de chuva</li>\n",
       "<li class=\"txt-items\">► Travas elétricas</li>\n",
       "<li class=\"txt-items\">...</li>\n",
       "</ul>\n",
       "<p class=\"txt-location\">Rio de Janeiro - RJ</p>\n",
       "</div>\n",
       "<div class=\"col-md-3 value-card\">\n",
       "<div class=\"value\">\n",
       "<p class=\"txt-value\">R$ 114.000</p>\n",
       "</div>\n",
       "</div>\n",
       "</div>\n",
       "<div class=\"well card\">\n",
       "<div class=\"col-md-3 image-card\">\n",
       "<img alt=\"Foto\" height=\"155\" src=\"https://caelum-online-public.s3.amazonaws.com/1381-scraping/01/img-cars/mclaren/mclaren-2855240__340.jpg\" width=\"220\"/>\n",
       "</div>\n",
       "<div class=\"col-md-6 body-card\">\n",
       "<p class=\"txt-name inline\">MCLAREN</p>\n",
       "<p class=\"txt-category badge badge-secondary inline\">NOVO</p>\n",
       "<p class=\"txt-motor\">Motor Diesel</p>\n",
       "<p class=\"txt-description\">Ano 2019 - 0 km</p>\n",
       "<ul class=\"lst-items\">\n",
       "<li class=\"txt-items\">► Central multimídia</li>\n",
       "<li class=\"txt-items\">► Câmera de estacionamento</li>\n",
       "<li class=\"txt-items\">► Câmbio automático</li>\n",
       "<li class=\"txt-items\">► Ar condicionado</li>\n",
       "<li class=\"txt-items\">...</li>\n",
       "</ul>\n",
       "<p class=\"txt-location\">São Paulo - SP</p>\n",
       "</div>\n",
       "<div class=\"col-md-3 value-card\">\n",
       "<div class=\"value\">\n",
       "<p class=\"txt-value\">R$ 75.000</p>\n",
       "</div>\n",
       "</div>\n",
       "</div>\n",
       "<div class=\"well card\">\n",
       "<div class=\"col-md-3 image-card\">\n",
       "<img alt=\"Foto\" height=\"155\" src=\"https://caelum-online-public.s3.amazonaws.com/1381-scraping/01/img-cars/toyota/toyota-3245397__340.jpg\" width=\"220\"/>\n",
       "</div>\n",
       "<div class=\"col-md-6 body-card\">\n",
       "<p class=\"txt-name inline\">TOYOTA</p>\n",
       "<p class=\"txt-category badge badge-secondary inline\">USADO</p>\n",
       "<p class=\"txt-opportunity badge badge-danger inline\">OPORTUNIDADE</p>\n",
       "<p class=\"txt-motor\">Motor 4.0 Turbo</p>\n",
       "<p class=\"txt-description\">Ano 1999 - 12.536 km</p>\n",
       "<ul class=\"lst-items\">\n",
       "<li class=\"txt-items\">► Bancos de couro</li>\n",
       "<li class=\"txt-items\">► Freios ABS</li>\n",
       "<li class=\"txt-items\">► Piloto automático</li>\n",
       "<li class=\"txt-items\">► Controle de estabilidade</li>\n",
       "<li class=\"txt-items\">...</li>\n",
       "</ul>\n",
       "<p class=\"txt-location\">São Paulo - SP</p>\n",
       "</div>\n",
       "<div class=\"col-md-3 value-card\">\n",
       "<div class=\"value\">\n",
       "<p class=\"txt-value\">R$ 117.000</p>\n",
       "</div>\n",
       "</div>\n",
       "</div> </div>\n",
       "<div class=\"type-select\">246 veículos encontrados</div>\n",
       "<div class=\"container-pagination\" style=\"float: right\">\n",
       "<span class=\"info-pages\">Página 1 de 25</span>\n",
       "</div>\n",
       "</div>\n",
       "</div>\n",
       "</div>\n",
       "</div>\n",
       "</body></html>\n",
       "<footer>\n",
       "<nav class=\"navbar navbar-inverse\">\n",
       "<div class=\"container\" style=\"margin-bottom: 10px;\">\n",
       "<div class=\"navbar\">\n",
       "<a class=\"navbar-brand\" href=\"./index.php\" title=\"Alura Motors\">\n",
       "<img alt=\"Alura\" class=\"d-inline-block align-top\" src=\"img/alura-logo.svg\"/>Motors\n",
       "\t\t\t\t\t\t</a>\n",
       "<p style=\"color: #fff; text-align: center; margin-top: 40px;\">Aplicação para treinamento de web scraping</p>\n",
       "</div>\n",
       "</div>\n",
       "</nav>\n",
       "</footer>\n",
       "\n",
       "\n"
      ]
     },
     "execution_count": 61,
     "metadata": {},
     "output_type": "execute_result"
    }
   ],
   "source": [
    "response = urlopen('https://alura-site-scraping.herokuapp.com/index.php')\n",
    "html = response.read().decode('utf-8')\n",
    "soup = BeautifulSoup(html,'html.parser')\n",
    "soup"
   ]
  },
  {
   "cell_type": "markdown",
   "metadata": {},
   "source": [
    "### Criando variávels para armazenar informações"
   ]
  },
  {
   "cell_type": "code",
   "execution_count": 62,
   "metadata": {},
   "outputs": [],
   "source": [
    "cards = []\n",
    "card = {}"
   ]
  },
  {
   "cell_type": "markdown",
   "metadata": {},
   "source": [
    "### Obtendo os dados do primeiro CARD"
   ]
  },
  {
   "cell_type": "code",
   "execution_count": 64,
   "metadata": {
    "scrolled": false
   },
   "outputs": [
    {
     "data": {
      "text/plain": [
       "<div class=\"well card\">\n",
       "<div class=\"col-md-3 image-card\">\n",
       "<img alt=\"Foto\" height=\"155\" src=\"https://caelum-online-public.s3.amazonaws.com/1381-scraping/01/img-cars/lamborghini-aventador/lamborghini-aventador-2932196__340.jpg\" width=\"220\"/>\n",
       "</div>\n",
       "<div class=\"col-md-6 body-card\">\n",
       "<p class=\"txt-name inline\">LAMBORGHINI AVENTADOR</p>\n",
       "<p class=\"txt-category badge badge-secondary inline\">USADO</p>\n",
       "<p class=\"txt-motor\">Motor 1.8 16v</p>\n",
       "<p class=\"txt-description\">Ano 1993 - 55.286 km</p>\n",
       "<ul class=\"lst-items\">\n",
       "<li class=\"txt-items\">► 4 X 4</li>\n",
       "<li class=\"txt-items\">► Câmera de estacionamento</li>\n",
       "<li class=\"txt-items\">► Controle de tração</li>\n",
       "<li class=\"txt-items\">► Sensor de estacionamento</li>\n",
       "<li class=\"txt-items\">...</li>\n",
       "</ul>\n",
       "<p class=\"txt-location\">Belo Horizonte - MG</p>\n",
       "</div>\n",
       "<div class=\"col-md-3 value-card\">\n",
       "<div class=\"value\">\n",
       "<p class=\"txt-value\">R$ 338.000</p>\n",
       "</div>\n",
       "</div>\n",
       "</div>"
      ]
     },
     "execution_count": 64,
     "metadata": {},
     "output_type": "execute_result"
    }
   ],
   "source": [
    "anuncio = soup.find('div', {'class':'well card'})\n",
    "anuncio"
   ]
  },
  {
   "cell_type": "markdown",
   "metadata": {},
   "source": [
    "# 5.2. Obtendo o VALOR do veículo anunciado"
   ]
  },
  {
   "cell_type": "code",
   "execution_count": 65,
   "metadata": {},
   "outputs": [
    {
     "data": {
      "text/plain": [
       "<div class=\"col-md-3 value-card\">\n",
       "<div class=\"value\">\n",
       "<p class=\"txt-value\">R$ 338.000</p>\n",
       "</div>\n",
       "</div>"
      ]
     },
     "execution_count": 65,
     "metadata": {},
     "output_type": "execute_result"
    }
   ],
   "source": [
    "anuncio.find('div',{'class': 'value-card'})"
   ]
  },
  {
   "cell_type": "code",
   "execution_count": 67,
   "metadata": {},
   "outputs": [
    {
     "data": {
      "text/plain": [
       "'R$ 338.000'"
      ]
     },
     "execution_count": 67,
     "metadata": {},
     "output_type": "execute_result"
    }
   ],
   "source": [
    "anuncio.find('p',{'class': 'txt-value'}).getText()"
   ]
  },
  {
   "cell_type": "code",
   "execution_count": 68,
   "metadata": {},
   "outputs": [],
   "source": [
    "card['value'] = anuncio.find('p',{'class': 'txt-value'}).getText()"
   ]
  },
  {
   "cell_type": "code",
   "execution_count": 69,
   "metadata": {},
   "outputs": [
    {
     "data": {
      "text/plain": [
       "{'value': 'R$ 338.000'}"
      ]
     },
     "execution_count": 69,
     "metadata": {},
     "output_type": "execute_result"
    }
   ],
   "source": [
    "card"
   ]
  },
  {
   "cell_type": "code",
   "execution_count": null,
   "metadata": {},
   "outputs": [],
   "source": []
  },
  {
   "cell_type": "markdown",
   "metadata": {},
   "source": [
    "### <font color=red>Resumo"
   ]
  },
  {
   "cell_type": "code",
   "execution_count": 70,
   "metadata": {},
   "outputs": [],
   "source": [
    "# Valor\n",
    "card['value'] = anuncio.find('p',{'class': 'txt-value'}).getText()"
   ]
  },
  {
   "cell_type": "markdown",
   "metadata": {},
   "source": [
    "# 5.3. Obtendo as INFORMAÇÕES sobre o veículo anunciado"
   ]
  },
  {
   "cell_type": "code",
   "execution_count": 72,
   "metadata": {},
   "outputs": [
    {
     "data": {
      "text/plain": [
       "[<p class=\"txt-name inline\">LAMBORGHINI AVENTADOR</p>,\n",
       " <p class=\"txt-category badge badge-secondary inline\">USADO</p>,\n",
       " <p class=\"txt-motor\">Motor 1.8 16v</p>,\n",
       " <p class=\"txt-description\">Ano 1993 - 55.286 km</p>,\n",
       " <p class=\"txt-location\">Belo Horizonte - MG</p>]"
      ]
     },
     "execution_count": 72,
     "metadata": {},
     "output_type": "execute_result"
    }
   ],
   "source": [
    "anuncio.find('div', {'class':'body-card'}).findAll('p')"
   ]
  },
  {
   "cell_type": "code",
   "execution_count": 73,
   "metadata": {},
   "outputs": [],
   "source": [
    "infos = anuncio.find('div', {'class':'body-card'}).findAll('p')"
   ]
  },
  {
   "cell_type": "code",
   "execution_count": 76,
   "metadata": {},
   "outputs": [
    {
     "name": "stdout",
     "output_type": "stream",
     "text": [
      "txt-name  -  LAMBORGHINI AVENTADOR\n",
      "txt-category  -  USADO\n",
      "txt-motor  -  Motor 1.8 16v\n",
      "txt-description  -  Ano 1993 - 55.286 km\n",
      "txt-location  -  Belo Horizonte - MG\n"
     ]
    }
   ],
   "source": [
    "for info in infos:\n",
    "    print(info.get('class'), ' - ',info.getText())"
   ]
  },
  {
   "cell_type": "code",
   "execution_count": null,
   "metadata": {},
   "outputs": [],
   "source": [
    "for info in infos:\n",
    "    print(info.get('class')[0], ' - ',info.getText())"
   ]
  },
  {
   "cell_type": "code",
   "execution_count": 80,
   "metadata": {},
   "outputs": [
    {
     "name": "stdout",
     "output_type": "stream",
     "text": [
      "['txt', 'name']  -  LAMBORGHINI AVENTADOR\n",
      "['txt', 'category']  -  USADO\n",
      "['txt', 'motor']  -  Motor 1.8 16v\n",
      "['txt', 'description']  -  Ano 1993 - 55.286 km\n",
      "['txt', 'location']  -  Belo Horizonte - MG\n"
     ]
    }
   ],
   "source": [
    "for info in infos:\n",
    "    print(info.get('class')[0].split('-'), ' - ',info.getText())"
   ]
  },
  {
   "cell_type": "code",
   "execution_count": 81,
   "metadata": {},
   "outputs": [
    {
     "name": "stdout",
     "output_type": "stream",
     "text": [
      "name  -  LAMBORGHINI AVENTADOR\n",
      "category  -  USADO\n",
      "motor  -  Motor 1.8 16v\n",
      "description  -  Ano 1993 - 55.286 km\n",
      "location  -  Belo Horizonte - MG\n"
     ]
    }
   ],
   "source": [
    "for info in infos:\n",
    "    print(info.get('class')[0].split('-')[-1], ' - ',info.getText())"
   ]
  },
  {
   "cell_type": "code",
   "execution_count": 82,
   "metadata": {},
   "outputs": [],
   "source": [
    "for info in infos:\n",
    "    card[info.get('class')[0].split('-')[-1]] = info.getText()"
   ]
  },
  {
   "cell_type": "code",
   "execution_count": 83,
   "metadata": {},
   "outputs": [
    {
     "data": {
      "text/plain": [
       "{'value': 'R$ 338.000',\n",
       " 'name': 'LAMBORGHINI AVENTADOR',\n",
       " 'category': 'USADO',\n",
       " 'motor': 'Motor 1.8 16v',\n",
       " 'description': 'Ano 1993 - 55.286 km',\n",
       " 'location': 'Belo Horizonte - MG'}"
      ]
     },
     "execution_count": 83,
     "metadata": {},
     "output_type": "execute_result"
    }
   ],
   "source": [
    "card"
   ]
  },
  {
   "cell_type": "markdown",
   "metadata": {},
   "source": [
    "### <font color=red>Resumo"
   ]
  },
  {
   "cell_type": "code",
   "execution_count": 84,
   "metadata": {},
   "outputs": [],
   "source": [
    "# Informações\n",
    "infos = anuncio.find('div', {'class':'body-card'}).findAll('p')\n",
    "for info in infos:\n",
    "    card[info.get('class')[0].split('-')[-1]] = info.getText()"
   ]
  },
  {
   "cell_type": "markdown",
   "metadata": {},
   "source": [
    "# 5.4. Obtendo os ACESSÓRIOS do veículo anunciado"
   ]
  },
  {
   "cell_type": "code",
   "execution_count": 89,
   "metadata": {},
   "outputs": [
    {
     "data": {
      "text/plain": [
       "[<li class=\"txt-items\">► 4 X 4</li>,\n",
       " <li class=\"txt-items\">► Câmera de estacionamento</li>,\n",
       " <li class=\"txt-items\">► Controle de tração</li>,\n",
       " <li class=\"txt-items\">► Sensor de estacionamento</li>,\n",
       " <li class=\"txt-items\">...</li>]"
      ]
     },
     "execution_count": 89,
     "metadata": {},
     "output_type": "execute_result"
    }
   ],
   "source": [
    "anuncio.find('div', {'class':'body-card'}).find('ul').findAll('li')"
   ]
  },
  {
   "cell_type": "code",
   "execution_count": 90,
   "metadata": {},
   "outputs": [
    {
     "data": {
      "text/plain": [
       "[<li class=\"txt-items\">► 4 X 4</li>,\n",
       " <li class=\"txt-items\">► Câmera de estacionamento</li>,\n",
       " <li class=\"txt-items\">► Controle de tração</li>,\n",
       " <li class=\"txt-items\">► Sensor de estacionamento</li>,\n",
       " <li class=\"txt-items\">...</li>]"
      ]
     },
     "execution_count": 90,
     "metadata": {},
     "output_type": "execute_result"
    }
   ],
   "source": [
    "items = anuncio.find('div', {'class':'body-card'}).find('ul').findAll('li')\n",
    "items"
   ]
  },
  {
   "cell_type": "code",
   "execution_count": 91,
   "metadata": {},
   "outputs": [
    {
     "data": {
      "text/plain": [
       "<li class=\"txt-items\">...</li>"
      ]
     },
     "execution_count": 91,
     "metadata": {},
     "output_type": "execute_result"
    }
   ],
   "source": [
    "items.pop()"
   ]
  },
  {
   "cell_type": "code",
   "execution_count": 92,
   "metadata": {},
   "outputs": [
    {
     "data": {
      "text/plain": [
       "[<li class=\"txt-items\">► 4 X 4</li>,\n",
       " <li class=\"txt-items\">► Câmera de estacionamento</li>,\n",
       " <li class=\"txt-items\">► Controle de tração</li>,\n",
       " <li class=\"txt-items\">► Sensor de estacionamento</li>]"
      ]
     },
     "execution_count": 92,
     "metadata": {},
     "output_type": "execute_result"
    }
   ],
   "source": [
    "items"
   ]
  },
  {
   "cell_type": "code",
   "execution_count": 94,
   "metadata": {},
   "outputs": [
    {
     "name": "stdout",
     "output_type": "stream",
     "text": [
      " 4 X 4\n",
      " Câmera de estacionamento\n",
      " Controle de tração\n",
      " Sensor de estacionamento\n"
     ]
    }
   ],
   "source": [
    "for item in items:\n",
    "    print(item.getText().replace('►',''))"
   ]
  },
  {
   "cell_type": "code",
   "execution_count": 97,
   "metadata": {},
   "outputs": [
    {
     "data": {
      "text/plain": [
       "[' 4 X 4',\n",
       " ' Câmera de estacionamento',\n",
       " ' Controle de tração',\n",
       " ' Sensor de estacionamento']"
      ]
     },
     "execution_count": 97,
     "metadata": {},
     "output_type": "execute_result"
    }
   ],
   "source": [
    "acessorios = []\n",
    "for item in items:\n",
    "    acessorios.append(item.getText().replace('►',''))\n",
    "acessorios"
   ]
  },
  {
   "cell_type": "code",
   "execution_count": 98,
   "metadata": {},
   "outputs": [],
   "source": [
    "card['items'] = acessorios"
   ]
  },
  {
   "cell_type": "code",
   "execution_count": 99,
   "metadata": {},
   "outputs": [
    {
     "data": {
      "text/plain": [
       "{'value': 'R$ 338.000',\n",
       " 'name': 'LAMBORGHINI AVENTADOR',\n",
       " 'category': 'USADO',\n",
       " 'motor': 'Motor 1.8 16v',\n",
       " 'description': 'Ano 1993 - 55.286 km',\n",
       " 'location': 'Belo Horizonte - MG',\n",
       " 'items': [' 4 X 4',\n",
       "  ' Câmera de estacionamento',\n",
       "  ' Controle de tração',\n",
       "  ' Sensor de estacionamento']}"
      ]
     },
     "execution_count": 99,
     "metadata": {},
     "output_type": "execute_result"
    }
   ],
   "source": [
    "card"
   ]
  },
  {
   "cell_type": "markdown",
   "metadata": {},
   "source": [
    "### <font color=red>Resumo"
   ]
  },
  {
   "cell_type": "code",
   "execution_count": 100,
   "metadata": {},
   "outputs": [],
   "source": [
    "# Acessórios\n",
    "items = anuncio.find('div', {'class':'body-card'}).find('ul').findAll('li')\n",
    "items.pop()\n",
    "acessorios = []\n",
    "for item in items:\n",
    "    acessorios.append(item.getText().replace('►',''))\n",
    "card['items'] = acessorios"
   ]
  },
  {
   "cell_type": "markdown",
   "metadata": {},
   "source": [
    "# 5.5 Criando um DataFrame com os dados coletados do Alura Motors"
   ]
  },
  {
   "cell_type": "code",
   "execution_count": 101,
   "metadata": {},
   "outputs": [
    {
     "data": {
      "text/plain": [
       "{'value': 'R$ 338.000',\n",
       " 'name': 'LAMBORGHINI AVENTADOR',\n",
       " 'category': 'USADO',\n",
       " 'motor': 'Motor 1.8 16v',\n",
       " 'description': 'Ano 1993 - 55.286 km',\n",
       " 'location': 'Belo Horizonte - MG',\n",
       " 'items': [' 4 X 4',\n",
       "  ' Câmera de estacionamento',\n",
       "  ' Controle de tração',\n",
       "  ' Sensor de estacionamento']}"
      ]
     },
     "execution_count": 101,
     "metadata": {},
     "output_type": "execute_result"
    }
   ],
   "source": [
    "card"
   ]
  },
  {
   "cell_type": "code",
   "execution_count": 102,
   "metadata": {},
   "outputs": [],
   "source": [
    "import pandas as pd"
   ]
  },
  {
   "cell_type": "code",
   "execution_count": 103,
   "metadata": {},
   "outputs": [],
   "source": [
    "dataset = pd.DataFrame(card)"
   ]
  },
  {
   "cell_type": "code",
   "execution_count": 104,
   "metadata": {},
   "outputs": [
    {
     "data": {
      "text/html": [
       "<div>\n",
       "<style scoped>\n",
       "    .dataframe tbody tr th:only-of-type {\n",
       "        vertical-align: middle;\n",
       "    }\n",
       "\n",
       "    .dataframe tbody tr th {\n",
       "        vertical-align: top;\n",
       "    }\n",
       "\n",
       "    .dataframe thead th {\n",
       "        text-align: right;\n",
       "    }\n",
       "</style>\n",
       "<table border=\"1\" class=\"dataframe\">\n",
       "  <thead>\n",
       "    <tr style=\"text-align: right;\">\n",
       "      <th></th>\n",
       "      <th>value</th>\n",
       "      <th>name</th>\n",
       "      <th>category</th>\n",
       "      <th>motor</th>\n",
       "      <th>description</th>\n",
       "      <th>location</th>\n",
       "      <th>items</th>\n",
       "    </tr>\n",
       "  </thead>\n",
       "  <tbody>\n",
       "    <tr>\n",
       "      <th>0</th>\n",
       "      <td>R$ 338.000</td>\n",
       "      <td>LAMBORGHINI AVENTADOR</td>\n",
       "      <td>USADO</td>\n",
       "      <td>Motor 1.8 16v</td>\n",
       "      <td>Ano 1993 - 55.286 km</td>\n",
       "      <td>Belo Horizonte - MG</td>\n",
       "      <td>4 X 4</td>\n",
       "    </tr>\n",
       "    <tr>\n",
       "      <th>1</th>\n",
       "      <td>R$ 338.000</td>\n",
       "      <td>LAMBORGHINI AVENTADOR</td>\n",
       "      <td>USADO</td>\n",
       "      <td>Motor 1.8 16v</td>\n",
       "      <td>Ano 1993 - 55.286 km</td>\n",
       "      <td>Belo Horizonte - MG</td>\n",
       "      <td>Câmera de estacionamento</td>\n",
       "    </tr>\n",
       "    <tr>\n",
       "      <th>2</th>\n",
       "      <td>R$ 338.000</td>\n",
       "      <td>LAMBORGHINI AVENTADOR</td>\n",
       "      <td>USADO</td>\n",
       "      <td>Motor 1.8 16v</td>\n",
       "      <td>Ano 1993 - 55.286 km</td>\n",
       "      <td>Belo Horizonte - MG</td>\n",
       "      <td>Controle de tração</td>\n",
       "    </tr>\n",
       "    <tr>\n",
       "      <th>3</th>\n",
       "      <td>R$ 338.000</td>\n",
       "      <td>LAMBORGHINI AVENTADOR</td>\n",
       "      <td>USADO</td>\n",
       "      <td>Motor 1.8 16v</td>\n",
       "      <td>Ano 1993 - 55.286 km</td>\n",
       "      <td>Belo Horizonte - MG</td>\n",
       "      <td>Sensor de estacionamento</td>\n",
       "    </tr>\n",
       "  </tbody>\n",
       "</table>\n",
       "</div>"
      ],
      "text/plain": [
       "        value                   name category          motor  \\\n",
       "0  R$ 338.000  LAMBORGHINI AVENTADOR    USADO  Motor 1.8 16v   \n",
       "1  R$ 338.000  LAMBORGHINI AVENTADOR    USADO  Motor 1.8 16v   \n",
       "2  R$ 338.000  LAMBORGHINI AVENTADOR    USADO  Motor 1.8 16v   \n",
       "3  R$ 338.000  LAMBORGHINI AVENTADOR    USADO  Motor 1.8 16v   \n",
       "\n",
       "            description             location                      items  \n",
       "0  Ano 1993 - 55.286 km  Belo Horizonte - MG                      4 X 4  \n",
       "1  Ano 1993 - 55.286 km  Belo Horizonte - MG   Câmera de estacionamento  \n",
       "2  Ano 1993 - 55.286 km  Belo Horizonte - MG         Controle de tração  \n",
       "3  Ano 1993 - 55.286 km  Belo Horizonte - MG   Sensor de estacionamento  "
      ]
     },
     "execution_count": 104,
     "metadata": {},
     "output_type": "execute_result"
    }
   ],
   "source": [
    "dataset"
   ]
  },
  {
   "cell_type": "code",
   "execution_count": 105,
   "metadata": {},
   "outputs": [
    {
     "data": {
      "text/html": [
       "<div>\n",
       "<style scoped>\n",
       "    .dataframe tbody tr th:only-of-type {\n",
       "        vertical-align: middle;\n",
       "    }\n",
       "\n",
       "    .dataframe tbody tr th {\n",
       "        vertical-align: top;\n",
       "    }\n",
       "\n",
       "    .dataframe thead th {\n",
       "        text-align: right;\n",
       "    }\n",
       "</style>\n",
       "<table border=\"1\" class=\"dataframe\">\n",
       "  <thead>\n",
       "    <tr style=\"text-align: right;\">\n",
       "      <th></th>\n",
       "      <th>0</th>\n",
       "    </tr>\n",
       "  </thead>\n",
       "  <tbody>\n",
       "    <tr>\n",
       "      <th>value</th>\n",
       "      <td>R$ 338.000</td>\n",
       "    </tr>\n",
       "    <tr>\n",
       "      <th>name</th>\n",
       "      <td>LAMBORGHINI AVENTADOR</td>\n",
       "    </tr>\n",
       "    <tr>\n",
       "      <th>category</th>\n",
       "      <td>USADO</td>\n",
       "    </tr>\n",
       "    <tr>\n",
       "      <th>motor</th>\n",
       "      <td>Motor 1.8 16v</td>\n",
       "    </tr>\n",
       "    <tr>\n",
       "      <th>description</th>\n",
       "      <td>Ano 1993 - 55.286 km</td>\n",
       "    </tr>\n",
       "    <tr>\n",
       "      <th>location</th>\n",
       "      <td>Belo Horizonte - MG</td>\n",
       "    </tr>\n",
       "    <tr>\n",
       "      <th>items</th>\n",
       "      <td>[ 4 X 4,  Câmera de estacionamento,  Controle ...</td>\n",
       "    </tr>\n",
       "  </tbody>\n",
       "</table>\n",
       "</div>"
      ],
      "text/plain": [
       "                                                             0\n",
       "value                                               R$ 338.000\n",
       "name                                     LAMBORGHINI AVENTADOR\n",
       "category                                                 USADO\n",
       "motor                                            Motor 1.8 16v\n",
       "description                               Ano 1993 - 55.286 km\n",
       "location                                   Belo Horizonte - MG\n",
       "items        [ 4 X 4,  Câmera de estacionamento,  Controle ..."
      ]
     },
     "execution_count": 105,
     "metadata": {},
     "output_type": "execute_result"
    }
   ],
   "source": [
    "dataset = pd.DataFrame.from_dict(card,orient='index')\n",
    "dataset"
   ]
  },
  {
   "cell_type": "code",
   "execution_count": 106,
   "metadata": {},
   "outputs": [
    {
     "data": {
      "text/html": [
       "<div>\n",
       "<style scoped>\n",
       "    .dataframe tbody tr th:only-of-type {\n",
       "        vertical-align: middle;\n",
       "    }\n",
       "\n",
       "    .dataframe tbody tr th {\n",
       "        vertical-align: top;\n",
       "    }\n",
       "\n",
       "    .dataframe thead th {\n",
       "        text-align: right;\n",
       "    }\n",
       "</style>\n",
       "<table border=\"1\" class=\"dataframe\">\n",
       "  <thead>\n",
       "    <tr style=\"text-align: right;\">\n",
       "      <th></th>\n",
       "      <th>value</th>\n",
       "      <th>name</th>\n",
       "      <th>category</th>\n",
       "      <th>motor</th>\n",
       "      <th>description</th>\n",
       "      <th>location</th>\n",
       "      <th>items</th>\n",
       "    </tr>\n",
       "  </thead>\n",
       "  <tbody>\n",
       "    <tr>\n",
       "      <th>0</th>\n",
       "      <td>R$ 338.000</td>\n",
       "      <td>LAMBORGHINI AVENTADOR</td>\n",
       "      <td>USADO</td>\n",
       "      <td>Motor 1.8 16v</td>\n",
       "      <td>Ano 1993 - 55.286 km</td>\n",
       "      <td>Belo Horizonte - MG</td>\n",
       "      <td>[ 4 X 4,  Câmera de estacionamento,  Controle ...</td>\n",
       "    </tr>\n",
       "  </tbody>\n",
       "</table>\n",
       "</div>"
      ],
      "text/plain": [
       "        value                   name category          motor  \\\n",
       "0  R$ 338.000  LAMBORGHINI AVENTADOR    USADO  Motor 1.8 16v   \n",
       "\n",
       "            description             location  \\\n",
       "0  Ano 1993 - 55.286 km  Belo Horizonte - MG   \n",
       "\n",
       "                                               items  \n",
       "0  [ 4 X 4,  Câmera de estacionamento,  Controle ...  "
      ]
     },
     "execution_count": 106,
     "metadata": {},
     "output_type": "execute_result"
    }
   ],
   "source": [
    "dataset = pd.DataFrame.from_dict(card,orient='index').T\n",
    "dataset"
   ]
  },
  {
   "cell_type": "code",
   "execution_count": 108,
   "metadata": {},
   "outputs": [],
   "source": [
    "dataset.to_csv('dataset.csv',sep=';',index=False,encoding='utf-8-sig')"
   ]
  },
  {
   "cell_type": "code",
   "execution_count": null,
   "metadata": {},
   "outputs": [],
   "source": []
  },
  {
   "cell_type": "markdown",
   "metadata": {},
   "source": [
    "# 5.6. Obtendo a FOTO do anúncio"
   ]
  },
  {
   "cell_type": "code",
   "execution_count": 109,
   "metadata": {},
   "outputs": [
    {
     "data": {
      "text/plain": [
       "<img alt=\"Foto\" height=\"155\" src=\"https://caelum-online-public.s3.amazonaws.com/1381-scraping/01/img-cars/lamborghini-aventador/lamborghini-aventador-2932196__340.jpg\" width=\"220\"/>"
      ]
     },
     "execution_count": 109,
     "metadata": {},
     "output_type": "execute_result"
    }
   ],
   "source": [
    "image = anuncio.find('div', {'class':'image-card'}).img\n",
    "image"
   ]
  },
  {
   "cell_type": "code",
   "execution_count": 110,
   "metadata": {},
   "outputs": [
    {
     "data": {
      "text/plain": [
       "'https://caelum-online-public.s3.amazonaws.com/1381-scraping/01/img-cars/lamborghini-aventador/lamborghini-aventador-2932196__340.jpg'"
      ]
     },
     "execution_count": 110,
     "metadata": {},
     "output_type": "execute_result"
    }
   ],
   "source": [
    "image.get('src')"
   ]
  },
  {
   "cell_type": "code",
   "execution_count": 111,
   "metadata": {},
   "outputs": [
    {
     "name": "stdout",
     "output_type": "stream",
     "text": [
      "https://caelum-online-public.s3.amazonaws.com/1381-scraping/01/img-cars/lamborghini-aventador/lamborghini-aventador-2932196__340.jpg\n"
     ]
    }
   ],
   "source": [
    "print(image.get('src'))"
   ]
  },
  {
   "cell_type": "markdown",
   "metadata": {},
   "source": [
    "### Visualizando a FOTO no notebook (extra)"
   ]
  },
  {
   "cell_type": "code",
   "execution_count": 114,
   "metadata": {},
   "outputs": [
    {
     "data": {
      "text/html": [
       "<img alt=\"Foto\" height=\"155\" src=\"https://caelum-online-public.s3.amazonaws.com/1381-scraping/01/img-cars/lamborghini-aventador/lamborghini-aventador-2932196__340.jpg\" width=\"220\"/>"
      ],
      "text/plain": [
       "<IPython.core.display.HTML object>"
      ]
     },
     "metadata": {},
     "output_type": "display_data"
    }
   ],
   "source": [
    "from IPython.core.display import display, HTML\n",
    "\n",
    "display(HTML(str(anuncio.find('div',{'class':'image-card'}).img)))"
   ]
  },
  {
   "cell_type": "code",
   "execution_count": 119,
   "metadata": {},
   "outputs": [
    {
     "data": {
      "text/html": [
       "<img src=https://caelum-online-public.s3.amazonaws.com/1381-scraping/01/img-cars/lamborghini-aventador/lamborghini-aventador-2932196__340.jpg>"
      ],
      "text/plain": [
       "<IPython.core.display.HTML object>"
      ]
     },
     "metadata": {},
     "output_type": "display_data"
    }
   ],
   "source": [
    "display(HTML('<img src='+anuncio.find('div',{'class':'image-card'}).img.get('src')+'>'))"
   ]
  },
  {
   "cell_type": "markdown",
   "metadata": {},
   "source": [
    "### Rotina para acessar e salvar a FOTO do anúncio"
   ]
  },
  {
   "cell_type": "markdown",
   "metadata": {},
   "source": [
    "## https://docs.python.org/3/library/urllib.request.html#urllib.request.urlretrieve"
   ]
  },
  {
   "cell_type": "code",
   "execution_count": null,
   "metadata": {},
   "outputs": [],
   "source": []
  },
  {
   "cell_type": "code",
   "execution_count": null,
   "metadata": {},
   "outputs": [],
   "source": [
    "from urllib.request import urlretrieve\n",
    "\n",
    "urlretrieve(image.get('src'),)"
   ]
  },
  {
   "cell_type": "markdown",
   "metadata": {},
   "source": [
    "### <font color=red>Resumo"
   ]
  },
  {
   "cell_type": "code",
   "execution_count": null,
   "metadata": {},
   "outputs": [],
   "source": []
  },
  {
   "cell_type": "markdown",
   "metadata": {},
   "source": [
    "# <font color=green>6. WEB SCRAPING DO SITE ALURA MOTORS - OBTENDO OS DADOS DE TODOS OS ANÚNCIOS DE UMA PÁGINA"
   ]
  },
  {
   "cell_type": "markdown",
   "metadata": {},
   "source": [
    "# 6.1. Identificando as informações no HTML"
   ]
  },
  {
   "cell_type": "code",
   "execution_count": null,
   "metadata": {
    "scrolled": true
   },
   "outputs": [],
   "source": []
  },
  {
   "cell_type": "code",
   "execution_count": null,
   "metadata": {
    "scrolled": true
   },
   "outputs": [],
   "source": []
  },
  {
   "cell_type": "code",
   "execution_count": null,
   "metadata": {
    "scrolled": true
   },
   "outputs": [],
   "source": []
  },
  {
   "cell_type": "markdown",
   "metadata": {},
   "source": [
    "# 6.2. Criando uma rotina de scraping"
   ]
  },
  {
   "cell_type": "code",
   "execution_count": null,
   "metadata": {},
   "outputs": [],
   "source": []
  },
  {
   "cell_type": "code",
   "execution_count": null,
   "metadata": {},
   "outputs": [],
   "source": []
  },
  {
   "cell_type": "markdown",
   "metadata": {},
   "source": [
    "# <font color=green>7. WEB SCRAPING DO SITE ALURA MOTORS - OBTENDO OS DADOS DE TODOS OS ANÚNCIOS DO SITE"
   ]
  },
  {
   "cell_type": "markdown",
   "metadata": {},
   "source": [
    "# 7.1. Identificando as informações no HTML"
   ]
  },
  {
   "cell_type": "code",
   "execution_count": null,
   "metadata": {},
   "outputs": [],
   "source": []
  },
  {
   "cell_type": "code",
   "execution_count": null,
   "metadata": {
    "scrolled": true
   },
   "outputs": [],
   "source": []
  },
  {
   "cell_type": "code",
   "execution_count": null,
   "metadata": {},
   "outputs": [],
   "source": []
  },
  {
   "cell_type": "code",
   "execution_count": null,
   "metadata": {},
   "outputs": [],
   "source": []
  },
  {
   "cell_type": "code",
   "execution_count": null,
   "metadata": {},
   "outputs": [],
   "source": []
  },
  {
   "cell_type": "markdown",
   "metadata": {},
   "source": [
    "# 7.2. Criando uma rotina de scraping"
   ]
  },
  {
   "cell_type": "code",
   "execution_count": null,
   "metadata": {
    "scrolled": true
   },
   "outputs": [],
   "source": []
  },
  {
   "cell_type": "code",
   "execution_count": null,
   "metadata": {},
   "outputs": [],
   "source": []
  },
  {
   "cell_type": "code",
   "execution_count": null,
   "metadata": {},
   "outputs": [],
   "source": []
  },
  {
   "cell_type": "code",
   "execution_count": null,
   "metadata": {},
   "outputs": [],
   "source": []
  }
 ],
 "metadata": {
  "colab": {
   "name": "Untitled12.ipynb",
   "provenance": [],
   "version": "0.3.2"
  },
  "kernelspec": {
   "display_name": "Python 3",
   "language": "python",
   "name": "python3"
  },
  "language_info": {
   "codemirror_mode": {
    "name": "ipython",
    "version": 3
   },
   "file_extension": ".py",
   "mimetype": "text/x-python",
   "name": "python",
   "nbconvert_exporter": "python",
   "pygments_lexer": "ipython3",
   "version": "3.7.3"
  }
 },
 "nbformat": 4,
 "nbformat_minor": 1
}

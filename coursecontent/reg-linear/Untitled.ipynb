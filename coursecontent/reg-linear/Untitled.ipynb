{
 "cells": [
  {
   "cell_type": "code",
   "execution_count": 1,
   "metadata": {},
   "outputs": [
    {
     "name": "stdout",
     "output_type": "stream",
     "text": [
      "hello world\n"
     ]
    }
   ],
   "source": [
    "print('hello world')"
   ]
  },
  {
   "cell_type": "code",
   "execution_count": 57,
   "metadata": {},
   "outputs": [],
   "source": [
    "from random import random, randint\n",
    "lista = [0,1,2]\n",
    "i = 0\n",
    "j=0\n",
    "for i in range(100):\n",
    "    j=+1\n",
    "    lista.append(randint(-100,100)+random())"
   ]
  },
  {
   "cell_type": "code",
   "execution_count": 58,
   "metadata": {},
   "outputs": [],
   "source": [
    "Thiago,Mateus,Rafael = 0,0,0\n",
    "lista1 = ['Thiago','Mateus','Rafael']\n",
    "createlist(Thiago,-20,20)\n",
    "createlist(Mateus,-50,50)\n",
    "createlist(Rafael,-40,100)\n",
    "arranjo = [Thiago,Mateus,Rafael]"
   ]
  },
  {
   "cell_type": "code",
   "execution_count": 59,
   "metadata": {},
   "outputs": [
    {
     "name": "stdout",
     "output_type": "stream",
     "text": [
      "0\n"
     ]
    }
   ],
   "source": [
    "print(Thiago)"
   ]
  },
  {
   "cell_type": "code",
   "execution_count": 60,
   "metadata": {},
   "outputs": [],
   "source": [
    "import pandas as pd"
   ]
  },
  {
   "cell_type": "code",
   "execution_count": 65,
   "metadata": {},
   "outputs": [
    {
     "data": {
      "text/html": [
       "<div>\n",
       "<style scoped>\n",
       "    .dataframe tbody tr th:only-of-type {\n",
       "        vertical-align: middle;\n",
       "    }\n",
       "\n",
       "    .dataframe tbody tr th {\n",
       "        vertical-align: top;\n",
       "    }\n",
       "\n",
       "    .dataframe thead th {\n",
       "        text-align: right;\n",
       "    }\n",
       "</style>\n",
       "<table border=\"1\" class=\"dataframe\">\n",
       "  <thead>\n",
       "    <tr style=\"text-align: right;\">\n",
       "      <th></th>\n",
       "      <th>0</th>\n",
       "    </tr>\n",
       "  </thead>\n",
       "  <tbody>\n",
       "    <tr>\n",
       "      <td>0.000000</td>\n",
       "      <td>0.000000</td>\n",
       "    </tr>\n",
       "    <tr>\n",
       "      <td>1.000000</td>\n",
       "      <td>1.000000</td>\n",
       "    </tr>\n",
       "    <tr>\n",
       "      <td>2.000000</td>\n",
       "      <td>2.000000</td>\n",
       "    </tr>\n",
       "    <tr>\n",
       "      <td>-81.753207</td>\n",
       "      <td>-81.753207</td>\n",
       "    </tr>\n",
       "    <tr>\n",
       "      <td>-4.737156</td>\n",
       "      <td>-4.737156</td>\n",
       "    </tr>\n",
       "    <tr>\n",
       "      <td>...</td>\n",
       "      <td>...</td>\n",
       "    </tr>\n",
       "    <tr>\n",
       "      <td>76.646729</td>\n",
       "      <td>76.646729</td>\n",
       "    </tr>\n",
       "    <tr>\n",
       "      <td>-87.779195</td>\n",
       "      <td>-87.779195</td>\n",
       "    </tr>\n",
       "    <tr>\n",
       "      <td>65.879362</td>\n",
       "      <td>65.879362</td>\n",
       "    </tr>\n",
       "    <tr>\n",
       "      <td>77.948768</td>\n",
       "      <td>77.948768</td>\n",
       "    </tr>\n",
       "    <tr>\n",
       "      <td>80.281744</td>\n",
       "      <td>80.281744</td>\n",
       "    </tr>\n",
       "  </tbody>\n",
       "</table>\n",
       "<p>103 rows × 1 columns</p>\n",
       "</div>"
      ],
      "text/plain": [
       "                    0\n",
       " 0.000000    0.000000\n",
       " 1.000000    1.000000\n",
       " 2.000000    2.000000\n",
       "-81.753207 -81.753207\n",
       "-4.737156   -4.737156\n",
       "...               ...\n",
       " 76.646729  76.646729\n",
       "-87.779195 -87.779195\n",
       " 65.879362  65.879362\n",
       " 77.948768  77.948768\n",
       " 80.281744  80.281744\n",
       "\n",
       "[103 rows x 1 columns]"
      ]
     },
     "execution_count": 65,
     "metadata": {},
     "output_type": "execute_result"
    }
   ],
   "source": [
    "pd.DataFrame(lista,lista)"
   ]
  },
  {
   "cell_type": "code",
   "execution_count": null,
   "metadata": {},
   "outputs": [],
   "source": []
  }
 ],
 "metadata": {
  "kernelspec": {
   "display_name": "Python 3",
   "language": "python",
   "name": "python3"
  },
  "language_info": {
   "codemirror_mode": {
    "name": "ipython",
    "version": 3
   },
   "file_extension": ".py",
   "mimetype": "text/x-python",
   "name": "python",
   "nbconvert_exporter": "python",
   "pygments_lexer": "ipython3",
   "version": "3.7.4"
  }
 },
 "nbformat": 4,
 "nbformat_minor": 2
}
